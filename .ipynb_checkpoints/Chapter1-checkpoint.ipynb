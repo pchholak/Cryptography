{
 "cells": [
  {
   "cell_type": "markdown",
   "metadata": {},
   "source": [
    "# Question 2\n",
    "Find most common digraphs in a latin based alphabet"
   ]
  },
  {
   "cell_type": "code",
   "execution_count": null,
   "metadata": {},
   "outputs": [],
   "source": [
    "import nltk\n",
    "from nltk.corpus import gutenberg\n",
    "from nltk.corpus import indian\n",
    "from nltk import bigrams, trigrams"
   ]
  },
  {
   "cell_type": "code",
   "execution_count": null,
   "metadata": {},
   "outputs": [],
   "source": [
    "files = gutenberg.fileids()\n",
    "files"
   ]
  },
  {
   "cell_type": "code",
   "execution_count": null,
   "metadata": {},
   "outputs": [],
   "source": [
    "file_shakespeare = []\n",
    "for file in files:\n",
    "    if 'shakespeare' in file:\n",
    "        print(file)\n",
    "        file_shakespeare.append(file)"
   ]
  },
  {
   "cell_type": "code",
   "execution_count": null,
   "metadata": {},
   "outputs": [],
   "source": [
    "words = gutenberg.words(file_shakespeare)\n",
    "len(words)"
   ]
  },
  {
   "cell_type": "code",
   "execution_count": null,
   "metadata": {},
   "outputs": [],
   "source": [
    "latin = 'abcdefghijklmnopqrstuvwxyz'\n",
    "chars = ''.join(words).lower()\n",
    "alphabets = []\n",
    "for char in chars:\n",
    "    if char in latin:\n",
    "        alphabets.append(char)"
   ]
  },
  {
   "cell_type": "code",
   "execution_count": null,
   "metadata": {},
   "outputs": [],
   "source": [
    "alphabets"
   ]
  },
  {
   "cell_type": "code",
   "execution_count": null,
   "metadata": {},
   "outputs": [],
   "source": [
    "digraphs = list(bigrams(alphabets))\n",
    "digraphs_set = set(digraphs)\n",
    "digraphs"
   ]
  },
  {
   "cell_type": "code",
   "execution_count": null,
   "metadata": {},
   "outputs": [],
   "source": [
    "fdist = nltk.FreqDist(digraphs)\n",
    "fdist.most_common()"
   ]
  },
  {
   "cell_type": "markdown",
   "metadata": {},
   "source": [
    "# Question 3\n",
    "Find most common digraphs in a latin based language"
   ]
  },
  {
   "cell_type": "code",
   "execution_count": null,
   "metadata": {},
   "outputs": [],
   "source": [
    "words = indian.words('hindi.pos')\n",
    "len(words)"
   ]
  },
  {
   "cell_type": "code",
   "execution_count": null,
   "metadata": {},
   "outputs": [],
   "source": [
    "chars = ''.join(words)\n",
    "chars"
   ]
  },
  {
   "cell_type": "code",
   "execution_count": null,
   "metadata": {},
   "outputs": [],
   "source": [
    "charset = list(set(chars))\n",
    "charset.sort()"
   ]
  },
  {
   "cell_type": "code",
   "execution_count": null,
   "metadata": {},
   "outputs": [],
   "source": [
    "chars_without_punctuations = charset[9:-11]\n",
    "nonlatinchars = ''.join(chars_without_punctuations)\n",
    "nonlatinchars"
   ]
  },
  {
   "cell_type": "code",
   "execution_count": null,
   "metadata": {},
   "outputs": [],
   "source": [
    "alphabets = []\n",
    "for char in chars:\n",
    "    if char in nonlatinchars:\n",
    "        alphabets.append(char)"
   ]
  },
  {
   "cell_type": "code",
   "execution_count": null,
   "metadata": {},
   "outputs": [],
   "source": [
    "trigraphs = list(trigrams(alphabets))\n",
    "trigraphs"
   ]
  },
  {
   "cell_type": "code",
   "execution_count": null,
   "metadata": {},
   "outputs": [],
   "source": [
    "fdist_tri = nltk.FreqDist(trigraphs)\n",
    "fdist_tri.most_common()"
   ]
  },
  {
   "cell_type": "markdown",
   "metadata": {},
   "source": [
    "# Question 4\n",
    "Use language dictionary to break single transposition cipher"
   ]
  },
  {
   "cell_type": "code",
   "execution_count": null,
   "metadata": {},
   "outputs": [],
   "source": [
    "Y = 'AKPKNLLALENLLNASYBWDYJAOONMODYROAHU'"
   ]
  },
  {
   "cell_type": "code",
   "execution_count": null,
   "metadata": {},
   "outputs": [],
   "source": [
    "import nltk\n",
    "from nltk.corpus import gutenberg\n",
    "from math import floor, ceil\n",
    "import numpy as np"
   ]
  },
  {
   "cell_type": "code",
   "execution_count": null,
   "metadata": {},
   "outputs": [],
   "source": [
    "files = gutenberg.fileids()\n",
    "file_shakespeare = []\n",
    "for file in files:\n",
    "    if 'shakespeare' in file:\n",
    "        print(file)\n",
    "        file_shakespeare.append(file)"
   ]
  },
  {
   "cell_type": "code",
   "execution_count": null,
   "metadata": {},
   "outputs": [],
   "source": [
    "words = gutenberg.words(file_shakespeare)\n",
    "len(words)"
   ]
  },
  {
   "cell_type": "code",
   "execution_count": null,
   "metadata": {},
   "outputs": [],
   "source": [
    "vocab = [word.lower() for word in set(words)]\n",
    "len(vocab)"
   ]
  },
  {
   "cell_type": "code",
   "execution_count": null,
   "metadata": {},
   "outputs": [],
   "source": [
    "def transpose_text(Y, key):\n",
    "    n = len(Y)\n",
    "    rows = ceil(n / key)\n",
    "    y_stripped = list(Y)\n",
    "    columns = []\n",
    "    for k in range(key-1):\n",
    "        column = y_stripped[k * rows : (k + 1) * rows]\n",
    "        columns.append(column)\n",
    "    last_column = y_stripped[(key - 1) * rows :]\n",
    "    empty_elts = rows - len(last_column)\n",
    "    for i in range(empty_elts):\n",
    "        last_column.append('')\n",
    "    columns.append(last_column)\n",
    "    trial = np.asarray(columns)\n",
    "    x_trial = []\n",
    "    for r in range(rows):\n",
    "        for k in range(key):\n",
    "            if trial[k][r]:\n",
    "                x_trial.append(trial[k][r])\n",
    "    x_trial_joined = ''.join(x_trial).lower()\n",
    "    return x_trial_joined"
   ]
  },
  {
   "cell_type": "code",
   "execution_count": null,
   "metadata": {},
   "outputs": [],
   "source": [
    "for key in range(1, 10):\n",
    "    X_key = transpose_text(Y, key)\n",
    "    word_cnt = 0\n",
    "    for word in vocab:\n",
    "        if word in X_key:\n",
    "            word_cnt += 1\n",
    "    print('For key = {}, Word count = {}'.format(key, word_cnt))"
   ]
  },
  {
   "cell_type": "markdown",
   "metadata": {},
   "source": [
    "# Question 5\n",
    "Kasiski's method for breaking Vigenère polyalphabetic cipher\n",
    "Hint: The first step should be producing a candidate list of numbers that could be the key\n",
    "length. Then, assuming that the underlying cipher is a Vigenère polyalphabetic\n",
    "cipher, attempt to break the ciphertext into multiple ciphertexts and perform a\n",
    "frequency analysis on each. The program should produce a reasonable guess to a\n",
    "certain selection of keys, as well as accompanying plaintexts. Use of a dictionary\n",
    "file is encouraged to increase the precision."
   ]
  },
  {
   "cell_type": "code",
   "execution_count": 8,
   "metadata": {},
   "outputs": [],
   "source": [
    "from nltk.corpus import PlaintextCorpusReader\n",
    "import numpy as np\n",
    "import os\n",
    "import nltk\n",
    "from nltk import bigrams, trigrams, ngrams"
   ]
  },
  {
   "cell_type": "code",
   "execution_count": 2,
   "metadata": {},
   "outputs": [],
   "source": [
    "# Function to encrypt using Vigenère cipher\n",
    "def encrypt_viginere(X, key):\n",
    "    # Given\n",
    "    charspace = 'abcdefghijklmnopqrstuvwxyz'\n",
    "    nkey = len(key)\n",
    "    \n",
    "    # Find alphabets' numerical positions\n",
    "    alphabets = {}\n",
    "    for i, alphabet in enumerate(charspace.strip()):\n",
    "        alphabets[alphabet] = i\n",
    "    \n",
    "    # Convert key into numeric form\n",
    "    k_num = []\n",
    "    for k in key:\n",
    "        for i, ktrial in enumerate(charspace.strip()):\n",
    "            if k == ktrial:\n",
    "                k_num.append(i)\n",
    "                \n",
    "    # Convert plaintext 'X' into numeric form\n",
    "    x_num = []\n",
    "    for c in list(X):\n",
    "        x_num.append(alphabets[c])\n",
    "    \n",
    "    # Add extra fake values to plaintext to match the size of integral multiple of keylength\n",
    "    n = len(X)\n",
    "    nfake = nkey - (n % nkey)\n",
    "    for i in range(nfake):\n",
    "        x_num.append(0)\n",
    "        \n",
    "    # Encrypt x_num using k_num\n",
    "    y_num = [0 for i in range(len(x_num))]\n",
    "    for i_x, c_num in enumerate(x_num):\n",
    "        for rem in range(nkey):\n",
    "            if i_x % nkey == rem:\n",
    "                y_num[i_x] = (x_num[i_x] + k_num[rem]) % 26\n",
    "    \n",
    "    # Delete extra fake values from y_num\n",
    "    if nfake>0:\n",
    "        del y_num[-nfake:]\n",
    "    \n",
    "    # Find inverse of Alphabets\n",
    "    alphabets_inv = {v: k for k, v in alphabets.items()}\n",
    "    \n",
    "    # Convert y_num to Y (Alphabets space)\n",
    "    y_stripped = []\n",
    "    for c_num in y_num:\n",
    "        y_stripped.append(alphabets_inv[c_num])\n",
    "        \n",
    "    # Return concatenated string\n",
    "    Y = ''.join(y_stripped)\n",
    "    return Y"
   ]
  },
  {
   "cell_type": "code",
   "execution_count": 3,
   "metadata": {},
   "outputs": [
    {
     "name": "stdout",
     "output_type": "stream",
     "text": [
      "twohouseholdsbothalikeindignityinfairveronawherewelayourscenefromancientgrudgebreaktonewmutinywherecivilbloodmakescivilhandsuncleanfromforththefatalloinsofthesetwofoesapairofstarcrossdloverstaketheirl\n"
     ]
    }
   ],
   "source": [
    "# Load plaintext 'X' and join to feed into encryption function\n",
    "corpus_root = 'C:/Users/Usuario/Python/Cryptanalysis/Corpus'\n",
    "wordlists = PlaintextCorpusReader(corpus_root, '.*')\n",
    "fname = wordlists.fileids()[0]\n",
    "even_tokens = wordlists.words(os.path.join(corpus_root, fname))\n",
    "X = ''.join(even_tokens)\n",
    "print(X)"
   ]
  },
  {
   "cell_type": "code",
   "execution_count": 6,
   "metadata": {},
   "outputs": [],
   "source": [
    "# Given\n",
    "key = 'romeo'"
   ]
  },
  {
   "cell_type": "code",
   "execution_count": 7,
   "metadata": {},
   "outputs": [
    {
     "data": {
      "text/plain": [
       "'kkalclgqlccrefckvmpwbsurrzuzmhpwzjozfhiffbmavvfqascoksiigoibvtdsarbomsehsviuuqffvowxcesiqikwzckysdiqzjuppccaharyqwqzjupvrbpwieqxioetdsawcdxvkvqjokoxpczbestkvqwskkajcvgmtozfajgkodgffgehzfjqvgkowihysuvz'"
      ]
     },
     "execution_count": 7,
     "metadata": {},
     "output_type": "execute_result"
    }
   ],
   "source": [
    "Y = encrypt_viginere(X, key)\n",
    "Y"
   ]
  },
  {
   "cell_type": "code",
   "execution_count": 12,
   "metadata": {},
   "outputs": [
    {
     "data": {
      "text/plain": [
       "[(('k', 'v'), 3),\n",
       " (('p', 'w'), 3),\n",
       " (('z', 'j'), 3),\n",
       " (('z', 'f'), 3),\n",
       " (('f', 'f'), 3)]"
      ]
     },
     "execution_count": 12,
     "metadata": {},
     "output_type": "execute_result"
    }
   ],
   "source": [
    "digraphs = bigrams(list(Y))\n",
    "fdist_2 = nltk.FreqDist(digraphs)\n",
    "fdist_2.most_common(5)"
   ]
  },
  {
   "cell_type": "code",
   "execution_count": 14,
   "metadata": {},
   "outputs": [
    {
     "data": {
      "text/plain": [
       "[(('k', 'k', 'a'), 2),\n",
       " (('o', 'z', 'f'), 2),\n",
       " (('t', 'd', 's'), 2),\n",
       " (('d', 's', 'a'), 2),\n",
       " (('q', 'z', 'j'), 2),\n",
       " (('z', 'j', 'u'), 2),\n",
       " (('j', 'u', 'p'), 2),\n",
       " (('k', 'v', 'q'), 2)]"
      ]
     },
     "execution_count": 14,
     "metadata": {},
     "output_type": "execute_result"
    }
   ],
   "source": [
    "trigraphs = trigrams(list(Y))\n",
    "fdist_3 = nltk.FreqDist(trigraphs)\n",
    "fdist_3.most_common(8)"
   ]
  },
  {
   "cell_type": "code",
   "execution_count": null,
   "metadata": {},
   "outputs": [],
   "source": []
  }
 ],
 "metadata": {
  "kernelspec": {
   "display_name": "Python 3",
   "language": "python",
   "name": "python3"
  },
  "language_info": {
   "codemirror_mode": {
    "name": "ipython",
    "version": 3
   },
   "file_extension": ".py",
   "mimetype": "text/x-python",
   "name": "python",
   "nbconvert_exporter": "python",
   "pygments_lexer": "ipython3",
   "version": "3.7.1"
  }
 },
 "nbformat": 4,
 "nbformat_minor": 4
}
