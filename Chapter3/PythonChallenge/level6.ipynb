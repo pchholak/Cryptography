{
 "cells": [
  {
   "cell_type": "code",
   "execution_count": 68,
   "metadata": {},
   "outputs": [],
   "source": [
    "from helper_functions import *\n",
    "from nltk import word_tokenize\n",
    "import re\n",
    "import zipfile"
   ]
  },
  {
   "cell_type": "code",
   "execution_count": 2,
   "metadata": {},
   "outputs": [],
   "source": [
    "home_url = \"http://www.pythonchallenge.com/pc/def/channel.html\""
   ]
  },
  {
   "cell_type": "code",
   "execution_count": 3,
   "metadata": {},
   "outputs": [
    {
     "name": "stdout",
     "output_type": "stream",
     "text": [
      "<html> <!-- <-- zip -->\n",
      "<head>\n",
      "  <title>now there are pairs</title>\n",
      "  <link rel=\"stylesheet\" type=\"text/css\" href=\"../style.css\">\n",
      "</head>\n",
      "<body>\n",
      "<center>\n",
      "<img src=\"channel.jpg\">\n",
      "<br/>\n",
      "<!-- The following has nothing to do with the riddle itself. I just\n",
      "thought it would be the right point to offer you to donate to the\n",
      "Python Challenge project. Any amount will be greatly appreciated.\n",
      "\n",
      "-thesamet\n",
      "-->\n",
      "\n",
      "<form action=\"https://www.paypal.com/cgi-bin/webscr\" method=\"post\">\n",
      "    <input type=\"hidden\" name=\"cmd\" value=\"_xclick\">\n",
      "    <input type=\"hidden\" name=\"business\" value=\"thesamet@gmail.com\">\n",
      "    <input type=\"hidden\" name=\"item_name\" value=\"Python Challenge donations\">\n",
      "    <input type=\"hidden\" name=\"no_note\" value=\"1\">\n",
      "    <input type=\"hidden\" name=\"currency_code\" value=\"USD\">\n",
      "    <input type=\"hidden\" name=\"tax\" value=\"0\">\n",
      "    <input type=\"hidden\" name=\"bn\" value=\"PP-DonationsBF\">\n",
      "    <input type=\"image\" src=\"https://www.paypal.com/en_US/i/btn/x-click-but04.gif\" border=\"0\" name=\"submit\" alt=\"Make payments with PayPal - it's fast, free and secure!\">\n",
      "    <img alt=\"\" border=\"0\" src=\"https://www.paypal.com/en_US/i/scr/pixel.gif\" width=\"1\" height=\"1\">\n",
      "</form>\n",
      "\n",
      "</body>\n",
      "</html>\n",
      "\n"
     ]
    }
   ],
   "source": [
    "html = get_page_source(home_url)\n",
    "print(html)"
   ]
  },
  {
   "cell_type": "code",
   "execution_count": 43,
   "metadata": {},
   "outputs": [],
   "source": [
    "try_url = \"http://www.pythonchallenge.com/pc/def/\" + \"channel.zip\"\n",
    "open_url(try_url)"
   ]
  },
  {
   "cell_type": "code",
   "execution_count": 77,
   "metadata": {},
   "outputs": [
    {
     "name": "stdout",
     "output_type": "stream",
     "text": [
      "****************************************************************\n",
      "****************************************************************\n",
      "**                                                            **\n",
      "**   OO    OO    XX      YYYY    GG    GG  EEEEEE NN      NN  **\n",
      "**   OO    OO  XXXXXX   YYYYYY   GG   GG   EEEEEE  NN    NN   **\n",
      "**   OO    OO XXX  XXX YYY   YY  GG GG     EE       NN  NN    **\n",
      "**   OOOOOOOO XX    XX YY        GGG       EEEEE     NNNN     **\n",
      "**   OOOOOOOO XX    XX YY        GGG       EEEEE      NN      **\n",
      "**   OO    OO XXX  XXX YYY   YY  GG GG     EE         NN      **\n",
      "**   OO    OO  XXXXXX   YYYYYY   GG   GG   EEEEEE     NN      **\n",
      "**   OO    OO    XX      YYYY    GG    GG  EEEEEE     NN      **\n",
      "**                                                            **\n",
      "****************************************************************\n",
      " **************************************************************\n",
      "\n"
     ]
    }
   ],
   "source": [
    "num = '90052'\n",
    "pattern = re.compile(\"Next nothing is (\\d+)\")\n",
    "fzip = zipfile.ZipFile(\"./channel.zip\")\n",
    "comments = []\n",
    "while True:\n",
    "    content = fzip.read(num + '.txt').decode('utf-8')\n",
    "#     print(content)\n",
    "    comments.append(fzip.getinfo(num + '.txt').comment.decode('utf-8'))\n",
    "    match = re.search(pattern, content)\n",
    "    if match == None:\n",
    "        break\n",
    "    num = match.group(1)\n",
    "print(''.join(comments))"
   ]
  },
  {
   "cell_type": "code",
   "execution_count": 59,
   "metadata": {},
   "outputs": [
    {
     "data": {
      "text/plain": [
       "'94191'"
      ]
     },
     "execution_count": 59,
     "metadata": {},
     "output_type": "execute_result"
    }
   ],
   "source": [
    "match.group(1)"
   ]
  },
  {
   "cell_type": "code",
   "execution_count": 79,
   "metadata": {},
   "outputs": [],
   "source": [
    "try_url = \"http://www.pythonchallenge.com/pc/def/\" + \"oxygen.html\"\n",
    "open_url(try_url)"
   ]
  },
  {
   "cell_type": "code",
   "execution_count": null,
   "metadata": {},
   "outputs": [],
   "source": []
  }
 ],
 "metadata": {
  "kernelspec": {
   "display_name": "Python 3",
   "language": "python",
   "name": "python3"
  },
  "language_info": {
   "codemirror_mode": {
    "name": "ipython",
    "version": 3
   },
   "file_extension": ".py",
   "mimetype": "text/x-python",
   "name": "python",
   "nbconvert_exporter": "python",
   "pygments_lexer": "ipython3",
   "version": "3.7.1"
  }
 },
 "nbformat": 4,
 "nbformat_minor": 4
}
