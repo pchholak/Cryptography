{
 "cells": [
  {
   "cell_type": "code",
   "execution_count": 4,
   "metadata": {},
   "outputs": [],
   "source": [
    "C = \"g fmnc wms bgblr rpylqjyrc gr zw fylb. rfyrq ufyr amknsrcpq ypc dmp. bmgle gr gl zw fylb gq glcddgagclr ylb rfyr'q ufw rfgq rcvr gq qm jmle. sqgle qrpgle.kyicrpylq() gq pcamkkclbcb. lmu ynnjw ml rfc spj.\""
   ]
  },
  {
   "cell_type": "code",
   "execution_count": null,
   "metadata": {},
   "outputs": [],
   "source": [
    "alphabets = 'abcdefghijklmnopqrstuvwxyz'\n",
    "alphabets_pos = {}\n",
    "for i, l in enumerate(alphabets):\n",
    "    alphabets_pos[l] = i"
   ]
  },
  {
   "cell_type": "code",
   "execution_count": 14,
   "metadata": {},
   "outputs": [
    {
     "data": {
      "text/plain": [
       "\"e\\x1edkla\\x1eukq\\x1e`e`jp\\x1epnwjohwpa\\x1eep\\x1exu\\x1edwj`,\\x1epdwpo\\x1esdwp\\x1e_kilqpano\\x1ewna\\x1ebkn,\\x1e`kejc\\x1eep\\x1eej\\x1exu\\x1edwj`\\x1eeo\\x1eejabbe_eajp\\x1ewj`\\x1epdwp%o\\x1esdu\\x1epdeo\\x1epatp\\x1eeo\\x1eok\\x1ehkjc,\\x1eqoejc\\x1eopnejc,iwgapnwjo&'\\x1eeo\\x1ena_kiiaj`a`,\\x1ejks\\x1ewllhu\\x1ekj\\x1epda\\x1eqnh,\""
      ]
     },
     "execution_count": 14,
     "metadata": {},
     "output_type": "execute_result"
    }
   ],
   "source": [
    "X = []\n",
    "for c in C:\n",
    "    # Assuming the encoding is in ASCII\n",
    "    X.append(chr(ord(c) - 2))\n",
    "''.join(X)"
   ]
  },
  {
   "cell_type": "code",
   "execution_count": null,
   "metadata": {},
   "outputs": [],
   "source": []
  }
 ],
 "metadata": {
  "kernelspec": {
   "display_name": "Python 3",
   "language": "python",
   "name": "python3"
  },
  "language_info": {
   "codemirror_mode": {
    "name": "ipython",
    "version": 3
   },
   "file_extension": ".py",
   "mimetype": "text/x-python",
   "name": "python",
   "nbconvert_exporter": "python",
   "pygments_lexer": "ipython3",
   "version": "3.7.1"
  }
 },
 "nbformat": 4,
 "nbformat_minor": 4
}
