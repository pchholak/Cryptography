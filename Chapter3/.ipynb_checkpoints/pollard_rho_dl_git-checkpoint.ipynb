{
 "cells": [
  {
   "cell_type": "markdown",
   "metadata": {},
   "source": [
    "This is a simple, yet straightforward implementation of Pollard's rho algorithm  \n",
    "for discrete logarithms. It computes X such that G^X = H mod P. P must be a safe  \n",
    "prime, such that there is a prime Q for which P = 2Q+1 holds true. The algorithm  \n",
    "was designed using a \"Hase/Igel\" (German: Rabbit/Hedgehog) approach. Meaning  \n",
    "there are two independent computations of Pollard's rho at different speeds. The  \n",
    "algorithm stops, when the slower \"Igel\" has overtaken the faster rabbit and their  \n",
    "X values are equal."
   ]
  },
  {
   "cell_type": "code",
   "execution_count": 6,
   "metadata": {},
   "outputs": [],
   "source": [
    "def ext_euclid(a, b):\n",
    "    \"\"\"\n",
    "    Extended Euclidean Algorithm\n",
    "    :param a:\n",
    "    :param b:\n",
    "    :return:\n",
    "    \"\"\"\n",
    "    if b == 0:\n",
    "        return a, 1, 0\n",
    "    else:\n",
    "        d, xx, yy = ext_euclid(b, a%b)\n",
    "        x = yy\n",
    "        y = xx - (a / b) * yy\n",
    "        return d, x, y\n",
    "    \n",
    "def inverse(a, n):\n",
    "    \"\"\"\n",
    "    Inverse of a in mod n\n",
    "    :param a:\n",
    "    :param n:\n",
    "    :return:\n",
    "    \"\"\"\n",
    "    return ext_euclid(a, n)[1]\n",
    "\n",
    "def xab(x, a, b, G, H, P, Q):\n",
    "    \"\"\"\n",
    "    Pollard Step\n",
    "    :param x:\n",
    "    :param a:\n",
    "    :param b:\n",
    "    :return:\n",
    "    \"\"\"\n",
    "    sub = x % 3 # Subsets\n",
    "    \n",
    "    if sub == 0:\n",
    "        x = x * G % P\n",
    "        a = (a + 1) % Q\n",
    "        \n",
    "    if sub == 1:\n",
    "        x = x * H % P\n",
    "        b = (b + 1) % Q\n",
    "        \n",
    "    if sub == 2:\n",
    "        x = x * x % P\n",
    "        a = a * 2 % Q\n",
    "        b = b * 2 % Q\n",
    "        \n",
    "    return x, a, b\n",
    "\n",
    "def pollard(G, H, P):\n",
    "    \n",
    "    # P: Prime\n",
    "    # H:\n",
    "    # G: Generator\n",
    "    Q = (P - 1) / 2  # subgroup\n",
    "    \n",
    "    x = G * H\n",
    "    a = 1\n",
    "    b = 1\n",
    "    \n",
    "    X = x\n",
    "    A = a\n",
    "    B = b\n",
    "    \n",
    "    for i in range(1, P):\n",
    "        # Hedgehog\n",
    "        x, a, b = xab(x, a, b, G, H, P, Q)\n",
    "        \n",
    "        # Rabbit\n",
    "        X, A, B = xab(X, A, B, G, H, P, Q)\n",
    "        X, A, B = xab(X, A, B, G, H, P, Q)\n",
    "        \n",
    "        if x == X:\n",
    "            break\n",
    "        \n",
    "    nom = a - A\n",
    "    denom = B - b\n",
    "    \n",
    "    print(nom, denom)\n",
    "    \n",
    "    # It is necessary to compute the inverse to properly compute the fraction mod q\n",
    "    res = (inverse(denom, Q) * nom) % Q\n",
    "    \n",
    "    # I know this is not good, but it does the job...\n",
    "    if verify(G, H, P, res):\n",
    "        return res\n",
    "    \n",
    "    return res + Q\n",
    "\n",
    "def verify(g, h, p, x):\n",
    "    \"\"\"\n",
    "    Verifies a given set of g, h, p and x\n",
    "    :param g: Generator\n",
    "    :param h:\n",
    "    :param p: Prime\n",
    "    :param x: Computed X\n",
    "    :return:\n",
    "    \"\"\"\n",
    "    print(g)\n",
    "    return x\n",
    "#     return pow(g, x, p) == h"
   ]
  },
  {
   "cell_type": "code",
   "execution_count": 7,
   "metadata": {},
   "outputs": [
    {
     "name": "stdout",
     "output_type": "stream",
     "text": [
      "-16.0 4.0\n",
      "2\n"
     ]
    },
    {
     "ename": "NameError",
     "evalue": "name 'res' is not defined",
     "output_type": "error",
     "traceback": [
      "\u001b[1;31m---------------------------------------------------------------------------\u001b[0m",
      "\u001b[1;31mNameError\u001b[0m                                 Traceback (most recent call last)",
      "\u001b[1;32m<ipython-input-7-2a9fb225fdc4>\u001b[0m in \u001b[0;36m<module>\u001b[1;34m\u001b[0m\n\u001b[1;32m----> 1\u001b[1;33m \u001b[0mpollard\u001b[0m\u001b[1;33m(\u001b[0m\u001b[1;36m2\u001b[0m\u001b[1;33m,\u001b[0m \u001b[1;36m11\u001b[0m\u001b[1;33m,\u001b[0m \u001b[1;36m59\u001b[0m\u001b[1;33m)\u001b[0m\u001b[1;33m\u001b[0m\u001b[1;33m\u001b[0m\u001b[0m\n\u001b[0m",
      "\u001b[1;32m<ipython-input-6-0155158abd03>\u001b[0m in \u001b[0;36mpollard\u001b[1;34m(G, H, P)\u001b[0m\n\u001b[0;32m     83\u001b[0m \u001b[1;33m\u001b[0m\u001b[0m\n\u001b[0;32m     84\u001b[0m     \u001b[1;31m# I know this is not good, but it does the job...\u001b[0m\u001b[1;33m\u001b[0m\u001b[1;33m\u001b[0m\u001b[1;33m\u001b[0m\u001b[0m\n\u001b[1;32m---> 85\u001b[1;33m     \u001b[1;32mif\u001b[0m \u001b[0mverify\u001b[0m\u001b[1;33m(\u001b[0m\u001b[0mG\u001b[0m\u001b[1;33m,\u001b[0m \u001b[0mH\u001b[0m\u001b[1;33m,\u001b[0m \u001b[0mP\u001b[0m\u001b[1;33m,\u001b[0m \u001b[0mres\u001b[0m\u001b[1;33m)\u001b[0m\u001b[1;33m:\u001b[0m\u001b[1;33m\u001b[0m\u001b[1;33m\u001b[0m\u001b[0m\n\u001b[0m\u001b[0;32m     86\u001b[0m         \u001b[1;32mreturn\u001b[0m \u001b[0mres\u001b[0m\u001b[1;33m\u001b[0m\u001b[1;33m\u001b[0m\u001b[0m\n\u001b[0;32m     87\u001b[0m \u001b[1;33m\u001b[0m\u001b[0m\n",
      "\u001b[1;32m<ipython-input-6-0155158abd03>\u001b[0m in \u001b[0;36mverify\u001b[1;34m(g, h, p, x)\u001b[0m\n\u001b[0;32m     98\u001b[0m     \"\"\"\n\u001b[0;32m     99\u001b[0m     \u001b[0mprint\u001b[0m\u001b[1;33m(\u001b[0m\u001b[0mg\u001b[0m\u001b[1;33m)\u001b[0m\u001b[1;33m\u001b[0m\u001b[1;33m\u001b[0m\u001b[0m\n\u001b[1;32m--> 100\u001b[1;33m     \u001b[1;32mreturn\u001b[0m \u001b[0mres\u001b[0m\u001b[1;33m\u001b[0m\u001b[1;33m\u001b[0m\u001b[0m\n\u001b[0m\u001b[0;32m    101\u001b[0m \u001b[1;31m#     return pow(g, x, p) == h\u001b[0m\u001b[1;33m\u001b[0m\u001b[1;33m\u001b[0m\u001b[1;33m\u001b[0m\u001b[0m\n",
      "\u001b[1;31mNameError\u001b[0m: name 'res' is not defined"
     ]
    }
   ],
   "source": [
    "pollard(2, 11, 59)"
   ]
  },
  {
   "cell_type": "code",
   "execution_count": null,
   "metadata": {},
   "outputs": [],
   "source": []
  }
 ],
 "metadata": {
  "kernelspec": {
   "display_name": "Python 3",
   "language": "python",
   "name": "python3"
  },
  "language_info": {
   "codemirror_mode": {
    "name": "ipython",
    "version": 3
   },
   "file_extension": ".py",
   "mimetype": "text/x-python",
   "name": "python",
   "nbconvert_exporter": "python",
   "pygments_lexer": "ipython3",
   "version": "3.7.1"
  }
 },
 "nbformat": 4,
 "nbformat_minor": 4
}
