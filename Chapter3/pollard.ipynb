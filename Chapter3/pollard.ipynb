{
 "cells": [
  {
   "cell_type": "code",
   "execution_count": 4,
   "metadata": {},
   "outputs": [],
   "source": [
    "from random import randint\n",
    "from math import gcd"
   ]
  },
  {
   "cell_type": "code",
   "execution_count": 15,
   "metadata": {},
   "outputs": [],
   "source": [
    "# Sieve of Eratosthenes\n",
    "def primes(n):\n",
    "    b = [True] * (n + 1)\n",
    "    ps = []\n",
    "    for p in range(2, n + 1):\n",
    "        if b[p]:\n",
    "            ps.append(p)\n",
    "            for i in range(p, n + 1, p):\n",
    "                b[i] = False\n",
    "    return ps\n",
    "\n",
    "# Square-and-multiply algorithm for exponentiation\n",
    "def exponentiate_sam(x, d, n):\n",
    "    d_bin = list(bin(d)[2:])\n",
    "    t = len(d_bin) - 1\n",
    "    r = x\n",
    "    for i in range(t-1, -1, -1):\n",
    "        r = (r * r) % n\n",
    "        if int(d_bin[t-i]) == 1:\n",
    "            r = (r * x) % n\n",
    "    return r\n",
    "\n",
    "# Pollard's p-1\n",
    "def pollard_pm1(n, limit):\n",
    "    a = randint(2, n)\n",
    "    if gcd(a, n) != 1:\n",
    "        return gcd(a, n)\n",
    "    else:\n",
    "        for p in primes(limit):\n",
    "            pp = p\n",
    "            while pp < limit:\n",
    "                a = exponentiate_sam(a, pp, n)\n",
    "                g = gcd(a-1, n)\n",
    "                if (g>1) and (g<n):\n",
    "                    return g\n",
    "                pp = p * pp\n",
    "    return False"
   ]
  },
  {
   "cell_type": "code",
   "execution_count": 10,
   "metadata": {},
   "outputs": [],
   "source": [
    "n = 100\n",
    "limit = 10"
   ]
  },
  {
   "cell_type": "code",
   "execution_count": 19,
   "metadata": {},
   "outputs": [
    {
     "data": {
      "text/plain": [
       "4"
      ]
     },
     "execution_count": 19,
     "metadata": {},
     "output_type": "execute_result"
    }
   ],
   "source": [
    "pollard_pm1(n, limit)"
   ]
  },
  {
   "cell_type": "code",
   "execution_count": null,
   "metadata": {},
   "outputs": [],
   "source": []
  }
 ],
 "metadata": {
  "kernelspec": {
   "display_name": "Python 3",
   "language": "python",
   "name": "python3"
  },
  "language_info": {
   "codemirror_mode": {
    "name": "ipython",
    "version": 3
   },
   "file_extension": ".py",
   "mimetype": "text/x-python",
   "name": "python",
   "nbconvert_exporter": "python",
   "pygments_lexer": "ipython3",
   "version": "3.7.1"
  }
 },
 "nbformat": 4,
 "nbformat_minor": 4
}
