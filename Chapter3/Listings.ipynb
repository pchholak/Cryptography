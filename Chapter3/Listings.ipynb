{
 "cells": [
  {
   "cell_type": "markdown",
   "metadata": {},
   "source": [
    "# Listing 3-1\n",
    "A simple program in Python"
   ]
  },
  {
   "cell_type": "code",
   "execution_count": 4,
   "metadata": {},
   "outputs": [
    {
     "name": "stdout",
     "output_type": "stream",
     "text": [
      "x = 5   y = 0\n",
      "x = 5   y = 5   i = 0\n",
      "x = 5   y = 10   i = 1\n",
      "x = 5   y = 15   i = 2\n",
      "x = 5   y = 20   i = 3\n",
      "x = 5   y = 20\n"
     ]
    }
   ],
   "source": [
    "x = 5\n",
    "y = 0\n",
    "print(\"x =\", x, \"  y =\", y)\n",
    "for i in range(0, 4):\n",
    "    y = y + x\n",
    "    print(\"x =\", x, \"  y =\", y, \"  i =\", i)\n",
    "print(\"x =\", x, \"  y =\", y)"
   ]
  },
  {
   "cell_type": "markdown",
   "metadata": {},
   "source": [
    "# Listing 3-2\n",
    "A factorial function written in Python"
   ]
  },
  {
   "cell_type": "code",
   "execution_count": 6,
   "metadata": {},
   "outputs": [
    {
     "name": "stdout",
     "output_type": "stream",
     "text": [
      "1\n",
      "1\n",
      "2\n",
      "6\n",
      "24\n",
      "120\n"
     ]
    }
   ],
   "source": [
    "def factorial(n):\n",
    "    if n == 0 or n == 1:\n",
    "        return 1\n",
    "    else:\n",
    "        return n * factorial(n - 1)\n",
    "\n",
    "x = 0\n",
    "f = 0\n",
    "while f < 100:\n",
    "    f = factorial(x)\n",
    "    print(f)\n",
    "    x = x + 1"
   ]
  },
  {
   "cell_type": "code",
   "execution_count": 17,
   "metadata": {},
   "outputs": [
    {
     "data": {
      "text/plain": [
       "2432902008176640000"
      ]
     },
     "execution_count": 17,
     "metadata": {},
     "output_type": "execute_result"
    }
   ],
   "source": [
    "factorial(20)"
   ]
  },
  {
   "cell_type": "markdown",
   "metadata": {},
   "source": [
    "# Listing 3-3\n",
    "Pollards $\\rho$ algorithm for factoring integers"
   ]
  },
  {
   "cell_type": "code",
   "execution_count": 3,
   "metadata": {},
   "outputs": [],
   "source": [
    "# Euclidean algorithm for GCD\n",
    "def gcd(x, y):\n",
    "    if y == 0:\n",
    "        return x\n",
    "    else:\n",
    "        return gcd(y, x % y)\n",
    "\n",
    "# Stepping function\n",
    "def f(x, n):\n",
    "    return (x * x + 3) % n\n",
    "\n",
    "# Implement Pollard rho with simple starting conditions\n",
    "def pollardrho(a):\n",
    "    x = 2\n",
    "    y = 2\n",
    "    d = 1\n",
    "    \n",
    "    while d == 1:\n",
    "        x = f(x, a)\n",
    "        y = f(f(y, a), a)\n",
    "        d = gcd(abs(x - y), a)\n",
    "        \n",
    "    if d > 1 and a > d:\n",
    "        return d\n",
    "    if d == a:\n",
    "        return -1"
   ]
  },
  {
   "cell_type": "code",
   "execution_count": 4,
   "metadata": {},
   "outputs": [
    {
     "data": {
      "text/plain": [
       "113"
      ]
     },
     "execution_count": 4,
     "metadata": {},
     "output_type": "execute_result"
    }
   ],
   "source": [
    "pollardrho(2262599)"
   ]
  },
  {
   "cell_type": "code",
   "execution_count": null,
   "metadata": {},
   "outputs": [],
   "source": []
  }
 ],
 "metadata": {
  "kernelspec": {
   "display_name": "Python 3",
   "language": "python",
   "name": "python3"
  },
  "language_info": {
   "codemirror_mode": {
    "name": "ipython",
    "version": 3
   },
   "file_extension": ".py",
   "mimetype": "text/x-python",
   "name": "python",
   "nbconvert_exporter": "python",
   "pygments_lexer": "ipython3",
   "version": "3.7.1"
  }
 },
 "nbformat": 4,
 "nbformat_minor": 4
}
