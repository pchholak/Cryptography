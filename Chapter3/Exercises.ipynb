{
 "cells": [
  {
   "cell_type": "markdown",
   "metadata": {},
   "source": [
    "# Exercise 2\n",
    "Implement the standard brute-force factoring algorithm as efficiently as possible.  \n",
    "Try only odd numbers (and 2) up to $\\sqrt{a}$ (where a is the number you wish to factor)."
   ]
  },
  {
   "cell_type": "code",
   "execution_count": null,
   "metadata": {},
   "outputs": [],
   "source": [
    "def get_primes1(a):\n",
    "    import math\n",
    "    primes = [2]\n",
    "    for n in range(3, math.ceil(math.sqrt(a))):\n",
    "        if n % 2 == 1:\n",
    "            primes.append(n)\n",
    "        factors = {}\n",
    "    return primes\n",
    "\n",
    "def factorize(a, primes):\n",
    "    for p in primes:\n",
    "        if a % p == 0:\n",
    "            e = 1\n",
    "            while a % (p ** e) == 0:\n",
    "                e += 1\n",
    "            e -= 1\n",
    "            factors[p] = e\n",
    "            a = a / (p ** e)\n",
    "    return factors"
   ]
  },
  {
   "cell_type": "code",
   "execution_count": null,
   "metadata": {},
   "outputs": [],
   "source": [
    "# Given\n",
    "a = 978460745"
   ]
  },
  {
   "cell_type": "code",
   "execution_count": null,
   "metadata": {},
   "outputs": [],
   "source": [
    "primes = get_primes1(a)\n",
    "factors = factorize(a, primes)\n",
    "factors"
   ]
  },
  {
   "cell_type": "markdown",
   "metadata": {},
   "source": [
    "# Exercise 3\n",
    "Make improvements to your brute-force algorithm. For example, skipping  \n",
    "multiples of 3, 5, 7, .... Discuss the speed improvements in doing so."
   ]
  },
  {
   "cell_type": "code",
   "execution_count": null,
   "metadata": {},
   "outputs": [],
   "source": [
    "def get_primes1(a):\n",
    "    import math\n",
    "    primes = [2]\n",
    "    for n in range(3, math.ceil(math.sqrt(a))):\n",
    "        if n % 2 == 1:\n",
    "            primes.append(n)\n",
    "    return primes\n",
    "\n",
    "def get_primes2(a):\n",
    "    import math\n",
    "    primes = [2]\n",
    "    for n in range(3, math.ceil(math.sqrt(a))):\n",
    "        if n % 2 == 1:\n",
    "            primes.append(n)\n",
    "    for p in primes:\n",
    "        mult = [n for n in primes if (n % p == 0) and (n != p)]\n",
    "        for m in mult:\n",
    "            primes.remove(m)\n",
    "    return primes\n",
    "\n",
    "def factorize(a, primes):\n",
    "    factors = {}\n",
    "    for p in primes:\n",
    "        if a % p == 0:\n",
    "            e = 1\n",
    "            while a % (p ** e) == 0:\n",
    "                e += 1\n",
    "            e -= 1\n",
    "            factors[p] = e\n",
    "            a = a / (p ** e)\n",
    "    return factors"
   ]
  },
  {
   "cell_type": "code",
   "execution_count": null,
   "metadata": {},
   "outputs": [],
   "source": [
    "# Given\n",
    "a = 978460745"
   ]
  },
  {
   "cell_type": "code",
   "execution_count": null,
   "metadata": {},
   "outputs": [],
   "source": [
    "primes1 = get_primes1(a)"
   ]
  },
  {
   "cell_type": "code",
   "execution_count": null,
   "metadata": {},
   "outputs": [],
   "source": [
    "factors = factorize(a, primes1)\n",
    "factors"
   ]
  },
  {
   "cell_type": "code",
   "execution_count": null,
   "metadata": {},
   "outputs": [],
   "source": [
    "primes2 = get_primes2(a)"
   ]
  },
  {
   "cell_type": "code",
   "execution_count": null,
   "metadata": {},
   "outputs": [],
   "source": [
    "factors = factorize(a, primes2)\n",
    "factors"
   ]
  },
  {
   "cell_type": "code",
   "execution_count": 1,
   "metadata": {},
   "outputs": [],
   "source": [
    "import timeit"
   ]
  },
  {
   "cell_type": "code",
   "execution_count": 2,
   "metadata": {},
   "outputs": [
    {
     "name": "stdout",
     "output_type": "stream",
     "text": [
      "0.8367405000000003\n"
     ]
    }
   ],
   "source": [
    "setup1 = \"\"\"\n",
    "def get_primes1(a):\n",
    "    import math\n",
    "    primes = [2]\n",
    "    for n in range(3, math.ceil(math.sqrt(a))):\n",
    "        if n % 2 == 1:\n",
    "            primes.append(n)\n",
    "    return primes\n",
    "\n",
    "def get_primes2(a):\n",
    "    import math\n",
    "    primes = [2]\n",
    "    for n in range(3, math.ceil(math.sqrt(a))):\n",
    "        if n % 2 == 1:\n",
    "            primes.append(n)\n",
    "    for p in primes:\n",
    "        mult = [n for n in primes if (n % p == 0) and (n != p)]\n",
    "        for m in mult:\n",
    "            primes.remove(m)\n",
    "    return primes\n",
    "\n",
    "def factorize(a, primes):\n",
    "    factors = {}\n",
    "    for p in primes:\n",
    "        if a % p == 0:\n",
    "            e = 1\n",
    "            while a % (p ** e) == 0:\n",
    "                e += 1\n",
    "            e -= 1\n",
    "            factors[p] = e\n",
    "            a = a / (p ** e)\n",
    "    return factors\n",
    "a = 978460745\n",
    "primes1 = get_primes1(a)\n",
    "\"\"\"\n",
    "code1 = \"\"\"\n",
    "factorize(a, primes1)\n",
    "\"\"\"\n",
    "print(timeit.timeit(setup=setup1,\n",
    "                   stmt=code1,\n",
    "                   number=1000))"
   ]
  },
  {
   "cell_type": "code",
   "execution_count": 3,
   "metadata": {},
   "outputs": [
    {
     "name": "stdout",
     "output_type": "stream",
     "text": [
      "0.18469720000000045\n"
     ]
    }
   ],
   "source": [
    "setup2 = \"\"\"\n",
    "def get_primes1(a):\n",
    "    import math\n",
    "    primes = [2]\n",
    "    for n in range(3, math.ceil(math.sqrt(a))):\n",
    "        if n % 2 == 1:\n",
    "            primes.append(n)\n",
    "    return primes\n",
    "\n",
    "def get_primes2(a):\n",
    "    import math\n",
    "    primes = [2]\n",
    "    for n in range(3, math.ceil(math.sqrt(a))):\n",
    "        if n % 2 == 1:\n",
    "            primes.append(n)\n",
    "    for p in primes:\n",
    "        mult = [n for n in primes if (n % p == 0) and (n != p)]\n",
    "        for m in mult:\n",
    "            primes.remove(m)\n",
    "    return primes\n",
    "\n",
    "def factorize(a, primes):\n",
    "    factors = {}\n",
    "    for p in primes:\n",
    "        if a % p == 0:\n",
    "            e = 1\n",
    "            while a % (p ** e) == 0:\n",
    "                e += 1\n",
    "            e -= 1\n",
    "            factors[p] = e\n",
    "            a = a / (p ** e)\n",
    "    return factors\n",
    "a = 978460745\n",
    "primes2 = get_primes2(a)\n",
    "\"\"\"\n",
    "code2 = \"\"\"\n",
    "factorize(a, primes2)\n",
    "\"\"\"\n",
    "print(timeit.timeit(setup=setup2,\n",
    "                   stmt=code2,\n",
    "                   number=1000))"
   ]
  },
  {
   "cell_type": "markdown",
   "metadata": {},
   "source": [
    "# Exercise 4\n",
    "Implement Fermat’s difference of squares method. Discuss its  \n",
    "performance (running times) with inputs of integers varying  \n",
    "in size from small numbers (< 100) up through numbers in the  \n",
    "billions and further."
   ]
  },
  {
   "cell_type": "code",
   "execution_count": 16,
   "metadata": {},
   "outputs": [],
   "source": [
    "import math\n",
    "def check_square(num):\n",
    "    num = int(num)\n",
    "    root = math.sqrt(num)\n",
    "    if int(root + 0.5) ** 2 == num:\n",
    "        return True\n",
    "    else:\n",
    "        return False\n",
    "    return None\n",
    "\n",
    "def factorize_fermat(a):\n",
    "    x = math.ceil(math.sqrt(a))\n",
    "    t = 2 * x + 1\n",
    "    d = x ** 2 - a\n",
    "    while not(check_square(d)):\n",
    "        d += t\n",
    "        t += 2\n",
    "    x = math.sqrt(d + a)\n",
    "    y = math.sqrt(d)\n",
    "    return x, y"
   ]
  },
  {
   "cell_type": "code",
   "execution_count": 4,
   "metadata": {},
   "outputs": [],
   "source": [
    "a = 978460745"
   ]
  },
  {
   "cell_type": "code",
   "execution_count": 17,
   "metadata": {},
   "outputs": [],
   "source": [
    "x, y = factorize_fermat(a)"
   ]
  },
  {
   "cell_type": "code",
   "execution_count": 36,
   "metadata": {},
   "outputs": [
    {
     "name": "stdout",
     "output_type": "stream",
     "text": [
      "500 0.007318499999655614\n",
      "5000 0.005327399999714544\n",
      "50000 0.0023135999999794876\n",
      "500000 0.03215460000001258\n",
      "5000000 0.011076999999659165\n",
      "50000000 0.03966500000024098\n",
      "500000000 0.10116169999992053\n",
      "5000000000 0.38157419999970443\n",
      "50000000000 0.9938281999998253\n",
      "500000000000 2.575955899999826\n"
     ]
    }
   ],
   "source": [
    "setup = \"\"\"\n",
    "import math\n",
    "def check_square(num):\n",
    "    num = int(num)\n",
    "    root = math.sqrt(num)\n",
    "    if int(root + 0.5) ** 2 == num:\n",
    "        return True\n",
    "    else:\n",
    "        return False\n",
    "    return None\n",
    "\n",
    "def factorize_fermat(a):\n",
    "    x = math.ceil(math.sqrt(a))\n",
    "    t = 2 * x + 1\n",
    "    d = x ** 2 - a\n",
    "    while not(check_square(d)):\n",
    "        d += t\n",
    "        t += 2\n",
    "    x = math.sqrt(d + a)\n",
    "    y = math.sqrt(d)\n",
    "    return x, y\n",
    "from __main__ import a\n",
    "\"\"\"\n",
    "code = \"\"\"\n",
    "x, y = factorize_fermat(a)\n",
    "\"\"\"\n",
    "A, Time = [], []\n",
    "a0 = 50\n",
    "for i in range(10):\n",
    "    a0 = a0 * 10\n",
    "    A.append(a0)\n",
    "for a in A:\n",
    "    t = timeit.timeit(setup=setup, stmt=code, number=1000)\n",
    "    print(a, t)\n",
    "    Time.append(t)"
   ]
  },
  {
   "cell_type": "code",
   "execution_count": 33,
   "metadata": {},
   "outputs": [],
   "source": [
    "from matplotlib import pyplot as plt"
   ]
  },
  {
   "cell_type": "code",
   "execution_count": 37,
   "metadata": {},
   "outputs": [
    {
     "data": {
      "text/plain": [
       "[0.007318499999655614,\n",
       " 0.005327399999714544,\n",
       " 0.0023135999999794876,\n",
       " 0.03215460000001258,\n",
       " 0.011076999999659165,\n",
       " 0.03966500000024098,\n",
       " 0.10116169999992053,\n",
       " 0.38157419999970443,\n",
       " 0.9938281999998253,\n",
       " 2.575955899999826]"
      ]
     },
     "execution_count": 37,
     "metadata": {},
     "output_type": "execute_result"
    }
   ],
   "source": [
    "Time"
   ]
  },
  {
   "cell_type": "code",
   "execution_count": 38,
   "metadata": {},
   "outputs": [
    {
     "data": {
      "text/plain": [
       "[<matplotlib.lines.Line2D at 0x22348f64898>]"
      ]
     },
     "execution_count": 38,
     "metadata": {},
     "output_type": "execute_result"
    },
    {
     "data": {
      "image/png": "[encoded data removed]",
      "text/plain": [
       "<Figure size 432x288 with 1 Axes>"
      ]
     },
     "metadata": {
      "needs_background": "light"
     },
     "output_type": "display_data"
    }
   ],
   "source": [
    "plt.plot(A, Time)"
   ]
  },
  {
   "cell_type": "markdown",
   "metadata": {},
   "source": [
    "# Exercise 5\n",
    "Implement Pollard's p-1 factorization algorithm"
   ]
  },
  {
   "cell_type": "code",
   "execution_count": 75,
   "metadata": {},
   "outputs": [],
   "source": [
    "import math\n",
    "from random import randint"
   ]
  },
  {
   "cell_type": "code",
   "execution_count": 88,
   "metadata": {},
   "outputs": [],
   "source": [
    "def get_primes(a):\n",
    "    import math\n",
    "    primes = [2]\n",
    "    for n in range(3, math.ceil(math.sqrt(a))):\n",
    "        if n % 2 == 1:\n",
    "            primes.append(n)\n",
    "    for p in primes:\n",
    "        mult = [n for n in primes if (n % p == 0) and (n != p)]\n",
    "        for m in mult:\n",
    "            primes.remove(m)\n",
    "    return primes\n",
    "\n",
    "def find_gcd(lst):\n",
    "    from math import gcd\n",
    "    from functools import reduce\n",
    "    x = reduce(gcd, lst)\n",
    "    return x\n",
    "\n",
    "def exponentiate_sam(x, d, n):\n",
    "    d_bin = list(bin(d)[2:])\n",
    "    t = len(d_bin) - 1\n",
    "    r = x\n",
    "    for i in range(t-1, -1, -1):\n",
    "        r = (r * r) % n\n",
    "        if int(d_bin[t-i]) == 1:\n",
    "            r = (r * x) % n\n",
    "    return r\n",
    "\n",
    "def pollard_pm1(a, B):\n",
    "    b = 2\n",
    "    primes = get_primes(B ** 2)\n",
    "    for i, pi in enumerate(primes):\n",
    "        e = math.floor(math.log(B, 10) / math.log(pi, 10))\n",
    "        f = pi ** e\n",
    "        b = exponentiate_sam(b, f, a)\n",
    "    g = find_gcd([b - 1, a])\n",
    "    if (g>1) and (g<a):\n",
    "        return g\n",
    "    else:\n",
    "        print(\"Method failed!\")\n",
    "        return None\n",
    "    return None\n",
    "\n",
    "def pollard_pm1_charest(n, B):\n",
    "    primes = get_primes(B ** 2)\n",
    "    m = 1\n",
    "    for i, p in enumerate(primes):\n",
    "        exp = math.floor(math.log(B, 10) / math.log(p, 10))\n",
    "        m = m * (p ** exp)\n",
    "    a = randint(1, n)\n",
    "    d = find_gcd([a, n])\n",
    "    e = None\n",
    "    while True:\n",
    "        if d==1:\n",
    "            print(\"d = 1\")\n",
    "            w = exponentiate_sam(a, m, n)\n",
    "            e = find_gcd(w - 1, n)\n",
    "            if (e!=1) and (e!=n):\n",
    "                return e\n",
    "            elif e==n:\n",
    "                print(\"e = n; repeating with new random values of 'a'\")\n",
    "                a = randint(1, n)\n",
    "                d = find_gcd([a, n])\n",
    "            else:\n",
    "                print(\"Method failed. Increase B!\")\n",
    "                e = None\n",
    "                break\n",
    "        else:\n",
    "            return d\n",
    "    return e"
   ]
  },
  {
   "cell_type": "code",
   "execution_count": 96,
   "metadata": {},
   "outputs": [],
   "source": [
    "# Given\n",
    "a = 100\n",
    "B = 10"
   ]
  },
  {
   "cell_type": "code",
   "execution_count": 97,
   "metadata": {},
   "outputs": [
    {
     "data": {
      "text/plain": [
       "25"
      ]
     },
     "execution_count": 97,
     "metadata": {},
     "output_type": "execute_result"
    }
   ],
   "source": [
    "factor = pollard_pm1(a, B)\n",
    "factor"
   ]
  },
  {
   "cell_type": "markdown",
   "metadata": {},
   "source": [
    "# Exercise 6\n",
    "Building on the elliptic curve point addition used in the previous chapter,  \n",
    "implement elliptic curve factorization (ECF).  \n",
    "Next, provide a chart to compare the performance of Pollard’s p – 1 and ECF for  \n",
    "the same inputs (with the same, or similar, parameters)."
   ]
  },
  {
   "cell_type": "code",
   "execution_count": 11,
   "metadata": {},
   "outputs": [],
   "source": [
    "import math\n",
    "from random import randint"
   ]
  },
  {
   "cell_type": "code",
   "execution_count": 122,
   "metadata": {},
   "outputs": [],
   "source": [
    "def get_primes(a):\n",
    "    import math\n",
    "    primes = [2]\n",
    "    for n in range(3, math.ceil(math.sqrt(a))):\n",
    "        if n % 2 == 1:\n",
    "            primes.append(n)\n",
    "    for p in primes:\n",
    "        mult = [n for n in primes if (n % p == 0) and (n != p)]\n",
    "        for m in mult:\n",
    "            primes.remove(m)\n",
    "    return primes\n",
    "\n",
    "def find_gcd(lst):\n",
    "    from math import gcd\n",
    "    from functools import reduce\n",
    "    x = reduce(gcd, lst)\n",
    "    return x\n",
    "\n",
    "def inverse_eea(a, b):\n",
    "    if b==0:\n",
    "        v = 0\n",
    "        return v\n",
    "    else:\n",
    "        import math\n",
    "        u, d = 1, a\n",
    "        v1, v3 = 0, b\n",
    "        while v3 != 0:\n",
    "            q, t3 = math.floor(d / v3), d % v3\n",
    "            t1 = u - q * v1\n",
    "            u = v1\n",
    "            d = v3\n",
    "            v1 = t1\n",
    "            v3 = t3\n",
    "        v = (d - a * u) / b\n",
    "        return v\n",
    "\n",
    "def point_addition_ec_factorize(p, curve, P, Q):\n",
    "    import math\n",
    "    a, b = curve['a'], curve['b']\n",
    "    (x1, y1), (x2, y2) = P, Q\n",
    "    if (x1 % p == x2 % p) and (y1 % p == -y2 % p):\n",
    "        print(\"P + (-P) = inf\")\n",
    "        x3 = x1\n",
    "        y3 = float(\"inf\")\n",
    "        den_m = (x2 - x1) % p\n",
    "        g = find_gcd([int(p), int(den_m)])\n",
    "        print(\"gcd(denominator, n) = {}\".format(g))\n",
    "        return (x3, y3)\n",
    "    elif (math.isinf(y1)) and not(math.isinf(y2)):\n",
    "        return (x2, y2)\n",
    "    elif (math.isinf(y2)) and not(math.isinf(y1)):\n",
    "        return (x1, y1)\n",
    "    elif (math.isinf(y1)) and (math.isinf(y2)):\n",
    "        return (x1, y1)\n",
    "    elif (x1 % p == x2 % p) and (y1 % p == y2 % p):\n",
    "        print(\"Point doubling: 2P\")\n",
    "        num_m = (3 * x1 ** 2 + a) % p\n",
    "        den_m = (2 * y1) % p\n",
    "        g = find_gcd([int(p), int(den_m)])\n",
    "        print(\"gcd(denominator, n) = {}\".format(g))\n",
    "        m = (num_m * inverse_eea(p, den_m)) % p\n",
    "    else:\n",
    "        print(\"Regular point addition\")\n",
    "        num_m = (y2 - y1) % p\n",
    "        den_m = (x2 - x1) % p\n",
    "        g = find_gcd([int(p), int(den_m)])\n",
    "        print(\"gcd(denominator, n) = {}\".format(g))\n",
    "        m = (num_m * inverse_eea(p, den_m)) % p\n",
    "    x3 = (m ** 2 - x2 - x1) % p\n",
    "    y3 = (m * (x1 - x3) - y1) % p\n",
    "    return (x3, y3)\n",
    "\n",
    "def point_multiplication_ec_factorize(p, curve, P, d):\n",
    "    d_bin = list(bin(d)[2:])\n",
    "    d_bin.reverse()\n",
    "    t = len(d_bin)\n",
    "    T = P\n",
    "    for i in range(t-2, -1, -1):\n",
    "        T = point_addition_ec(p, curve, T, T)\n",
    "        if int(d_bin[i]) == 1:\n",
    "            T = point_addition_ec(p, curve, T, P)\n",
    "    return T\n",
    "\n",
    "def exponentiate_sam(x, d, n):\n",
    "    d_bin = list(bin(d)[2:])\n",
    "    t = len(d_bin) - 1\n",
    "    r = x\n",
    "    for i in range(t-1, -1, -1):\n",
    "        r = (r * r) % n\n",
    "        if int(d_bin[t-i]) == 1:\n",
    "            r = (r * x) % n\n",
    "    return r"
   ]
  },
  {
   "cell_type": "code",
   "execution_count": 123,
   "metadata": {},
   "outputs": [],
   "source": [
    "# Given\n",
    "n = 100\n",
    "B = 10"
   ]
  },
  {
   "cell_type": "code",
   "execution_count": 124,
   "metadata": {},
   "outputs": [
    {
     "data": {
      "text/plain": [
       "[2, 3, 5, 7]"
      ]
     },
     "execution_count": 124,
     "metadata": {},
     "output_type": "execute_result"
    }
   ],
   "source": [
    "primes = get_primes(B ** 2)\n",
    "primes"
   ]
  },
  {
   "cell_type": "code",
   "execution_count": 125,
   "metadata": {},
   "outputs": [
    {
     "name": "stdout",
     "output_type": "stream",
     "text": [
      "EC: x^3 + 11x + 4; P -> (45, 82)\n",
      "Point doubling: 2P\n",
      "Point doubling: 2P\n",
      "Point doubling: 2P\n",
      "Point doubling: 2P\n",
      "Point doubling: 2P\n",
      "Regular point addition\n",
      "Point doubling: 2P\n",
      "Point doubling: 2P\n",
      "Regular point addition\n",
      "Point doubling: 2P\n",
      "Regular point addition\n",
      "Point doubling: 2P\n",
      "Regular point addition\n",
      "Point doubling: 2P\n",
      "Point doubling: 2P\n",
      "Point doubling: 2P\n",
      "Regular point addition\n",
      "Point doubling: 2P\n",
      "Regular point addition\n",
      "Point doubling: 2P\n",
      "Point doubling: 2P\n",
      "Point doubling: 2P\n",
      "Point doubling: 2P\n",
      "Regular point addition\n"
     ]
    }
   ],
   "source": [
    "while True:\n",
    "    a, x, y = randint(1, n), randint(1, n), randint(1, n)\n",
    "    b = (y ** 2 - x ** 3 - a * x) % n\n",
    "    if find_gcd([(4 * a ** 3 + 27 * b ** 2) % n, n]) != 1:\n",
    "        break\n",
    "print(\"EC: x^3 + {}x + {}; P -> ({}, {})\".format(a, b, x, y))\n",
    "curve = {\"a\": a, \"b\": b}\n",
    "P = (x, y)\n",
    "for p in primes:\n",
    "    e = math.ceil(math.log(B) / math.log(p))\n",
    "    k = exponentiate_sam(p, e, n)\n",
    "    P = point_multiplication_ec_factorize(n, curve, P, k)"
   ]
  },
  {
   "cell_type": "code",
   "execution_count": null,
   "metadata": {},
   "outputs": [],
   "source": []
  }
 ],
 "metadata": {
  "kernelspec": {
   "display_name": "Python 3",
   "language": "python",
   "name": "python3"
  },
  "language_info": {
   "codemirror_mode": {
    "name": "ipython",
    "version": 3
   },
   "file_extension": ".py",
   "mimetype": "text/x-python",
   "name": "python",
   "nbconvert_exporter": "python",
   "pygments_lexer": "ipython3",
   "version": "3.7.1"
  }
 },
 "nbformat": 4,
 "nbformat_minor": 4
}
