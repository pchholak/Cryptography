{
 "cells": [
  {
   "cell_type": "markdown",
   "metadata": {},
   "source": [
    "# Exercise 2\n",
    "Implement the standard brute-force factoring algorithm as efficiently as possible.  \n",
    "Try only odd numbers (and 2) up to $\\sqrt{a}$ (where a is the number you wish to factor)."
   ]
  },
  {
   "cell_type": "code",
   "execution_count": null,
   "metadata": {},
   "outputs": [],
   "source": [
    "def get_primes1(a):\n",
    "    import math\n",
    "    primes = [2]\n",
    "    for n in range(3, math.ceil(math.sqrt(a))):\n",
    "        if n % 2 == 1:\n",
    "            primes.append(n)\n",
    "        factors = {}\n",
    "    return primes\n",
    "\n",
    "def factorize(a, primes):\n",
    "    for p in primes:\n",
    "        if a % p == 0:\n",
    "            e = 1\n",
    "            while a % (p ** e) == 0:\n",
    "                e += 1\n",
    "            e -= 1\n",
    "            factors[p] = e\n",
    "            a = a / (p ** e)\n",
    "    return factors"
   ]
  },
  {
   "cell_type": "code",
   "execution_count": null,
   "metadata": {},
   "outputs": [],
   "source": [
    "# Given\n",
    "a = 978460745"
   ]
  },
  {
   "cell_type": "code",
   "execution_count": null,
   "metadata": {},
   "outputs": [],
   "source": [
    "primes = get_primes1(a)\n",
    "factors = factorize(a, primes)\n",
    "factors"
   ]
  },
  {
   "cell_type": "markdown",
   "metadata": {},
   "source": [
    "# Exercise 3\n",
    "Make improvements to your brute-force algorithm. For example, skipping  \n",
    "multiples of 3, 5, 7, .... Discuss the speed improvements in doing so."
   ]
  },
  {
   "cell_type": "code",
   "execution_count": null,
   "metadata": {},
   "outputs": [],
   "source": [
    "def get_primes1(a):\n",
    "    import math\n",
    "    primes = [2]\n",
    "    for n in range(3, math.ceil(math.sqrt(a))):\n",
    "        if n % 2 == 1:\n",
    "            primes.append(n)\n",
    "    return primes\n",
    "\n",
    "def get_primes2(a):\n",
    "    import math\n",
    "    primes = [2]\n",
    "    for n in range(3, math.ceil(math.sqrt(a))):\n",
    "        if n % 2 == 1:\n",
    "            primes.append(n)\n",
    "    for p in primes:\n",
    "        mult = [n for n in primes if (n % p == 0) and (n != p)]\n",
    "        for m in mult:\n",
    "            primes.remove(m)\n",
    "    return primes\n",
    "\n",
    "def factorize(a, primes):\n",
    "    factors = {}\n",
    "    for p in primes:\n",
    "        if a % p == 0:\n",
    "            e = 1\n",
    "            while a % (p ** e) == 0:\n",
    "                e += 1\n",
    "            e -= 1\n",
    "            factors[p] = e\n",
    "            a = a / (p ** e)\n",
    "    return factors"
   ]
  },
  {
   "cell_type": "code",
   "execution_count": null,
   "metadata": {},
   "outputs": [],
   "source": [
    "# Given\n",
    "a = 978460745"
   ]
  },
  {
   "cell_type": "code",
   "execution_count": null,
   "metadata": {},
   "outputs": [],
   "source": [
    "primes1 = get_primes1(a)"
   ]
  },
  {
   "cell_type": "code",
   "execution_count": null,
   "metadata": {},
   "outputs": [],
   "source": [
    "factors = factorize(a, primes1)\n",
    "factors"
   ]
  },
  {
   "cell_type": "code",
   "execution_count": null,
   "metadata": {},
   "outputs": [],
   "source": [
    "primes2 = get_primes2(a)"
   ]
  },
  {
   "cell_type": "code",
   "execution_count": null,
   "metadata": {},
   "outputs": [],
   "source": [
    "factors = factorize(a, primes2)\n",
    "factors"
   ]
  },
  {
   "cell_type": "code",
   "execution_count": null,
   "metadata": {},
   "outputs": [],
   "source": [
    "import timeit"
   ]
  },
  {
   "cell_type": "code",
   "execution_count": null,
   "metadata": {},
   "outputs": [],
   "source": [
    "setup1 = \"\"\"\n",
    "def get_primes1(a):\n",
    "    import math\n",
    "    primes = [2]\n",
    "    for n in range(3, math.ceil(math.sqrt(a))):\n",
    "        if n % 2 == 1:\n",
    "            primes.append(n)\n",
    "    return primes\n",
    "\n",
    "def get_primes2(a):\n",
    "    import math\n",
    "    primes = [2]\n",
    "    for n in range(3, math.ceil(math.sqrt(a))):\n",
    "        if n % 2 == 1:\n",
    "            primes.append(n)\n",
    "    for p in primes:\n",
    "        mult = [n for n in primes if (n % p == 0) and (n != p)]\n",
    "        for m in mult:\n",
    "            primes.remove(m)\n",
    "    return primes\n",
    "\n",
    "def factorize(a, primes):\n",
    "    factors = {}\n",
    "    for p in primes:\n",
    "        if a % p == 0:\n",
    "            e = 1\n",
    "            while a % (p ** e) == 0:\n",
    "                e += 1\n",
    "            e -= 1\n",
    "            factors[p] = e\n",
    "            a = a / (p ** e)\n",
    "    return factors\n",
    "a = 978460745\n",
    "primes1 = get_primes1(a)\n",
    "\"\"\"\n",
    "code1 = \"\"\"\n",
    "factorize(a, primes1)\n",
    "\"\"\"\n",
    "print(timeit.timeit(setup=setup1,\n",
    "                   stmt=code1,\n",
    "                   number=1000))"
   ]
  },
  {
   "cell_type": "code",
   "execution_count": null,
   "metadata": {},
   "outputs": [],
   "source": [
    "setup2 = \"\"\"\n",
    "def get_primes1(a):\n",
    "    import math\n",
    "    primes = [2]\n",
    "    for n in range(3, math.ceil(math.sqrt(a))):\n",
    "        if n % 2 == 1:\n",
    "            primes.append(n)\n",
    "    return primes\n",
    "\n",
    "def get_primes2(a):\n",
    "    import math\n",
    "    primes = [2]\n",
    "    for n in range(3, math.ceil(math.sqrt(a))):\n",
    "        if n % 2 == 1:\n",
    "            primes.append(n)\n",
    "    for p in primes:\n",
    "        mult = [n for n in primes if (n % p == 0) and (n != p)]\n",
    "        for m in mult:\n",
    "            primes.remove(m)\n",
    "    return primes\n",
    "\n",
    "def factorize(a, primes):\n",
    "    factors = {}\n",
    "    for p in primes:\n",
    "        if a % p == 0:\n",
    "            e = 1\n",
    "            while a % (p ** e) == 0:\n",
    "                e += 1\n",
    "            e -= 1\n",
    "            factors[p] = e\n",
    "            a = a / (p ** e)\n",
    "    return factors\n",
    "a = 978460745\n",
    "primes2 = get_primes2(a)\n",
    "\"\"\"\n",
    "code2 = \"\"\"\n",
    "factorize(a, primes2)\n",
    "\"\"\"\n",
    "print(timeit.timeit(setup=setup2,\n",
    "                   stmt=code2,\n",
    "                   number=1000))"
   ]
  },
  {
   "cell_type": "markdown",
   "metadata": {},
   "source": [
    "# Exercise 4\n",
    "Implement Fermat’s difference of squares method. Discuss its  \n",
    "performance (running times) with inputs of integers varying  \n",
    "in size from small numbers (< 100) up through numbers in the  \n",
    "billions and further."
   ]
  },
  {
   "cell_type": "code",
   "execution_count": null,
   "metadata": {},
   "outputs": [],
   "source": [
    "import math\n",
    "def check_square(num):\n",
    "    num = int(num)\n",
    "    root = math.sqrt(num)\n",
    "    if int(root + 0.5) ** 2 == num:\n",
    "        return True\n",
    "    else:\n",
    "        return False\n",
    "    return None\n",
    "\n",
    "def factorize_fermat(a):\n",
    "    x = math.ceil(math.sqrt(a))\n",
    "    t = 2 * x + 1\n",
    "    d = x ** 2 - a\n",
    "    while not(check_square(d)):\n",
    "        d += t\n",
    "        t += 2\n",
    "    x = math.sqrt(d + a)\n",
    "    y = math.sqrt(d)\n",
    "    return x, y"
   ]
  },
  {
   "cell_type": "code",
   "execution_count": null,
   "metadata": {},
   "outputs": [],
   "source": [
    "a = 978460745"
   ]
  },
  {
   "cell_type": "code",
   "execution_count": null,
   "metadata": {},
   "outputs": [],
   "source": [
    "x, y = factorize_fermat(a)"
   ]
  },
  {
   "cell_type": "code",
   "execution_count": null,
   "metadata": {},
   "outputs": [],
   "source": [
    "setup = \"\"\"\n",
    "import math\n",
    "def check_square(num):\n",
    "    num = int(num)\n",
    "    root = math.sqrt(num)\n",
    "    if int(root + 0.5) ** 2 == num:\n",
    "        return True\n",
    "    else:\n",
    "        return False\n",
    "    return None\n",
    "\n",
    "def factorize_fermat(a):\n",
    "    x = math.ceil(math.sqrt(a))\n",
    "    t = 2 * x + 1\n",
    "    d = x ** 2 - a\n",
    "    while not(check_square(d)):\n",
    "        d += t\n",
    "        t += 2\n",
    "    x = math.sqrt(d + a)\n",
    "    y = math.sqrt(d)\n",
    "    return x, y\n",
    "from __main__ import a\n",
    "\"\"\"\n",
    "code = \"\"\"\n",
    "x, y = factorize_fermat(a)\n",
    "\"\"\"\n",
    "A, Time = [], []\n",
    "a0 = 50\n",
    "for i in range(10):\n",
    "    a0 = a0 * 10\n",
    "    A.append(a0)\n",
    "for a in A:\n",
    "    t = timeit.timeit(setup=setup, stmt=code, number=1000)\n",
    "    print(a, t)\n",
    "    Time.append(t)"
   ]
  },
  {
   "cell_type": "code",
   "execution_count": null,
   "metadata": {},
   "outputs": [],
   "source": [
    "from matplotlib import pyplot as plt"
   ]
  },
  {
   "cell_type": "code",
   "execution_count": null,
   "metadata": {},
   "outputs": [],
   "source": [
    "Time"
   ]
  },
  {
   "cell_type": "code",
   "execution_count": null,
   "metadata": {},
   "outputs": [],
   "source": [
    "plt.plot(A, Time)"
   ]
  },
  {
   "cell_type": "markdown",
   "metadata": {},
   "source": [
    "# Exercise 5\n",
    "Implement Pollard's p-1 factorization algorithm"
   ]
  },
  {
   "cell_type": "code",
   "execution_count": 4,
   "metadata": {},
   "outputs": [],
   "source": [
    "from pollard import pollard_pm1\n",
    "import math"
   ]
  },
  {
   "cell_type": "code",
   "execution_count": 7,
   "metadata": {},
   "outputs": [],
   "source": [
    "# Given\n",
    "a = 100\n",
    "B = math.ceil(math.sqrt(a))"
   ]
  },
  {
   "cell_type": "code",
   "execution_count": 8,
   "metadata": {},
   "outputs": [
    {
     "data": {
      "text/plain": [
       "25"
      ]
     },
     "execution_count": 8,
     "metadata": {},
     "output_type": "execute_result"
    }
   ],
   "source": [
    "factor = pollard_pm1(a, B)\n",
    "factor"
   ]
  },
  {
   "cell_type": "markdown",
   "metadata": {},
   "source": [
    "# Exercise 6\n",
    "Building on the elliptic curve point addition used in the previous chapter,  \n",
    "implement elliptic curve factorization (ECF).  \n",
    "Next, provide a chart to compare the performance of Pollard’s p – 1 and ECF for  \n",
    "the same inputs (with the same, or similar, parameters)."
   ]
  },
  {
   "cell_type": "code",
   "execution_count": 9,
   "metadata": {},
   "outputs": [],
   "source": [
    "import timeit\n",
    "import math\n",
    "from lenstra import lenstra\n",
    "from pollard import pollard_pm1"
   ]
  },
  {
   "cell_type": "code",
   "execution_count": 10,
   "metadata": {},
   "outputs": [],
   "source": [
    "# Given\n",
    "n = 100\n",
    "B = math.ceil(math.sqrt(a))"
   ]
  },
  {
   "cell_type": "code",
   "execution_count": 11,
   "metadata": {},
   "outputs": [
    {
     "data": {
      "text/plain": [
       "4"
      ]
     },
     "execution_count": 11,
     "metadata": {},
     "output_type": "execute_result"
    }
   ],
   "source": [
    "lenstra(n, B)"
   ]
  },
  {
   "cell_type": "code",
   "execution_count": 14,
   "metadata": {},
   "outputs": [
    {
     "name": "stdout",
     "output_type": "stream",
     "text": [
      "500 0.19571959999996125\n",
      "5000 1.4613554000000022\n",
      "50000 16.87678070000004\n",
      "500000 180.36191369999995\n"
     ]
    }
   ],
   "source": [
    "setup = \"\"\"\n",
    "import timeit\n",
    "import math\n",
    "from lenstra import lenstra\n",
    "from pollard import pollard_pm1\n",
    "from __main__ import n\n",
    "\"\"\"\n",
    "code1 = \"\"\"\n",
    "B = math.ceil(math.sqrt(n))\n",
    "factor = pollard_pm1(n, B)\n",
    "\"\"\"\n",
    "N, Time = [], []\n",
    "n0 = 50\n",
    "for i in range(4):\n",
    "    n0 = n0 * 10\n",
    "    N.append(n0)\n",
    "for n in N:\n",
    "    t = timeit.timeit(setup=setup, stmt=code1, number=1000)\n",
    "    print(n, t)\n",
    "    Time.append(t)"
   ]
  },
  {
   "cell_type": "code",
   "execution_count": 15,
   "metadata": {},
   "outputs": [
    {
     "name": "stdout",
     "output_type": "stream",
     "text": [
      "500 0.007722700000044824\n",
      "5000 0.010414200000013807\n",
      "50000 0.017946100000017395\n",
      "500000 0.04778690000000552\n"
     ]
    }
   ],
   "source": [
    "code2 = \"\"\"\n",
    "B = math.ceil(math.sqrt(n))\n",
    "factor = lenstra(n, B)\n",
    "\"\"\"\n",
    "Time2 = []\n",
    "for n in N:\n",
    "    t = timeit.timeit(setup=setup, stmt=code2, number=1000)\n",
    "    print(n, t)\n",
    "    Time2.append(t)"
   ]
  },
  {
   "cell_type": "code",
   "execution_count": 16,
   "metadata": {},
   "outputs": [],
   "source": [
    "import matplotlib.pyplot as plt"
   ]
  },
  {
   "cell_type": "code",
   "execution_count": 19,
   "metadata": {},
   "outputs": [
    {
     "data": {
      "image/png": "[encoded data removed]",
      "text/plain": [
       "<Figure size 432x288 with 1 Axes>"
      ]
     },
     "metadata": {
      "needs_background": "light"
     },
     "output_type": "display_data"
    }
   ],
   "source": [
    "plt.plot(N, Time, N, Time2)\n",
    "plt.xscale(\"log\")\n",
    "plt.show()"
   ]
  },
  {
   "cell_type": "markdown",
   "metadata": {},
   "source": [
    "# Exercise 7\n",
    "Implement Pollard’s $\\rho$ algorithm for both factoring and discrete logarithms."
   ]
  },
  {
   "cell_type": "code",
   "execution_count": null,
   "metadata": {},
   "outputs": [],
   "source": []
  }
 ],
 "metadata": {
  "kernelspec": {
   "display_name": "Python 3",
   "language": "python",
   "name": "python3"
  },
  "language_info": {
   "codemirror_mode": {
    "name": "ipython",
    "version": 3
   },
   "file_extension": ".py",
   "mimetype": "text/x-python",
   "name": "python",
   "nbconvert_exporter": "python",
   "pygments_lexer": "ipython3",
   "version": "3.7.1"
  }
 },
 "nbformat": 4,
 "nbformat_minor": 4
}
