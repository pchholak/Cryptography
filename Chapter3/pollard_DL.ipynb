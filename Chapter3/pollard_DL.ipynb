{
 "cells": [
  {
   "cell_type": "code",
   "execution_count": 49,
   "metadata": {},
   "outputs": [],
   "source": [
    "def modular_inv(a, b):\n",
    "    if b==0:\n",
    "        v = 0\n",
    "        return v\n",
    "    else:\n",
    "        import math\n",
    "        u, d = 1, a\n",
    "        v1, v3 = 0, b\n",
    "        while v3 != 0:\n",
    "            q, t3 = math.floor(d / v3), d % v3\n",
    "            t1 = u - q * v1\n",
    "            u = v1\n",
    "            d = v3\n",
    "            v1 = t1\n",
    "            v3 = t3\n",
    "        v = (d - a * u) / b\n",
    "        return v\n",
    "\n",
    "def pollard_rho_dl_step(x, a, b, G, H, P, Q):\n",
    "    sub = x % 3 # subsets\n",
    "    if sub == 0:\n",
    "        x = x * G % P\n",
    "        a = (a + 1) % Q\n",
    "    elif sub == 1:\n",
    "        x = x * H % P\n",
    "        b = (b + 1) % Q\n",
    "    else:\n",
    "        x = x * x % P\n",
    "        a = a * 2 % Q\n",
    "        b = b * 2 % Q\n",
    "    return x, a, b\n",
    "\n",
    "def pollard_rho_dl(G, H, P):\n",
    "    Q = (P - 1) / 2\n",
    "    x, a, b = G * H, 1, 1\n",
    "    X, A, B = x, a, b\n",
    "    x, a, b = pollard_rho_dl_step(x, a, b, G, H, P, Q)\n",
    "    X, A, B = pollard_rho_dl_step(X, A, B, G, H, P, Q)\n",
    "    X, A, B = pollard_rho_dl_step(X, A, B, G, H, P, Q)\n",
    "    i = 0\n",
    "    while (x!=X) and (i<P-1):\n",
    "        i += 1\n",
    "        # Hedgehog\n",
    "        x, a, b = pollard_rho_dl_step(x, a, b, G, H, P, Q)\n",
    "        # Rabbit\n",
    "        X, A, B = pollard_rho_dl_step(X, A, B, G, H, P, Q)\n",
    "        X, A, B = pollard_rho_dl_step(X, A, B, G, H, P, Q)\n",
    "    \n",
    "    if (b % Q) == (B % Q):\n",
    "        print(\"Algorithm failed!\")\n",
    "        return None\n",
    "    else:\n",
    "        nom = (a - A) % Q\n",
    "        denom = (B - b) % Q\n",
    "        print(\"nom / denom = {} / {}\".format(nom, denom))\n",
    "        res = int((modular_inv(denom, Q) * nom) % Q)\n",
    "        if pow(G, res, P) == (H % P):\n",
    "            print(\"True\")\n",
    "            return res\n",
    "        return res + Q\n",
    "    return None"
   ]
  },
  {
   "cell_type": "code",
   "execution_count": 50,
   "metadata": {},
   "outputs": [
    {
     "name": "stdout",
     "output_type": "stream",
     "text": [
      "nom / denom = 13.0 / 4.0\n"
     ]
    },
    {
     "data": {
      "text/plain": [
       "42.0"
      ]
     },
     "execution_count": 50,
     "metadata": {},
     "output_type": "execute_result"
    }
   ],
   "source": [
    "G, H, P = 2, 11, 59\n",
    "res = pollard_rho_dl(G, H, P)\n",
    "res"
   ]
  },
  {
   "cell_type": "code",
   "execution_count": 51,
   "metadata": {},
   "outputs": [
    {
     "data": {
      "text/plain": [
       "9.0"
      ]
     },
     "execution_count": 51,
     "metadata": {},
     "output_type": "execute_result"
    }
   ],
   "source": [
    "2 ** res % P"
   ]
  },
  {
   "cell_type": "code",
   "execution_count": 52,
   "metadata": {},
   "outputs": [
    {
     "data": {
      "text/plain": [
       "11"
      ]
     },
     "execution_count": 52,
     "metadata": {},
     "output_type": "execute_result"
    }
   ],
   "source": [
    "H % P"
   ]
  },
  {
   "cell_type": "code",
   "execution_count": null,
   "metadata": {},
   "outputs": [],
   "source": []
  }
 ],
 "metadata": {
  "kernelspec": {
   "display_name": "Python 3",
   "language": "python",
   "name": "python3"
  },
  "language_info": {
   "codemirror_mode": {
    "name": "ipython",
    "version": 3
   },
   "file_extension": ".py",
   "mimetype": "text/x-python",
   "name": "python",
   "nbconvert_exporter": "python",
   "pygments_lexer": "ipython3",
   "version": "3.7.1"
  }
 },
 "nbformat": 4,
 "nbformat_minor": 4
}
