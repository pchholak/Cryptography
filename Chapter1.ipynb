{
 "cells": [
  {
   "cell_type": "markdown",
   "metadata": {},
   "source": [
    "# Question 2\n",
    "Find most common digraphs in a latin based alphabet"
   ]
  },
  {
   "cell_type": "code",
   "execution_count": null,
   "metadata": {},
   "outputs": [],
   "source": [
    "import nltk\n",
    "from nltk.corpus import gutenberg\n",
    "from nltk import bigrams\n",
    "import pandas as pd"
   ]
  },
  {
   "cell_type": "code",
   "execution_count": null,
   "metadata": {},
   "outputs": [],
   "source": [
    "files = gutenberg.fileids()\n",
    "files"
   ]
  },
  {
   "cell_type": "code",
   "execution_count": null,
   "metadata": {},
   "outputs": [],
   "source": [
    "file_shakespeare = []\n",
    "for file in files:\n",
    "    if 'shakespeare' in file:\n",
    "        print(file)\n",
    "        file_shakespeare.append(file)"
   ]
  },
  {
   "cell_type": "code",
   "execution_count": null,
   "metadata": {},
   "outputs": [],
   "source": [
    "# words = gutenberg.words(file_shakespeare)\n",
    "words = gutenberg.words(files)\n",
    "len(words)"
   ]
  },
  {
   "cell_type": "code",
   "execution_count": null,
   "metadata": {},
   "outputs": [],
   "source": [
    "latin = 'abcdefghijklmnopqrstuvwxyz'\n",
    "chars = ''.join(words).lower()\n",
    "alphabets = []\n",
    "for char in chars:\n",
    "    if char in latin:\n",
    "        alphabets.append(char)"
   ]
  },
  {
   "cell_type": "code",
   "execution_count": null,
   "metadata": {},
   "outputs": [],
   "source": [
    "alphabets"
   ]
  },
  {
   "cell_type": "code",
   "execution_count": null,
   "metadata": {},
   "outputs": [],
   "source": [
    "digraphs = list(bigrams(alphabets))\n",
    "digraphs_set = set(digraphs)\n",
    "digraphs"
   ]
  },
  {
   "cell_type": "code",
   "execution_count": null,
   "metadata": {},
   "outputs": [],
   "source": [
    "fdist = nltk.FreqDist(digraphs)\n",
    "common_digraphs = fdist.most_common()"
   ]
  },
  {
   "cell_type": "code",
   "execution_count": null,
   "metadata": {},
   "outputs": [],
   "source": [
    "n_digraphs = len(common_digraphs)\n",
    "data = {}\n",
    "common_digraph_strings, common_digraph_freqs = [], []\n",
    "for i in range(n_digraphs):\n",
    "    common_digraph_strings.append(''.join(common_digraphs[i][0]))\n",
    "    common_digraph_freqs.append(common_digraphs[i][1])\n",
    "sum_freqs = sum(common_digraph_freqs)\n",
    "common_digraph_probs = [100 * f / sum_freqs for f in common_digraph_freqs]\n",
    "data = {\"Digraphs\": common_digraph_strings,\n",
    "       \"Probability\": common_digraph_probs}\n",
    "df = pd.DataFrame(data)\n",
    "df"
   ]
  },
  {
   "cell_type": "code",
   "execution_count": null,
   "metadata": {},
   "outputs": [],
   "source": [
    "df.to_csv('English_digraph_probabilities.csv')"
   ]
  },
  {
   "cell_type": "markdown",
   "metadata": {},
   "source": [
    "# Question 3\n",
    "Find most common digraphs in a latin based language"
   ]
  },
  {
   "cell_type": "code",
   "execution_count": null,
   "metadata": {},
   "outputs": [],
   "source": [
    "import nltk\n",
    "from nltk.corpus import gutenberg\n",
    "from nltk.corpus import indian\n",
    "from nltk import trigrams"
   ]
  },
  {
   "cell_type": "code",
   "execution_count": null,
   "metadata": {},
   "outputs": [],
   "source": [
    "words = indian.words('hindi.pos')\n",
    "len(words)"
   ]
  },
  {
   "cell_type": "code",
   "execution_count": null,
   "metadata": {},
   "outputs": [],
   "source": [
    "chars = ''.join(words)\n",
    "chars"
   ]
  },
  {
   "cell_type": "code",
   "execution_count": null,
   "metadata": {},
   "outputs": [],
   "source": [
    "charset = list(set(chars))\n",
    "charset.sort()"
   ]
  },
  {
   "cell_type": "code",
   "execution_count": null,
   "metadata": {},
   "outputs": [],
   "source": [
    "chars_without_punctuations = charset[9:-11]\n",
    "nonlatinchars = ''.join(chars_without_punctuations)\n",
    "nonlatinchars"
   ]
  },
  {
   "cell_type": "code",
   "execution_count": null,
   "metadata": {},
   "outputs": [],
   "source": [
    "alphabets = []\n",
    "for char in chars:\n",
    "    if char in nonlatinchars:\n",
    "        alphabets.append(char)"
   ]
  },
  {
   "cell_type": "code",
   "execution_count": null,
   "metadata": {},
   "outputs": [],
   "source": [
    "trigraphs = list(trigrams(alphabets))\n",
    "trigraphs"
   ]
  },
  {
   "cell_type": "code",
   "execution_count": null,
   "metadata": {},
   "outputs": [],
   "source": [
    "fdist_tri = nltk.FreqDist(trigraphs)\n",
    "fdist_tri.most_common()"
   ]
  },
  {
   "cell_type": "markdown",
   "metadata": {},
   "source": [
    "# Question 4\n",
    "Use language dictionary to break single transposition cipher"
   ]
  },
  {
   "cell_type": "code",
   "execution_count": null,
   "metadata": {},
   "outputs": [],
   "source": [
    "Y = 'AKPKNLLALENLLNASYBWDYJAOONMODYROAHU'"
   ]
  },
  {
   "cell_type": "code",
   "execution_count": null,
   "metadata": {},
   "outputs": [],
   "source": [
    "import nltk\n",
    "from nltk.corpus import gutenberg\n",
    "from math import floor, ceil\n",
    "import numpy as np"
   ]
  },
  {
   "cell_type": "code",
   "execution_count": null,
   "metadata": {},
   "outputs": [],
   "source": [
    "files = gutenberg.fileids()\n",
    "file_shakespeare = []\n",
    "for file in files:\n",
    "    if 'shakespeare' in file:\n",
    "        print(file)\n",
    "        file_shakespeare.append(file)"
   ]
  },
  {
   "cell_type": "code",
   "execution_count": null,
   "metadata": {},
   "outputs": [],
   "source": [
    "words = gutenberg.words(file_shakespeare)\n",
    "len(words)"
   ]
  },
  {
   "cell_type": "code",
   "execution_count": null,
   "metadata": {},
   "outputs": [],
   "source": [
    "vocab = [word.lower() for word in set(words)]\n",
    "len(vocab)"
   ]
  },
  {
   "cell_type": "code",
   "execution_count": null,
   "metadata": {},
   "outputs": [],
   "source": [
    "def transpose_text(Y, key):\n",
    "    n = len(Y)\n",
    "    rows = ceil(n / key)\n",
    "    y_stripped = list(Y)\n",
    "    columns = []\n",
    "    for k in range(key-1):\n",
    "        column = y_stripped[k * rows : (k + 1) * rows]\n",
    "        columns.append(column)\n",
    "    last_column = y_stripped[(key - 1) * rows :]\n",
    "    empty_elts = rows - len(last_column)\n",
    "    for i in range(empty_elts):\n",
    "        last_column.append('')\n",
    "    columns.append(last_column)\n",
    "    trial = np.asarray(columns)\n",
    "    x_trial = []\n",
    "    for r in range(rows):\n",
    "        for k in range(key):\n",
    "            if trial[k][r]:\n",
    "                x_trial.append(trial[k][r])\n",
    "    x_trial_joined = ''.join(x_trial).lower()\n",
    "    return x_trial_joined"
   ]
  },
  {
   "cell_type": "code",
   "execution_count": null,
   "metadata": {},
   "outputs": [],
   "source": [
    "for key in range(1, 10):\n",
    "    X_key = transpose_text(Y, key)\n",
    "    word_cnt = 0\n",
    "    for word in vocab:\n",
    "        if word in X_key:\n",
    "            word_cnt += 1\n",
    "    print('For key = {}, Word count = {}'.format(key, word_cnt))"
   ]
  },
  {
   "cell_type": "markdown",
   "metadata": {},
   "source": [
    "# Question 5\n",
    "Kasiski's method for breaking Vigenère polyalphabetic cipher\n",
    "Hint: The first step should be producing a candidate list of numbers that could be the key\n",
    "length. Then, assuming that the underlying cipher is a Vigenère polyalphabetic\n",
    "cipher, attempt to break the ciphertext into multiple ciphertexts and perform a\n",
    "frequency analysis on each. The program should produce a reasonable guess to a\n",
    "certain selection of keys, as well as accompanying plaintexts. Use of a dictionary\n",
    "file is encouraged to increase the precision."
   ]
  },
  {
   "cell_type": "code",
   "execution_count": 109,
   "metadata": {},
   "outputs": [],
   "source": [
    "from nltk.corpus import PlaintextCorpusReader\n",
    "import numpy as np\n",
    "import pandas as pd\n",
    "import os\n",
    "import nltk\n",
    "from nltk.corpus import gutenberg\n",
    "from nltk import bigrams, trigrams, ngrams"
   ]
  },
  {
   "cell_type": "code",
   "execution_count": 85,
   "metadata": {},
   "outputs": [],
   "source": [
    "def alphabet_positions():\n",
    "    # Given\n",
    "    charspace = 'abcdefghijklmnopqrstuvwxyz'\n",
    "    \n",
    "    # Find alphabets' numerical positions\n",
    "    alpha_num = {}\n",
    "    for i, alphabet in enumerate(charspace.strip()):\n",
    "        alpha_num[alphabet] = i\n",
    "        \n",
    "    # Find inverse of alpha_num\n",
    "    num_alpha = {v: k for k, v in alpha_num.items()}\n",
    "    \n",
    "    return alpha_num, num_alpha"
   ]
  },
  {
   "cell_type": "code",
   "execution_count": 86,
   "metadata": {},
   "outputs": [],
   "source": [
    "# Function to encrypt using Vigenère cipher\n",
    "def encrypt_viginere(X, key):\n",
    "        \n",
    "    # Find alphabets' numerical positions and its inverse\n",
    "    alpha_num, num_alpha = alphabet_positions()\n",
    "    \n",
    "    # Convert key into numeric form\n",
    "    k_num = []\n",
    "    for k in key:\n",
    "        k_num.append(alpha_num[k])\n",
    "                        \n",
    "    # Convert plaintext 'X' into numeric form\n",
    "    x_num = []\n",
    "    for c in X:\n",
    "        x_num.append(alpha_num[c])\n",
    "    \n",
    "    # Add extra fake values to plaintext to match the size of integral multiple of keylength\n",
    "    n = len(X)\n",
    "    nkey = len(key)\n",
    "    nfake = nkey - (n % nkey)\n",
    "    for i in range(nfake):\n",
    "        x_num.append(0)\n",
    "        \n",
    "    # Encrypt x_num using k_num\n",
    "    y_num = [0 for i in range(len(x_num))]\n",
    "    for i_x, c_num in enumerate(x_num):\n",
    "        for rem in range(nkey):\n",
    "            if i_x % nkey == rem:\n",
    "                y_num[i_x] = (x_num[i_x] + k_num[rem]) % 26\n",
    "    \n",
    "    # Delete extra fake values from y_num\n",
    "    if nfake>0:\n",
    "        del y_num[-nfake:]\n",
    "    \n",
    "    # Convert y_num to Y (Alphabets space)\n",
    "    y_stripped = []\n",
    "    for c_num in y_num:\n",
    "        y_stripped.append(num_alpha[c_num])\n",
    "        \n",
    "    # Return concatenated string\n",
    "    Y = ''.join(y_stripped)\n",
    "    return Y"
   ]
  },
  {
   "cell_type": "code",
   "execution_count": 87,
   "metadata": {},
   "outputs": [],
   "source": [
    "# Function to encrypt using Vigenère cipher\n",
    "def decrypt_viginere(Y, key):\n",
    "        \n",
    "    # Find alphabets' numerical positions and its inverse\n",
    "    alpha_num, num_alpha = alphabet_positions()\n",
    "    \n",
    "    # Convert key into numeric form\n",
    "    k_num = []\n",
    "    for k in key:\n",
    "        k_num.append(alpha_num[k])\n",
    "                        \n",
    "    # Convert ciphertext 'Y' into numeric form\n",
    "    y_num = []\n",
    "    for c in Y:\n",
    "        y_num.append(alpha_num[c])\n",
    "    \n",
    "    # Add extra fake values to ciphertext to match the size of integral multiple of keylength\n",
    "    n = len(Y)\n",
    "    nkey = len(key)\n",
    "    nfake = nkey - (n % nkey)\n",
    "    for i in range(nfake):\n",
    "        y_num.append(0)\n",
    "        \n",
    "    # Decrypt y_num using k_num\n",
    "    x_num = [0 for i in range(len(y_num))]\n",
    "    for i_y, c_num in enumerate(y_num):\n",
    "        for rem in range(nkey):\n",
    "            if i_y % nkey == rem:\n",
    "                x_num[i_y] = (y_num[i_y] - k_num[rem]) % 26\n",
    "    \n",
    "    # Delete extra fake values from x_num\n",
    "    if nfake>0:\n",
    "        del x_num[-nfake:]\n",
    "    \n",
    "    # Convert x_num to X (alphabets space)\n",
    "    x_stripped = []\n",
    "    for c_num in x_num:\n",
    "        x_stripped.append(num_alpha[c_num])\n",
    "        \n",
    "    # Return concatenated string\n",
    "    X = ''.join(x_stripped)\n",
    "    return X"
   ]
  },
  {
   "cell_type": "code",
   "execution_count": 88,
   "metadata": {},
   "outputs": [],
   "source": [
    "def key_schedule(nkey):\n",
    "    import itertools\n",
    "    _, num_alpha = alphabet_positions()\n",
    "    k_num_domain = [[i for i in range(26)] for k in range(nkey)]\n",
    "    trial_keys = []\n",
    "    for element in itertools.product(*k_num_domain):\n",
    "        k_num_trial = element\n",
    "        k_stripped = []\n",
    "        for c_num in k_num_trial:\n",
    "            k_stripped.append(num_alpha[c_num])\n",
    "        trial_key = ''.join(k_stripped)\n",
    "        trial_keys.append(trial_key)\n",
    "    return trial_keys"
   ]
  },
  {
   "cell_type": "code",
   "execution_count": 89,
   "metadata": {},
   "outputs": [],
   "source": [
    "def load_digraph_lookup():\n",
    "    import pandas as pd\n",
    "    from collections import defaultdict\n",
    "    data =  pd.read_csv('English_digraph_probabilities.csv')\n",
    "    common_digraphs = list(data[\"Digraphs\"])\n",
    "    common_digraph_probs = list(data[\"Probability\"])\n",
    "    digraph_lookup = defaultdict(float)\n",
    "    for i, digraph in enumerate(common_digraphs):\n",
    "        digraph_lookup[digraph] = common_digraph_probs[i]\n",
    "    return digraph_lookup"
   ]
  },
  {
   "cell_type": "code",
   "execution_count": 90,
   "metadata": {},
   "outputs": [],
   "source": [
    "# Frequency analysis\n",
    "def freq_anal(Y, nkey):\n",
    "    import nltk\n",
    "    from nltk import bigrams \n",
    "    digraph_lookup = load_digraph_lookup()\n",
    "    trial_keys = key_schedule(nkey)\n",
    "    results = {}\n",
    "    for trial_key in trial_keys:\n",
    "        X_trial = decrypt_viginere(Y, trial_key)\n",
    "        digraphs = bigrams(X_trial)\n",
    "        fdist_di = nltk.FreqDist(digraphs)\n",
    "        score = 0\n",
    "        for digraph_chars in fdist_di.most_common(10):\n",
    "            digraph_trial = ''.join(digraph_chars[0])\n",
    "            score += (digraph_lookup[digraph_trial])\n",
    "        results[trial_key] = score\n",
    "    return results"
   ]
  },
  {
   "cell_type": "code",
   "execution_count": 91,
   "metadata": {},
   "outputs": [],
   "source": [
    "def find_gcf(list):\n",
    "    from math import gcd\n",
    "    from functools import reduce\n",
    "    x = reduce(gcd, list)\n",
    "    return x"
   ]
  },
  {
   "cell_type": "code",
   "execution_count": 92,
   "metadata": {},
   "outputs": [],
   "source": [
    "def guess_keylength(n_ngram):\n",
    "    ngraphs = list(ngrams(Y, n_ngram))\n",
    "    fdist_n = nltk.FreqDist(ngraphs)\n",
    "    repeated_ngrams = [w for w in fdist_n.most_common() if w[1] > 1]\n",
    "    guesses = []\n",
    "    for ngram in repeated_ngrams[:10]:\n",
    "        ngram_pos = [i for i in range(len(ngraphs)) if ngraphs[i] == ngram[0]]\n",
    "        ngram_dist = [s - f for f, s in zip(ngram_pos, ngram_pos[1:])]\n",
    "        if len(ngram_dist)>1:\n",
    "            guesses.append(find_gcf(ngram_dist))\n",
    "        else:\n",
    "            guesses.append(ngram_dist[0])\n",
    "    return guesses"
   ]
  },
  {
   "cell_type": "code",
   "execution_count": 93,
   "metadata": {},
   "outputs": [],
   "source": [
    "def find_factors(x):\n",
    "    factors = []\n",
    "    for i in range(1, x + 1):\n",
    "        if x % i == 0:\n",
    "            factors.append(i)\n",
    "    return factors"
   ]
  },
  {
   "cell_type": "code",
   "execution_count": 65,
   "metadata": {},
   "outputs": [
    {
     "name": "stdout",
     "output_type": "stream",
     "text": [
      "twohouseholdsbothalikeindignityinfairveronawherewelayourscenefromancientgrudgebreaktonewmutinywherecivilbloodmakescivilhandsuncleanfromforththefatalloinsofthesetwofoesapairofstarcrossdloverstaketheirlthetragedieofjuliuscaesarbywilliamshakespeareactusprimusscoenaprimaenterflauiusmurellusandcertainecommonersouerthestageflauiushencehomeyouidlecreaturesgetyouhomeisthisaholidaywhatknowyounotbeingmechanicallyououghtnotwalkevponalabouringdaywithoutthesigneofyourprofessionspeakewhattradeartthoucarwhysiracarpentermurwhereisthyleatherapronandthyrulewhatdostthouwiththybestapparrellonyousirwhattradeareyoucobltruelysirinrespectofafineworkmaniambutasyouwouldsayacoblermurbutwhattradeartthouanswermedirectlycobatradesirthatihopeimayvsewithasafeconsciencewhichisindeedsiramenderofbadsoulesflawhattradethouknauethounaughtyknauewhattradecoblnayibeseechyousirbenotoutwithmeyetifyoubeoutsiricanmendyoumurwhatmeanstthoubythatmendmeethousawcyfellowcobwhysircobbleyouflathouartacoblerartthoucobtrulysirallthatiliuebyiswiththeauleimeddlewithnotradesmansmattersnorwomensmattersbutwithaliamindeedsirasurgeontooldshooeswhentheyareingreatdangerirecouerthemaspropermenaseuertrodvponneatsleatherhauegonevponmyhandyworkeflabutwhereforeartnotinthyshoptodaywhydostthouleadethesemenaboutthestreetscobtrulysirtoweareouttheirshooestogetmyselfeintomoreworkebutindeedesirwemakeholydaytoseecaesarandtoreioyceinhistriumphmurwhereforereioycewhatconquestbringshehomewhattributariesfollowhimtorometograceincaptiuebondshischariotwheelesyoublockesyoustonesyouworsethensenslessethingsoyouhardheartsyoucruellmenofromeknewyounotpompeymanyatimeandofthaueyouclimbdvptowallesandbattlementstotowresandwindowesyeatochimneytopsyourinfantsinyourarmesandtherehauesatetheliuelongdaywithpatientexpectationtoseegreatpompeypassethestreetsofromeandwhenyousawhischariotbutappearehaueyounotmadeanvniuersallshoutthattybertrembledvnderneathherbankestohearethereplicationofyoursoundsmadeinherconcaueshoresanddoyounowputonyourbestattyreanddoyounowculloutaholydayanddoyounowstrewflowersinhiswaythatcomesintriumphouerpompeyesbloodbegonerunnetoyourhousesfallvponyourkneespraytothegodstointermittheplaguethatneedsmustlightonthisingratitudeflagogogoodcountrymenandforthisfaultassembleallthepooremenofyoursortdrawthemtotyberbankesandweepeyourtearesintothechannelltilltheloweststreamedokissethemostexaltedshoresofallexeuntallthecommonersseewheretheirbasestmettlebenotmoudtheyvanishtonguetyedintheirguiltinessegoyoudownethatwaytowardsthecapitollthiswaywillidisrobetheimagesifyoudofindethemdecktwithceremoniesmurmaywedosoyouknowitisthefeastoflupercallflaitisnomatterletnoimagesbehungwithcaesarstropheesileaboutanddriueawaythevulgarfromthestreetssodoyoutoowhereyouperceiuethemthickethesegrowingfeathersplucktfromcaesarswingwillmakehimflyeanordinarypitchwhoelsewouldsoareabouetheviewofmenandkeepevsallinseruilefearefulnesseexeuntentercaesarantonyforthecoursecalphurniaportiadeciuscicerobrutuscassiuscaskaasoothsayerafterthemmurellusandflauiuscaescalphurniacaskpeacehocaesarspeakescaescalphurniacalpheeremylordcaesstandyoudirectlyinantonioswaywhenhedothrunhiscourseantonioantcsarmylordcaesforgetnotinyourspeedantoniototouchcalphurniaforourelderssaythebarrentouchedinthisholychaceshakeofftheirsterrilecurseantishallrememberwhencaesarsayesdothisitisperformdcaessetonandleauenoceremonyoutsoothcaesarcaeshawhocallescaskbideuerynoysebestillpeaceyetagainecaeswhoisitinthepressethatcallesonmeiheareatongueshrillerthenallthemusickecrycaesarspeakecaesaristurndtohearesoothbewaretheidesofmarchcaeswhatmanisthatbrasoothsayerbidsyoubewaretheidesofmarchcaessethimbeforemeletmeseehisfacecassifellowcomefromthethronglookvponcaesarcaeswhatsaystthoutomenowspeakonceagainesoothbewaretheidesofmarchcaesheisadreamerletvsleauehimpassesennetexeuntmanetbrutcasscassiwillyougoseetheorderofthecoursebrutnoticassiiprayyoudobrutiamnotgamesomidolackesomepartofthatquickespiritthatisinantonyletmenothindercassiusyourdesiresileleaueyoucassibrutusidoobserueyounowoflateihauenotfromyoureyesthatgentlenesseandshewofloueasiwaswonttohaueyoubearetoostubborneandtoostrangeahandoueryourfriendthatlouesyoubrucassiusbenotdeceiudifihaueveyldmylookeiturnethetroubleofmycountenancemeerelyvponmyselfevexediamoflatewithpassionsofsomedifferenceconceptionsonelypropertomyselfewhichgiuesomesoyleperhapstomybehauioursbutletnotthereforemygoodfriendsbegreeudamongwhichnumbercassiusbeyouonenorconstrueanyfurthermyneglectthenthatpoorebrutuswithhimselfeatwarreforgetstheshewesoflouetoothermencassithenbrutusihauemuchmistookyourpassionbymeaneswhereofthisbrestofminehathburiedthoughtsofgreatvalueworthycogitationstellmegoodbrutuscanyouseeyourfacebrutusnocassiusfortheeyeseesnotitselfebutbyreflectionbysomeotherthingscassiustisiustanditisverymuchlamentedbrutusthatyouhauenosuchmirrorsaswillturneyourhiddenworthinesseintoyoureyethatyoumightseeyourshadowihaueheardwheremanyofthebestrespectinromeexceptimmortallcaesarspeakingofbrutusandgroaningvnderneaththisagesyoakehauewishdthatnoblebrutushadhiseyesbruintowhatdangerswouldyouleademecassiusthatyouwouldhauemeseekeintomyselfeforthatwhichisnotinmecasthereforegoodbrutusbeprepardtoheareandsinceyouknowyoucannotseeyourselfesowellasbyreflectioniyourglassewillmodestlydiscouertoyourselfethatofyourselfewhichyouyetknownotofandbenotiealousonmegentlebrutuswereiacommonlaughterordidvsetostalewithordinaryoathesmylouetoeuerynewprotesterifyouknowthatidofawneonmenandhuggethemhardandafterscandallthemorifyouknowthatiprofessemyselfeinbanquettingtoalltheroutthenholdmedangerousflourishandshoutbruwhatmeanesthisshowtingidofearethepeoplechoosecaesarfortheirkingcassiidoyoufeareitthenmustithinkeyouwouldnothaueitsobruiwouldnotcassiusyetilouehimwellbutwhereforedoyouholdmeheeresolongwhatisitthatyouwouldimparttomeifitbeoughttowardthegenerallgoodsethonorinoneeyeanddeathithotherandiwilllookeonbothindifferentlyforletthegodssospeedmeeasilouethenameofhonormorethenifearedeathcassiiknowthatvertuetobeinyoubrutusaswellasidoknowyouroutwardfauourwellhonoristhesubiectofmystoryicannottellwhatyouandothermenthinkeofthislifebutformysingleselfeihadasliefenotbeasliuetobeinaweofsuchathingasimyselfeiwasbornefreeascaesarsowereyouwebothhauefedaswellandwecanbothendurethewinterscoldaswellasheeforoncevponaraweandgustiedaythetroubledtyberchafingwithhershorescaesarsaidetomedarstthoucassiusnowleapeinwithmeintothisangryfloodandswimtoyonderpointvponthewordaccoutredasiwasiplungedinandbadhimfollowsoindeedhedidthetorrentroardandwedidbuffetitwithlustysinewesthrowingitasideandstemmingitwithheartsofcontrouersiebuterewecouldarriuethepointproposdcaesarcridehelpemecassiusorisinkeiasaeneasourgreatancestordidfromtheflamesoftroyvponhisshouldertheoldanchysesbearesofromthewauesoftyberdidithetyredcaesarandthismanisnowbecomeagodandcassiusisawretchedcreatureandmustbendhisbodyifcaesarcareleslybutnodonhimhehadafeauerwhenhewasinspaineandwhenthefitwasonhimididmarkehowhedidshaketistruethisgoddidshakehiscowardlippesdidfromtheircolourflyeandthatsameeyewhosebenddothawetheworlddidloosehislustreididhearehimgroneiandthattongueofhisthatbadtheromansmarkehimandwritehisspeechesintheirbookesalasitcriedgiuemesomedrinketitiniusasasickegirleyegodsitdothamazemeamanofsuchafeebletempershouldsogetthestartofthemaiestickeworldandbearethepalmealoneshoutflourishbruanothergenerallshoutidobeleeuethattheseapplausesareforsomenewhonorsthatareheapdoncaesarcassiwhymanhedothbestridethenarrowworldlikeacolossusandwepettymenwalkevnderhishugeleggesandpeepeabouttofindeourseluesdishonourablegrauesmenatsometimearemastersoftheirfatesthefaultdeerebrutusisnotinourstarresbutinourseluesthatwearevnderlingsbrutusandcaesarwhatshouldbeinthatcaesarwhyshouldthatnamebesoundedmorethenyourswritethemtogetheryoursisasfaireanamesoundthemitdothbecomethemouthaswellweighthemitisasheauyconiurewithembrutuswillstartaspiritassooneascaesarnowinthenamesofallthegodsatoncevponwhatmeatedoththisourcaesarfeedethatheisgrownesogreatagethouartshamdromethouhastlostthebreedofnoblebloodswhenwenttherebyanagesincethegreatfloodbutitwasfamdwithmorethenwithonemanwhencouldtheysaytillnowthattalkdofromethatherwidewalkesincompastbutonemannowisitromeindeedandroomeenoughwhenthereisinitbutoneonelymanoyouandihaueheardourfatherssaytherewasabrutusoncethatwouldhauebrookdtheternalldiuelltokeepehisstateinromeaseasilyasakingbruthatyoudolouemeiamnothingiealouswhatyouwouldworkemetooihauesomeaymehowihauethoughtofthisandofthesetimesishallrecountheereafterforthispresentiwouldnotsowithloueimightintreatyoubeanyfurthermooudwhatyouhauesaidiwillconsiderwhatyouhauetosayiwillwithpatienceheareandfindeatimebothmeetetoheareandanswersuchhighthingstillthenmynoblefriendchewvponthisbrutushadratherbeavillagerthentoreputehimselfeasonneofromevnderthesehardconditionsasthistimeisliketolayvponvscassiiamgladthatmyweakewordshauestruckebutthusmuchshewoffirefrombrutusentercaesarandhistrainebruthegamesaredoneandcaesarisreturningcassiastheypassebypluckecaskabythesleeueandhewillafterhissowrefashiontellyouwhathathproceededworthynotetodaybruiwilldosobutlookeyoucassiustheangryspotdothglowoncaesarsbrowandalltherestlookelikeachiddentrainecalphurniascheekeispaleandcicerolookeswithsuchferretandsuchfieryeyesaswehaueseenehiminthecapitollbeingcrostinconferencebysomesenatorscassicaskawilltellvswhatthematteriscaesantonioantcaesarcaesletmehauemenaboutmethatarefatsleekeheadedmenandsuchassleepeanightsyondcassiushasaleaneandhungrylookehethinkestoomuchsuchmenaredangerousantfearehimnotcaesarhesnotdangerousheisanobleromanandwellgiuencaeswouldhewerefatterbutifearehimnotyetifmynamewerelyabletofeareidonotknowthemanishouldauoydsosooneasthatsparecassiushereadesmuchheisagreatobseruerandhelookesquitethroughthedeedsofmenhelouesnoplayesasthoudostantonyhehearesnomusickeseldomehesmilesandsmilesinsuchasortasifhemockdhimselfeandscorndhisspiritthatcouldbemoudtosmileatanythingsuchmenashebeneueratheartseasewhilestheybeholdagreaterthenthemseluesandthereforearetheyverydangerousirathertelltheewhatistobefeardthenwhatifeareforalwayesiamcaesarcomeonmyrighthandforthiseareisdeafeandtellmetruelywhatthouthinkstofhimsennitexeuntcaesarandhistrainecaskyoupuldmebythecloakewouldyouspeakewithmebruicaskatellvswhathathchancdtodaythatcaesarlookessosadcaskwhyyouwerewithhimwereyounotbruishouldnotthenaskecaskawhathadchancdcaskwhytherewasacrowneofferdhimbeingofferdhimheputitbywiththebackeofhishandthusandthenthepeoplefellashoutingbruwhatwasthesecondnoyseforcaskwhyforthattoocassitheyshoutedthricewhatwasthelastcryforcaskwhyforthattoobruwasthecrowneofferdhimthricecaskimarrywastandheeputitbythriceeuerietimegentlerthenotherandateueryputtingbyminehonestneighborsshowtedcassiwhoofferdhimthecrownecaskwhyantonybrutellvsthemannerofitgentlecaskacaskaicanaswellbeehangdastellthemannerofititwasmeerefoolerieididnotmarkeitisawemarkeantonyofferhimacrowneyettwasnotacrowneneythertwasoneofthesecoronetsandasitoldyouheeputitbyoncebutforallthattomythinkinghewouldfainehauehaditthenheeofferedittohimagainethenheeputitbyagainebuttomythinkinghewasveryloathtolayhisfingersoffitandthenheoffereditthethirdtimeheeputitthethirdtimebyandstillasheerefusdittherabblementhowtedandclappdtheirchopthandsandthrewvppetheirsweatienightcappesandvtteredsuchadealeofstinkingbreathbecausecaesarrefusdthecrownethatithadalmostchoakedcaesarforheeswoondedandfelldowneatitandformineownepartidurstnotlaughforfeareofopeningmylippesandreceyuingthebadayrecassibutsoftiprayyouwhatdidcaesarswoundcaskhefelldowneinthemarketplaceandfoamdatmouthandwasspeechlessebruttisverylikehehaththefallingsicknessecassinocaesarhathitnotbutyouandiandhonestcaskawehauethefallingsicknessecaskiknownotwhatyoumeanebythatbutiamsurecaesarfelldowneifthetagraggepeopledidnotclaphimandhissehimaccordingashepleasdanddispleasdthemastheyvsetodoetheplayersinthetheatreiamnotruemanbrutwhatsaidhewhenhecamevntohimselfecaskmarrybeforehefelldownewhenheperceiudthecommonheardwasgladherefusdthecrowneheplucktmeopehisdoubletandofferdthemhisthroattocutandihadbeeneamanofanyoccupationifiwouldnothauetakenhimatawordiwouldimightgoetohellamongtheroguesandsoheefellwhenhecametohimselfeagaineheesaidifheehaddoneorsaidanythingamissehedesirdtheirworshipstothinkeitwashisinfirmitiethreeorfourewencheswhereistoodcryedalassegoodsouleandforgauehimwithalltheirheartsbuttheresnoheedtobetakenofthemifcaesarhadstabdtheirmotherstheywouldhauedonenolessebrutandafterthathecamethussadawaycaskicassididcicerosayanythingcaskihespokegreekecassitowhateffectcasknayanditellyouthatilenerelookeyouithfaceagainebutthosethatvnderstoodhimsmildatoneanotherandshooketheirheadsbutformineownepartitwasgreeketomeicouldtellyoumorenewestoomurrellusandflauiusforpullingscarffesoffcaesarsimagesareputtosilencefareyouwelltherewasmorefoolerieyetificouldrememberitcassiwillyousuppewithmetonightcaskacasknoiampromisdforthcassiwillyoudinewithmetomorrowcaskiifibealiueandyourmindeholdandyourdinnerworththeeatingcassigoodiwillexpectyoucaskdoesofarewellbothenterbrutwhatabluntfellowisthisgrownetobehewasquickmettlewhenhewenttoschoolecassisoishenowinexecutionofanyboldornobleenterprizehoweuerheputsonthistardieformethisrudenesseisasawcetohisgoodwitwhichgiuesmenstomacketodisgesthiswordswithbetterappetitebrutandsoitisforthistimeiwillleaueyoutomorrowifyoupleasetospeakewithmeiwillcomehometoyouorifyouwillcomehometomeandiwillwaitforyoucassiiwilldoesotillthenthinkeoftheworldexitbrutuswellbrutusthouartnobleyetiseethyhonorablemettlemaybewroughtfromthatitisdisposdthereforeitismeetthatnoblemindeskeepeeuerwiththeirlikesforwhosofirmethatcannotbeseducdcaesardothbearemehardbuthelouesbrutusifiwerebrutusnowandhewerecassiusheshouldnothumormeiwillthisnightinseuerallhandsinathiswindowesthrowasiftheycamefromseuerallcitizenswritingsalltendingtothegreatopinionthatromeholdsofhisnamewhereinobscurelycaesarsambitionshallbeglancedatandafterthisletcaesarseathimsureforweewillshakehimorworsedayesendureenterthunderandlightningentercaskaandcicerocicgoodeuencaskabroughtyoucaesarhomewhyareyoubreathlesseandwhystareyousocaskarenotyoumoudwhenalltheswayofearthshakeslikeathingvnfirmeociceroihaueseenetempestswhenthescoldingwindshaueriudtheknottieoakesandihaueseenethambitiousoceanswellandrageandfoametobeexaltedwiththethreatningcloudsbutneuertilltonightneuertillnowdidigoethroughatempestdroppingfireeytherthereisaciuillstrifeinheauenorelsetheworldtoosawciewiththegodsincensesthemtosenddestructioncicwhysawyouanythingmorewonderfullcaskacommonslaueyouknowhimwellbysightheldvphislefthandwhichdidflameandburneliketwentietorchesioyndandyethishandnotsensibleoffireremaindvnscorchdbesidesihanotsinceputvpmyswordagainstthecapitollimetalyonwhoglazdvponmeandwentsurlybywithoutannoyingmeandthereweredrawnevponaheapeahundredgastlywomentransformedwiththeirfearewhosworetheysawmenallinfirewalkevpanddownethestreetesandyesterdaythebirdofnightdidsiteuenatnoonedayvponthemarketplacehowtingandshreekingwhentheseprodigiesdoesoconioyntlymeetletnotmensaythesearetheirreasonstheyarenaturallforibeleeuetheyareportentousthingsvntotheclymatethattheypointvponcicindeeditisastrangedisposedtimebutmenmayconstruethingsaftertheirfashioncleanefromthepurposeofthethingsthemseluescomescaesartothecapitolltomorrowcaskhedothforhedidbidantoniosendwordtoyouhewouldbetheretomorrowcicgoodnightthencaskathisdisturbedskieisnottowalkeincaskfarewellciceroexitciceroentercassiuscassiwhostherecaskaromanecassicaskabyyourvoycecaskyoureareisgoodcassiuswhatnightisthiscassiaverypleasingnighttohonestmencaskwhoeuerknewtheheauensmenacesocassithosethathaueknownetheearthsofulloffaultsformypartihauewalkdaboutthestreetssubmittingmevntotheperillousnightandthusvnbracedcaskaasyouseehauebardmybosometothethunderstoneandwhenthecrosseblewlightningseemdtoopenthebrestofheauenididpresentmyselfeeuenintheaymeandveryflashofitcaskbutwhereforedidyousomuchtempttheheauensitisthepartofmentofeareandtremblewhenthemostmightiegodsbytokenssendsuchdreadfullherauldstoastonishvscassiyouaredullcaskaandthosesparkesoflifethatshouldbeinaromanyoudoewantorelseyouvsenotyoulookepaleandgazeandputonfeareandcastyourselfeinwondertoseethestrangeimpatienceoftheheauensbutifyouwouldconsiderthetruecausewhyallthesefireswhyalltheseglidingghostswhybirdsandbeastsfromqualitieandkindewhyoldmenfoolesandchildrencalculatewhyallthesethingschangefromtheirordinancetheirnaturesandpreformedfacultiestomonstrousqualitiewhyyoushallfindethatheauenhathinfusdthemwiththesespiritstomaketheminstrumentsoffeareandwarningvntosomemonstrousstatenowcouldicaskanametotheeamanmostlikethisdreadfullnightthatthunderslightensopensgrauesandroaresasdoththelyoninthecapitollamannomightierthenthyselfeormeinpersonallactionyetprodigiousgrowneandfearefullasthesestrangeeruptionsarecasktiscaesarthatyoumeaneisitnotcassiuscassiletitbewhoitisforromansnowhauethewesandlimbesliketotheirancestorsbutwoethewhileourfathersmindesaredeadandwearegouerndwithourmothersspiritsouryoakeandsufferanceshewvswomanishcaskindeedtheysaythesenatorstomorrowmeanetoestablishcaesarasakingandheshallwearehiscrownebyseaandlandineueryplacesauehereinitalycassiiknowwhereiwillwearethisdaggerthencassiusfrombondagewilldeliuercassiusthereinyeegodsyoumaketheweakemoststrongthereinyeegodsyoutyrantsdoedefeatnorstonietowernorwallsofbeatenbrassenorayrelessedungeonnorstronglinkesofironcanberetentiuetothestrengthofspiritbutlifebeingwearieoftheseworldlybarresneuerlackspowertodismisseitselfeifiknowthisknowalltheworldbesidesthatpartoftyranniethatidoebeareicanshakeoffatpleasurethunderstillcasksocanisoeuerybondmaninhisownehandbearesthepowertocancellhiscaptiuitiecassiandwhyshouldcsarbeatyrantthenpooremaniknowhewouldnotbeawolfebutthatheseestheromansarebutsheepehewerenolyonwerenotromanshindesthosethatwithhastewillmakeamightiefirebeginitwithweakestraweswhattrashisromewhatrubbishandwhatoffallwhenitseruesforthebasemattertoilluminatesovileathingascaesarbutohgriefewherehastthouledmeiperhapsspeakethisbeforeawillingbondmantheniknowmyansweremustbemadebutiamarmdanddangersaretomeindifferentcaskyouspeaketocaskaandtosuchamanthatisnoflearingtelltaleholdmyhandbefactiousforredresseofallthesegriefesandiwillsetthisfootofmineasfarreaswhogoesfarthestcassitheresabargainemadenowknowyoucaskaihauemoudalreadysomecertaineofthenoblestmindedromanstovndergoewithmeanenterprizeofhonorabledangerousconsequenceandidoeknowbythistheystayformeinpompeyesporchfornowthisfearefullnightthereisnostirreorwalkinginthestreetesandthecomplexionoftheelementisfauorsliketheworkewehaueinhandmostbloodiefierieandmostterribleentercinnacaskastandcloseawhileforheerecomesoneinhastecassitiscinnaidoeknowhimbyhisgateheisafriendcinnawherehasteyousocinnatofindeoutyouwhosthatmetelluscymbercassinoitiscaskaoneincorporatetoourattemptsaminotstaydforcinnacinnaiamgladontwhatafearefullnightisthistherestwoorthreeofvshaueseenestrangesightscassiaminotstaydfortellmecinnayesyouareocassiusifyoucouldbutwinnethenoblebrutustoourpartycassibeyoucontentgoodcinnatakethispaperandlookeyoulayitinthepretorschayrewherebrutusmaybutfindeitandthrowthisinathiswindowsetthisvpwithwaxevponoldbrutusstatueallthisdonerepairetopompeyesporchwhereyoushallfindevsisdeciusbrutusandtreboniustherecinnaallbutmetelluscymberandheesgonetoseekeyouatyourhousewelliwillhieandsobestowthesepapersasyoubadmecassithatdonerepayretopompeyestheaterexitcinnacomecaskayouandiwillyeteredayseebrutusathishousethreepartsofhimisoursalreadieandthemanentirevponthenextencounteryeeldshimourscaskohesitshighinallthepeoplesheartsandthatwhichwouldappeareoffenceinvshiscountenancelikerichestalchymiewillchangetovertueandtoworthinessecassihimandhisworthandourgreatneedofhimyouhauerightwellconceitedletvsgoeforitisaftermidnightanderedaywewillawakehimandbesureofhimexeuntactussecundusenterbrutusinhisorchardbrutwhatluciushoeicannotbytheprogresseofthestarresgiueguessehowneeretodayluciusisayiwoulditweremyfaulttosleepesosoundlywhenluciuswhenawakeisaywhatluciusenterluciusluccalldyoumylordbrutgetmeataporinmystudyluciuswhenitislightedcomeandcallmehereluciwillmylordenterbrutitmustbebyhisdeathandformypartiknownopersonallcausetospurneathimbutforthegenerallhewouldbecrowndhowthatmightchangehisnaturetheresthequestionitisthebrightdaythatbringsforththeadderandthatcraueswariewalkingcrownehimthatandthenigrauntweputastinginhimthatathiswillhemaydoedangerwiththabuseofgreatnesseiswhenitdisioynesremorsefrompowerandtospeaketruthofcaesarihauenotknownewhenhisaffectionsswaydmorethenhisreasonbuttisacommonproofethatlowlynesseisyoungambitionsladderwheretotheclimbervpwardturneshisfacebutwhenheonceattainesthevpmostroundhethenvntotheladderturneshisbackelookesinthecloudsscorningthebasedegreesbywhichhedidascendsocaesarmaythenleasthemaypreuentandsincethequarrellwillbearenocolourforthethingheisfashionitthusthatwhatheisaugmentedwouldrunnetotheseandtheseextremitiesandthereforethinkehimasaserpentseggewhichhatchdwouldashiskindegrowmischieuousandkillhimintheshellenterluciuslucthetaperburnethinyourclosetsirsearchingthewindowforaflintifoundthispaperthussealdvpandiamsureitdidnotlyetherewheniwenttobedgiueshimtheletterbrutgetyoutobedagaineitisnotdayisnottomorrowboythefirstofmarchluciknownotsirbrutlookeinthecalenderandbringmewordluciwillsirenterbruttheexhalationswhizzingintheayregiuesomuchlightthatimayreadebythemopenstheletterandreadesbrutusthousleepstawakeandseethyselfeshallromecspeakestrikeredressebrutusthousleepstawakesuchinstigationshauebeeneoftendroptwhereihauetookethemvpshallromecthusmustipieceitoutshallromestandvnderonemansawewhatromemyancestorsdidfromthestreetesofromethetarquindriuewhenhewascalldakingspeakestrikeredresseamientreatedtospeakeandstrikeoromeimaketheepromiseiftheredressewillfollowthoureceiuestthyfullpetitionatthehandofbrutusenterluciuslucsirmarchiswastedfifteenedayesknockewithinbruttisgoodgotothegatesomebodyknockssincecassiusfirstdidwhetmeagainstcaesarihauenotsleptbetweenetheactingofadreadfullthingandthefirstmotionalltheinterimislikeaphantasmaorahideousdreamethegeniusandthemortallinstrumentsarethenincouncellandthestateofamanliketoalittlekingdomesuffersthenthenatureofaninsurrectionenterluciuslucsirtisyourbrothercassiusatthedoorewhodothdesiretoseeyoubrutishealonelucnosirtherearemoewithhimbrutdoeyouknowthemlucnosirtheirhatsareplucktabouttheirearesandhalfetheirfacesburiedintheircloakesthatbynomeanesimaydiscouerthembyanymarkeoffauourbrutletementertheyarethefactionoconspiracieshamstthoutoshewthydangrousbrowbynightwheneuillsaremostfreeothenbydaywherewiltthoufindeacauernedarkeenoughtomaskethymonstrousvisageseeknoneconspiraciehideitinsmilesandaffabilitieforifthoupaththynatiuesemblanceonnoterebusitselfeweredimmeenoughtohidetheefrompreuentionentertheconspiratorscassiuscaskadeciuscinnametellusandtreboniuscassithinkewearetooboldvponyourrestgoodmorrowbrutusdoewetroubleyoubrutihauebeenevpthishowreawakeallnightknowithesementhatcomealongwithyoucassyeseuerymanofthemandnomanherebuthonorsyouandeueryonedothwishyouhadbutthatopinionofyourselfewhicheuerynobleromanbearesofyouthisistreboniusbrutheiswelcomehithercassthisdeciusbrutusbrutheiswelcometoocassthiscaskathiscinnaandthismetelluscymberbruttheyareallwelcomewhatwatchfullcaresdoeinterposethemseluesbetwixtyoureyesandnightcassshallientreatawordtheywhisperdeciusherelyestheeastdothnotthedaybreakeheerecasknocinopardonsiritdothandyongreylinesthatfretthecloudsaremessengersofdaycaskyoushallconfessethatyouarebothdeceiudheereasipointmyswordthesunneariseswhichisagreatwaygrowingonthesouthweighingtheyouthfullseasonoftheyearesometwomonethshencevphighertowardthenorthhefirstpresentshisfireandthehigheaststandsasthecapitolldirectlyheerebrugiuemeyourhandsalloueronebyonecasandletvssweareourresolutionbrutnonotanoathifnotthefaceofmenthesufferanceofoursoulesthetimesabuseifthesebemotiuesweakebreakeoffbetimesandeuerymanhencetohisidlebedsolethighsightedtyrannyrangeontilleachmandropbylotterybutiftheseasiamsuretheydobearefireenoughtokindlecowardsandtosteelewithvalourthemeltingspiritsofwomenthencountrymenwhatneedeweanyspurrebutourownecausetoprickevstoredressewhatotherbondthensecretromansthathauespokethewordandwillnotpalterandwhatotheroaththenhonestytohonestyingagdthatthisshallbeorwewillfallforitswearepriestsandcowardsandmencautelousoldfeeblecarrionsandsuchsufferingsoulesthatwelcomewrongsvntobadcausesswearesuchcreaturesasmendoubtbutdonotstainetheeuenvertueofourenterprizenorthinsuppressiuemettleofourspiritstothinkethatorourcauseorourperformancedidneedeanoathwheneuerydropofbloodthateueryromanbearesandnoblybearesisguiltyofaseuerallbastardieifhedobreakethesmallestparticleofanypromisethathathpastfromhimcasbutwhatofciceroshallwesoundhimithinkehewillstandverystrongwithvscaskletvsnotleauehimoutcynnobynomeanesmeteloletvshauehimforhissiluerhaireswillpurchasevsagoodopinionandbuymensvoycestocommendourdeedsitshallbesaydhisiudgementruldourhandsouryouthsandwildenesseshallnowhitappearebutallbeburiedinhisgrauitybruonamehimnotletvsnotbreakewithhimforhewillneuerfollowanythingthatothermenbegincasthenleauehimoutcaskindeedheisnotfitdeciusshallnomanelsebetouchtbutonelycaesarcasdeciuswellvrgdithinkeitisnotmeetmarkeantonysowellbeloudofcaesarshouldoutliuecaesarweshallfindeofhimashrewdcontriuerandyouknowhismeanesifheimprouethemmaywellstretchsofarreastoannoyvsallwhichtopreuentletantonyandcaesarfalltogetherbruourcoursewillseemetoobloodycaiuscassiustocuttheheadoffandthenhackethelimbeslikewrathindeathandenuyafterwardsforantonyisbutalimbeofcaesarletsbesacrificersbutnotbutcherscaiusweallstandvpagainstthespiritofcaesarandinthespiritofmenthereisnobloodothatwethencouldcomebycaesarsspiritandnotdismembercaesarbutalascaesarmustbleedforitandgentlefriendsletskillhimboldlybutnotwrathfullyletscaruehimasadishfitforthegodsnothewhimasacarkassefitforhoundsandletourheartsassubtlemastersdostirrevptheirseruantstoanacteofrageandafterseemetochideemthisshallmakeourpurposenecessaryandnotenuiouswhichsoappearingtothecommoneyesweshallbecalldpurgersnotmurderersandformarkeantonythinkenotofhimforhecandonomorethencaesarsarmewhencaesarsheadisoffcasyetifearehimforintheingraftedlouehebearestocaesarbrualasgoodcassiusdonotthinkeofhimifhelouecaesarallthathecandoistohimselfetakethoughtanddyeforcaesarandthatweremuchheshouldforheisgiuentosportstowildenesseandmuchcompanytrebthereisnofeareinhimlethimnotdyeforhewillliueandlaughatthisheereafterclockestrikesbrupeacecounttheclockecastheclockehathstrickenthreetrebtistimetopartcassbutitisdoubtfullyetwhethercaesarwillcomeforthtodayornoforheissuperstitiousgrowneoflatequitefromthemaineopinionheheldonceoffantasieofdreamesandceremoniesitmaybetheseapparantprodigiesthevnaccustomdterrorofthisnightandtheperswasionofhisaugurersmayholdhimfromthecapitolltodaydeciusneuerfearethatifhebesoresoludicanoreswayhimforhelouestohearethatvnicornesmaybebetraydwithtreesandbeareswithglasseselephantswithholeslyonswithtoylesandmenwithflatterersbutwhenitellhimhehatesflatterershesayeshedoesbeingthenmostflatteredletmeworkeforicangiuehishumourthetruebentandiwillbringhimtothecapitollcasnaywewillallofvsbetheretofetchhimbrubytheeighthoureisthatthevttermostcinbethatthevttermostandfailenotthenmetcaiusligariusdothbearecaesarhardwhoratedhimforspeakingwellofpompeyiwondernoneofyouhauethoughtofhimbrunowgoodmetellusgoalongbyhimhelouesmewellandihauegiuenhimreasonssendhimbuthitherandilefashionhimcasthemorningcomesvponsweelleaueyoubrutusandfriendsdisperseyourseluesbutallrememberwhatyouhauesaidandshewyourseluestrueromansbrugoodgentlemenlookefreshandmerrilyletnotourlookesputonourpurposesbutbeareitasourromanactorsdowithvntyrdspiritsandformallconstancieandsogoodmorrowtoyoueueryoneexeuntmanetbrutusboyluciusfastasleepeitisnomatterenioythehonyheauydewofslumberthouhastnofiguresnornofantasieswhichbusiecaredrawesinthebrainesofmenthereforethousleepstsosoundenterportiaporbrutusmylordbruportiawhatmeaneyouwherforeriseyounowitisnotforyourhealththustocommityourweakeconditiontotherawcoldmorningpornorforyoursneitheryhauevngentlybrutusstolefrommybedandyesternightatsupperyousodainlyaroseandwalkdaboutmusingandsighingwithyourarmesacrosseandwheniaskdyouwhatthematterwasyoustardvponmewithvngentlelookesivrgdyoufurtherthenyouscratchdyourheadandtooimpatientlystamptwithyourfooteyetiinsistedyetyouanswerdnotbutwithanangrywafterofyourhandgauesigneformetoleaueyousoididfearingtostrengthenthatimpatiencewhichseemdtoomuchinkindledandwithallhopingitwasbutaneffectofhumorwhichsometimehathhishourewitheuerymanitwillnotletyoueatenortalkenorsleepeandcoulditworkesomuchvponyourshapeasithathmuchpreuayldonyourconditionishouldnotknowyoubrutusdearemylordmakemeacquaintedwithyourcauseofgreefebruiamnotwellinhealthandthatisallporbrutusiswiseandwerehenotinhealthhewouldembracethemeanestocomebyitbruwhysoidogoodportiagotobedporisbrutussickeandisitphysicalltowalkevnbracedandsuckevpthehumoursofthedankemorningwhatisbrutussickeandwillhestealeoutofhiswholsomebedtodarethevilecontagionofthenightandtempttherhewmyandvnpurgedayretoaddevntohissicknessenomybrutusyouhauesomesickeoffencewithinyourmindewhichbytherightandvertueofmyplaceioughttoknowofandvponmykneesicharmeyoubymyoncecommendedbeautybyallyourvowesofloueandthatgreatvowwhichdidincorporateandmakevsonethatyouvnfoldtomeyourselfeyourhalfewhyyouareheauyandwhatmentonighthauehadresorttoyouforheerehauebeenesomesixeorseuenwhodidhidetheirfaceseuenfromdarknessebrukneelenotgentleportiaporishouldnotneedeifyouweregentlebrutuswithinthebondofmarriagetellmebrutusisitexceptedishouldknownosecretsthatappertainetoyouamiyourselfebutasitwereinsortorlimitationtokeepewithyouatmealescomfortyourbedandtalketoyousometimesdwellibutinthesuburbsofyourgoodpleasureifitbenomoreportiaisbrutusharlotnothiswifebruyouaremytrueandhonourablewifeasdeeretomeasaretheruddydroppesthatvisitmysadheartporifthisweretruethenshouldiknowthissecretigrauntiamawomanbutwithallawomanthatlordbrutustooketowifeigrauntiamawomanbutwithallawomanwellreputedcatosdaughterthinkeyouiamnostrongerthenmysexbeingsofatherdandsohusbandedtellmeyourcounselsiwillnotdiscloseemihauemadestrongproofeofmyconstanciegiuingmyselfeavoluntarywoundheereinthethighcanibearethatwithpatienceandnotmyhusbandssecretsbruoyegodsrendermeworthyofthisnoblewifeknockeharkeharkeoneknockesportiagoinawhileandbyandbythybosomeshallpartakethesecretsofmyheartallmyengagementsiwillconstruetotheeallthecharracteryofmysadbrowesleauemewithhastexitportiaenterluciusandligariusluciuswhosthatknockeslucheereisasickemanthatwouldspeakwithyoubrucaiusligariusthatmetellusspakeofboystandasidecaiusligariushowcaivouchsafegoodmorrowfromafeebletonguebruowhatatimehaueyouchoseoutbrauecaiustoweareakerchiefewouldyouwerenotsickecaiiamnotsickeifbrutushaueinhandanyexploitworthythenameofhonorbrusuchanexploithaueiinhandligariushadyouahealthfullearetoheareofitcaibyallthegodsthatromansbowbeforeiheerediscardmysicknessesouleofromebrauesonnederiudfromhonourableloinesthoulikeanexorcisthastconiurdvpmymortifiedspiritnowbidmerunneandiwillstriuewiththingsimpossibleyeagetthebetterofthemwhatstodobruapeeceofworkethatwillmakesickemenwholecaibutarenotsomewholethatwemustmakesickebruthatmustwealsowhatitismycaiusishallvnfoldtotheeaswearegoingtowhomitmustbedonecaisetonyourfooteandwithaheartnewfirdifollowyoutodoiknownotwhatbutitsufficeththatbrutusleadsmeonthunderbrufollowmethenexeuntthunderlightningenteriuliuscaesarinhisnightgownecaesarnorheauennorearthhauebeeneatpeacetonightthricehathcalphurniainhersleepecryedouthelpehotheymurthercaesarwhoswithinenteraseruantsermylordcaesgobidthepriestsdopresentsacrificeandbringmetheiropinionsofsuccesseseriwillmylordexitentercalphurniacalwhatmeanyoucaesarthinkyoutowalkforthyoushallnotstirreoutofyourhousetodaycaescaesarshallforththethingsthatthreatendmenerelookdbutonmybackewhentheyshallseethefaceofcaesartheyarevanishedcalpcaesarineuerstoodonceremoniesyetnowtheyfrightmethereisonewithinbesidesthethingsthatwehaueheardandseenerecountsmosthorridsightsseenebythewatchalionnessehathwhelpedinthestreetsandgraueshaueyawndandyeeldedvptheirdeadfiercefierywarrioursfightvponthecloudsinrankesandsquadronsandrightformeofwarrewhichdrizeldbloodvponthecapitollthenoiseofbattellhurtledintheayrehorssesdoneighanddyingmendidgroneandghostsdidshriekeandsquealeaboutthestreetsocaesarthesethingsarebeyondallvseandidofearethemcaeswhatcanbeauoydedwhoseendispurposdbythemightygodsyetcaesarshallgoforthforthesepredictionsaretotheworldingenerallastocaesarcalpwhenbeggersdyetherearenocometsseentheheauensthemseluesblazeforththedeathofprincescaescowardsdyemanytimesbeforetheirdeathsthevaliantneuertasteofdeathbutonceofallthewondersthatiyethauehearditseemestomemoststrangethatmenshouldfeareseeingthatdeathanecessaryendwillcomewhenitwillcomeenteraseruantwhatsaytheaugurerssertheywouldnothaueyoutostirreforthtodaypluckingtheintrailesofanofferingforththeycouldnotfindeaheartwithinthebeastcaesthegodsdothisinshameofcowardicecaesarshouldbeabeastwithoutaheartifheshouldstayathometodayforfearenocaesarshallnotdangerknowesfullwellthatcaesarismoredangerousthenhewehearetwolyonslitterdinonedayanditheelderandmoreterribleandcaesarshallgofoorthcalpalasmylordyourwisedomeisconsumdinconfidencedonotgoforthtodaycallitmyfearethatkeepesyouinthehouseandnotyourowneweelsendmarkantonytothesenatehouseandheshallsayyouarenotwelltodayletmevponmykneepreuaileinthiscaesmarkantonyshallsayiamnotwellandforthyhumoriwillstayathomeenterdeciusheeresdeciusbrutusheshalltellthemsodecicaesarallhailegoodmorrowworthycaesaricometofetchyoutothesenatehousecaesandyouarecomeinveryhappytimetobearemygreetingtothesenatorsandtellthemthatiwillnotcometodaycannotisfalseandthatidarenotfalseriwillnotcometodaytellthemsodeciuscalpsayheissickecaesshallcaesarsendalyehaueiinconqueststretchtminearmesofarretobeafeardtotellgraybeardsthetruthdeciusgotellthemcaesarwillnotcomedecimostmightycaesarletmeknowsomecauselestibelaughtatwhenitellthemsocaesthecauseisinmywilliwillnotcomethatisenoughtosatisfiethesenatebutforyourpriuatesatisfactionbecauseiloueyouiwillletyouknowcalphurniaheeremywifestayesmeathomeshedreampttonightshesawmystatuewhichlikeafountainewithanhundredspoutsdidrunpurebloodandmanylustyromanscamesmilingdidbathetheirhandsinitandthesedoessheapplyforwarningsandportentsandeuilsimminentandonherkneehathbeggdthatiwillstayathometodaydecithisdreameisallamisseinterpreteditwasavisionfaireandfortunateyourstatuespoutingbloodinmanypipesinwhichsomanysmilingromansbathdsignifiesthatfromyougreatromeshallsuckereuiuingbloodandthatgreatmenshallpressefortincturesstainesreliquesandcognisancethisbycalphurniasdreameissignifiedcaesandthiswayhaueyouwellexpoundeditdeciihauewhenyouhaueheardwhaticansayandknowitnowthesenatehaueconcludedtogiuethisdayacrownetomightycaesarifyoushallsendthemwordyouwillnotcometheirmindesmaychangebesidesitwereamockeapttoberenderdforsomeonetosaybreakevpthesenatetillanothertimewhencaesarswifeshallmeetewithbetterdreamesifcaesarhidehimselfeshalltheynotwhisperloecaesarisaffraidpardonmecaesarformydeeredeerelouetoyourproceedingbidsmetellyouthisandreasontomyloueisliablecaeshowfoolishdoyourfearsseemenowcalphurniaiamashamedididyeeldtothemgiuememyrobeforiwillgoenterbrutusligariusmetelluscaskatreboniuscynnaandpubliusandlookewherepubliusiscometofetchmepubgoodmorrowcaesarcaeswelcomepubliuswhatbrutusareyoustirrdsoearelytoogoodmorrowcaskacaiusligariuscaesarwasneresomuchyourenemyasthatsameaguewhichhathmadeyouleanewhatistaclockebrucaesartisstruckeneightcaesithankeyouforyourpainesandcurtesieenterantonyseeantonythatreuelslonganightsisnotwithstandingvpgoodmorrowantonyantsotomostnoblecaesarcaesbidthempreparewithiniamtooblametobethuswaitedfornowcynnanowmetelluswhattreboniusihaueanhourestalkeinstoreforyourememberthatyoucallonmetodaybeneeremethatimayrememberyoutrebcaesariwillandsoneerewillibethatyourbestfriendsshallwishihadbeenefurthercaesgoodfriendsgoinandtastesomewinewithmeandwelikefriendswillstraightwaygotogetherbruthateuerylikeisnotthesameocaesartheheartofbrutusearnestothinkevponexeuntenterartemidoruscaesarbewareofbrutustakeheedeofcassiuscomenotneerecaskahaueaneyetocynnatrustnottreboniusmarkewellmetelluscymberdeciusbrutuslouestheenotthouhastwrongdcaiusligariusthereisbutonemindeinallthesemenanditisbentagainstcaesarifthoubeestnotimmortalllookeaboutyousecuritygiueswaytoconspiraciethemightygodsdefendtheethylouerartemidorusheerewillistandtillcaesarpassealongandasasutorwilligiuehimthismyheartlamentsthatvertuecannotliueoutoftheteethofemulationifthoureadethisocaesarthoumayestliueifnotthefateswithtraitorsdocontriueenterenterportiaandluciusporiprytheeboyruntothesenatehousestaynottoanswermebutgettheegonewhydoestthoustayluctoknowmyerrandmadamporiwouldhauehadtheethereandheereagenereicantelltheewhatthoushouldstdothereoconstanciebestrongvponmysidesetahugemountainetweenemyheartandtongueihaueamansmindebutawomansmighthowharditisforwomentokeepecounsellartthouheereyetlucmadamwhatshouldidoruntothecapitollandnothingelseandsoreturnetoyouandnothingelseporyesbringmewordboyifthylordlookwellforhewentsicklyforthandtakegoodnotewhatcaesardothwhatsutorspressetohimhearkeboywhatnoyseisthatlucihearenonemadamporprytheelistenwelliheardabusslingrumorlikeafrayandthewindebringsitfromthecapitolllucsoothmadamihearenothingenterthesoothsayerporcomehitherfellowwhichwayhastthoubinsoothatmineownehousegoodladyporwhatistaclockesoothabouttheninthhoureladyporiscaesaryetgonetothecapitollsoothmadamnotyetigototakemystandtoseehimpasseontothecapitollporthouhastsomesuitetocaesarhastthounotsooththatihaueladyifitwillpleasecaesartobesogoodtocaesarastohearemeishallbeseechhimtobefriendhimselfeporwhyknowstthouanyharmesintendedtowardshimsoothnonethatiknowwillbemuchthatifearemaychancegoodmorrowtoyouheerethestreetisnarrowthethrongthatfollowescaesarattheheelesofsenatorsofpraetorscommonsutorswillcrowdafeeblemanalmosttodeathilegetmetoaplacemorevoydandtherespeaketogreatcaesarashecomesalongexitporimustgoinayemehowweakeathingtheheartofwomanisobrutustheheauensspeedetheeinthineenterprizesuretheboyheardmebrutushathasuitethatcaesarwillnotgrantoigrowfaintrunluciusandcommendmetomylordsayiammerrycometomeagaineandbringmewordwhathedothsaytotheeexeuntactustertiusflourishentercaesarbrutuscassiuscaskadeciusmetellustreboniuscynnaantonylepidusartimedoruspubliusandthesoothsayercaestheidesofmarcharecomesoothicaesarbutnotgonearthailecaesarreadthissceduledecitreboniusdothdesireyoutoorereadatyourbestleysurethishishumblesuiteartocaesarreademinefirstforminesasuitethattouchescaesarneererreaditgreatcaesarcaeswhattouchesvsourselfeshallbelastserudartdelaynotcaesarreaditinstantlycaeswhatisthefellowmadpubsirragiueplacecassiwhatvrgeyouyourpetitionsinthestreetcometothecapitollpopiliwishyourenterprizetodaymaythriuecassiwhatenterprizepopilliuspopilfareyouwellbruwhatsaidpopilliuslenacassihewishttodayourenterprizemightthriueifeareourpurposeisdiscoueredbrulookehowhemakestocaesarmarkehimcassicaskabesodaineforwefearepreuentionbrutuswhatshallbedoneifthisbeknownecassiusorcaesarneuershallturnebackeforiwillslaymyselfebrucassiusbeconstantpopilliuslenaspeakesnotofourpurposesforlookehesmilesandcaesardothnotchangecassitreboniusknoweshistimeforlookyoubrutushedrawesmarkantonyoutofthewaydeciwhereismetelluscimberlethimgoandpresentlypreferrehissuitetocaesarbruheisaddrestpresseneereandsecondhimcincaskayouarethefirstthatrearesyourhandcaesareweallreadywhatisnowamissethatcaesarandhissenatemustredressemetelmosthighmostmightyandmostpuisantcaesarmetelluscymberthrowesbeforethyseateanhumbleheartcaesimustpreuenttheecymberthesecouchingsandtheselowlycourtesiesmightfirethebloodofordinarymenandturnepreordinanceandfirstdecreeintothelaneofchildrenbenotfondtothinkethatcaesarbearessuchrebellbloodthatwillbethawdfromthetruequalitywiththatwhichmeltethfoolesimeanesweetwordslowcrookedcurtsiesandbasespaniellfawningthybrotherbydecreeisbanishedifthoudoestbendandprayandfawneforhimispurnetheelikeacurreoutofmywayknowcaesardothnotwrongnorwithoutcausewillhebesatisfiedmetelistherenovoycemoreworthythenmyownetosoundmoresweetlyingreatcaesarsearefortherepealingofmybanishdbrotherbruikissethyhandbutnotinflatterycaesardesiringtheethatpubliuscymbermayhaueanimmediatefreedomeofrepealecaeswhatbrutuscassipardoncaesarcaesarpardonasloweastothyfootedothcassiusfalltobeggeinfranchisementforpubliuscymbercaesicouldbewellmoudifiwereasyouificouldpraytomooueprayerswouldmoouemebutiamconstantasthenorthernestarreofwhosetruefixtandrestingqualitythereisnofellowinthefirmamenttheskiesarepaintedwithvnnumbredsparkestheyareallfireandeueryonedothshinebuttheresbutoneinalldothholdhisplacesointheworldtisfurnishdwellwithmenandmenarefleshandbloodandapprehensiueyetinthenumberidoknowbutonethatvnassayleableholdsonhisrankevnshakdofmotionandthatiamheletmealittleshewiteueninthisthatiwasconstantcymbershouldbebanishdandconstantdoremainetokeepehimsocinnaocaesarcaeshencewiltthouliftvpolympusdeciusgreatcaesarcaesdothnotbrutusbootlessekneelecaskspeakehandsformetheystabcaesarcaesettubrutethenfallcaesardyescinlibertyfreedometyrannyisdeadrunhenceproclaimecryitaboutthestreetscassisometothecommonpulpitsandcryoutlibertyfreedomeandenfranchisementbrupeopleandsenatorsbenotaffrightedflynotstandstillambitionsdebtispaidcaskgotothepulpitbrutusdecandcassiustoobruwherespubliuscinheerequiteconfoundedwiththismutinymetstandfasttogetherleastsomefriendofcaesarsshouldchancebrutalkenotofstandingpubliusgoodcheerethereisnoharmeintendedtoyourpersonnortonoromanelsesotellthempubliuscassiandleauevspubliusleastthatthepeoplerushingonvsshoulddoyouragesomemischiefebrudosoandletnomanabidethisdeedebutwethedoersentertreboniuscassiwhereisantonytrebfledtohishouseamazdmenwiuesandchildrenstarecryoutandrunasitweredoomesdaybrufateswewillknowyourpleasuresthatweshalldyeweknowtisbutthetimeanddrawingdayesoutthatmenstandvponcaskwhyhethatcutsofftwentyyearesoflifecutsoffsomanyyearesoffearingdeathbrugrantthatandthenisdeathabenefitsoarewecaesarsfriendsthathaueabridgdhistimeoffearingdeathstooperomansstoopeandletvsbatheourhandsincaesarsbloodvptotheelbowesandbesmeareourswordsthenwalkewefortheuentothemarketplaceandwauingourredweaponsoreourheadsletsallcrypeacefreedomeandlibertycassistoopthenandwashhowmanyageshenceshallthisourloftyscenebeactedouerinstatevnborneandaccentsyetvnknownebruhowmanytimesshallcaesarbleedinsportthatnowonpompeyesbasislyealongnoworthierthenthedustcassisooftasthatshallbesooftenshalltheknotofvsbecalldthementhatgauetheircountrylibertydecwhatshallweforthcassiieuerymanawaybrutusshallleadeandwewillgracehisheeleswiththemostboldestandbestheartsofromeenteraseruantbrusoftwhocomesheereafriendofantoniesserthusbrutusdidmymasterbidmekneelethusdidmarkantonybidmefalldowneandbeingprostratethushebadmesaybrutusisnoblewisevaliantandhonestcaesarwasmightyboldroyallandlouingsayilouebrutusandihonourhimsayifeardcaesarhonourdhimandloudhimifbrutuswillvouchsafethatantonymaysafelycometohimandberesoludhowcaesarhathdeserudtolyeindeathmarkantonyshallnotlouecaesardeadsowellasbrutusliuingbutwillfollowthefortunesandaffayresofnoblebrutusthoroughthehazardsofthisvntrodstatewithalltruefaithsosayesmymasterantonybruthymasterisawiseandvaliantromaneineuerthoughthimworsetellhimsopleasehimcomevntothisplaceheshallbesatisfiedandbymyhonordepartvntouchdserilefetchhimpresentlyexitseruantbruiknowthatweshallhauehimwelltofriendcassiiwishwemaybutyethaueiamindethatfeareshimmuchandmymisgiuingstillfallesshrewdlytothepurposeenterantonybrubutheerecomesantonywelcomemarkantonyantomightycaesardostthoulyesoloweareallthyconquestsgloriestriumphesspoilesshrunketothislittlemeasurefaretheewelliknownotgentlemenwhatyouintendwhoelsemustbeletbloodwhoelseisrankeifimyselfethereisnohouresofitascaesarsdeathshourenornoinstrumentofhalfethatworthasthoseyourswordsmaderichwiththemostnoblebloodofallthisworldidobeseechyeeifyoubearemehardnowwhilstyourpurpledhandsdoreekeandsmoakefulfillyourpleasureliueathousandyeeresishallnotfindemyselfesoapttodyenoplacewillpleasemesonomeaneofdeathasheerebycaesarandbyyoucutoffthechoiceandmasterspiritsofthisagebruoantonybeggenotyourdeathofvsthoughnowwemustappearebloodyandcruellasbyourhandsandthisourpresentacteyouseewedoyetseeyoubutourhandsandthisthebleedingbusinessetheyhauedoneourheartsyouseenottheyarepittifullandpittytothegenerallwrongofromeasfiredriuesoutfiresopittypittyhathdonethisdeedoncaesarforyourparttoyouourswordshaueleadenpointsmarkeantonyourarmesinstrengthofmaliceandourheartsofbrotherstemperdoreceiueyouinwithallkindelouegoodthoughtsandreuerencecassiyourvoyceshallbeasstrongasanymansinthedisposingofnewdignitiesbruonelybepatienttillwehaueappeasdthemultitudebesidethemselueswithfeareandthenwewilldeliueryouthecausewhyithatdidlouecaesarwhenistrookehimhauethusproceededantidoubtnotofyourwisedomeleteachmanrendermehisbloodyhandfirstmarcusbrutuswillishakewithyounextcaiuscassiusdoitakeyourhandnowdeciusbrutusyoursnowyoursmetellusyourscinnaandmyvaliantcaskayoursthoughlastnotleastinloueyoursgoodtreboniusgentlemenallalaswhatshallisaymycreditnowstandsonsuchslipperygroundthatoneoftwobadwayesyoumustconceitmeeitheracowardoraflattererthatididlouetheecaesarotistrueifthenthyspiritlookevponvsnowshallitnotgreeuetheedeererthenthydeathtoseethyantonymakinghispeaceshakingthebloodyfingersofthyfoesmostnobleinthepresenceofthycoarsehadiasmanyeyesasthouhastwoundsweepingasfastastheystreameforththyblooditwouldbecomemebetterthentocloseintearmesoffriendshipwiththineenemiespardonmeiuliusheerewastthoubaydbrauehartheeredidstthoufallandheerethyhuntersstandsigndinthyspoyleandcrimsondinthyletheeoworldthouwasttheforresttothishartandthisindeedoworldthehartoftheehowlikeadeerestrokenbymanyprincesdostthouheerelyecassimarkantonyantpardonmecaiuscassiustheenemiesofcaesarshallsaythistheninafrienditiscoldmodestiecassiiblameyounotforpraisingcaesarsobutwhatcompactmeaneyoutohauewithvswillyoubeprickdinnumberofourfriendsorshallweonandnotdependonyouantthereforeitookeyourhandsbutwasindeedswaydfromthepointbylookingdowneoncaesarfriendsamiwithyouallandloueyouallvponthishopethatyoushallgiuemereasonswhyandwhereincaesarwasdangerousbruorelsewerethisasauagespectacleourreasonsaresofullofgoodregardthatwereyouantonythesonneofcaesaryoushouldbesatisfiedantthatsalliseekeandammoreouersutorthatimayproducehisbodytothemarketplaceandinthepulpitasbecomesafriendspeakeintheorderofhisfunerallbruyoushallmarkeantonycassibrutusawordwithyouyouknownotwhatyoudodonotconsentthatantonyspeakeinhisfunerallknowyouhowmuchthepeoplemaybemoudbythatwhichhewillvtterbrubyyourpardoniwillmyselfeintothepulpitfirstandshewthereasonofourcaesarsdeathwhatantonyshallspeakeiwillprotesthespeakesbyleaueandbypermissionandthatwearecontentedcaesarshallhauealltrueritesandlawfullceremoniesitshalladuantagemorethendovswrongcassiiknownotwhatmayfallilikeitnotbrumarkantonyheeretakeyoucaesarsbodyyoushallnotinyourfunerallspeechblamevsbutspeakeallgoodyoucandeuiseofcaesarandsayyoudootbyourpermissionelseshallyounothaueanyhandatallabouthisfunerallandyoushallspeakeinthesamepulpitwheretoiamgoingaftermyspeechisendedantbeitsoidodesirenomorebrupreparethebodythenandfollowvsexeuntmanetantonyopardonmethoubleedingpeeceofearththatiammeekeandgentlewiththesebutchersthouarttheruinesofthenoblestmanthateuerliuedinthetideoftimeswoetothehandthatshedthiscostlybloodouerthywoundsnowdoiprophesiewhichlikedumbemouthesdoopetheirrubylipstobeggethevoyceandvtteranceofmytongueacurseshalllightvponthelimbesofmendomestickefuryandfierceciuillstrifeshallcumberallthepartsofitalybloodanddestructionshallbesoinvseanddreadfullobiectssofamiliarthatmothersshallbutsmilewhentheybeholdtheirinfantsquarteredwiththehandsofwarreallpittychoakdwithcustomeoffelldeedsandcaesarsspiritrangingforreuengewithatebyhissidecomehotfromhellshallintheseconfineswithamonarkesvoycecryhauockeandletslipthedoggesofwarrethatthisfouledeedeshallsmellabouetheearthwithcarrionmengroaningforburiallenteroctauiosseruantyouserueoctauiuscaesardoyounotseridomarkeantonyantcaesardidwriteforhimtocometoromeserhedidreceiuehislettersandiscommingandbidmesaytoyoubywordofmouthocaesarantthyheartisbiggegettheeapartandweepepassioniseeiscatchingfrommineeyesseeingthosebeadsofsorrowstandinthinebegantowateristhymastercommingserheliestonightwithinseuenleaguesofromeantpostbackewithspeedeandtellhimwhathathchancdheereisamourningromeadangerousromenoromeofsafetyforoctauiusyethiehenceandtellhimsoyetstayawhilethoushaltnotbacketillihauebornethiscourseintothemarketplacethereshallitryinmyorationhowthepeopletakethecruellissueofthesebloodymenaccordingtothewhichthoushaltdiscoursetoyongoctauiusofthestateofthingslendmeyourhandexeuntenterbrutusandgoesintothepulpitandcassiuswiththeplebeiansplewewillbesatisfiedletvsbesatisfiedbruthenfollowmeandgiuemeaudiencefriendscassiusgoyouintotheotherstreeteandpartthenumbersthosethatwillhearemespeakeletemstayheerethosethatwillfollowcassiusgowithhimandpublikereasonsshallberendredofcaesarsdeathpleiwillhearebrutusspeakeiwillhearecassiusandcomparetheirreasonswhenseuerallywehearethemrendredthenoblebrutusisascendedsilencebrubepatienttillthelastromanscountreymenandlouershearemeeformycauseandbesilentthatyoumayhearebeleeuemeforminehonorandhauerespecttominehonorthatyoumaybeleeuecensuremeinyourwisedomandawakeyoursensesthatyoumaythebetteriudgeiftherebeeanyinthisassemblyanydeerefriendofcaesarstohimisaythatbrutuslouetocaesarwasnolessethenhisifthenthatfrienddemandwhybrutusroseagainstcaesarthisismyanswernotthatiloudcaesarlessebutthatiloudromemorehadyourathercaesarwereliuinganddyeallslauesthenthatcaesarweredeadtoliueallfreemenascaesarloudmeeiweepeforhimashewasfortunateireioyceatitashewasvaliantihonourhimbutashewasambitiousislewhimthereistearesforhisloueioyforhisfortunehonorforhisvalouranddeathforhisambitionwhoisheeresobasethatwouldbeabondmanifanyspeakforhimhaueioffendedwhoisheeresorudethatwouldnotbearomanifanyspeakforhimhaueioffendedwhoisheeresovilethatwillnotlouehiscountreyifanyspeakeforhimhaueioffendedipauseforareplyallnonebrutusnonebrutusthennonehaueioffendedihauedonenomoretocaesarthenyoushalldotobrutusthequestionofhisdeathisinrolldinthecapitollhisglorynotextenuatedwhereinhewasworthynorhisoffencesenforcdforwhichhesuffereddeathentermarkantonywithcaesarsbodyheerecomeshisbodymourndbymarkeantonywhothoughhehadnohandinhisdeathshallreceiuethebenefitofhisdyingaplaceinthecommonwealthaswhichofyoushallnotwiththisidepartthatasislewemybestlouerforthegoodofromeihauethesamedaggerformyselfewhenitshallpleasemycountrytoneedmydeathallliuebrutusliueliuebringhimwithtriumphhomevntohishousegiuehimastatuewithhisancestorslethimbecaesarcaesarsbetterpartsshallbecrowndinbrutusweelbringhimtohishousewithshowtsandclamorsbrumycountrymenpeacesilencebrutusspeakespeacehobrugoodcountrymenletmedepartaloneandformysakestayheerewithantonydogracetocaesarscorpesandgracehisspeechtendingtocaesarsglorieswhichmarkeantonybyourpermissionisallowdtomakeidointreatyounotamandepartsaueialonetillantonyhauespokeexitstayhoandletvshearemarkantonylethimgovpintothepublikechaireweelhearehimnobleantonygovpantforbrutussakeiambeholdingtoyouwhatdoeshesayofbrutushesayesforbrutussakehefindeshimselfebeholdingtovsalltwerebesthespeakenoharmeofbrutusheerethiscaesarwasatyrantnaythatscertaineweareblestthatromeisridofhimpeaceletvshearewhatantonycansayantyougentleromansallpeacehoeletvshearehimanfriendsromanscountrymenlendmeyourearsicometoburycaesarnottopraisehimtheeuillthatmendoliuesafterthemthegoodisoftenterredwiththeirbonessoletitbewithcaesarthenoblebrutushathtoldyoucaesarwasambitiousifitweresoitwasagreeuousfaultandgreeuouslyhathcaesaranswerditheerevnderleaueofbrutusandtherestforbrutusisanhonourablemansoaretheyallallhonourablemencomeitospeakeincaesarsfunerallhewasmyfriendfaithfullandiusttomebutbrutussayeshewasambitiousandbrutusisanhonourablemanhehathbroughtmanycaptiueshometoromewhoseransomesdidthegenerallcoffersfilldidthisincaesarseemeambitiouswhenthatthepoorehauecrydecaesarhathweptambitionshouldbemadeofsternerstuffeyetbrutussayeshewasambitiousandbrutusisanhonourablemanyoualldidseethatonthelupercallithricepresentedhimakinglycrownewhichhedidthricerefusewasthisambitionyetbrutussayeshewasambitiousandsureheisanhonourablemanispeakenottodisproouewhatbrutusspokebutheereiamtospeakewhatidoknowyoualldidlouehimoncenotwithoutcausewhatcausewithholdsyouthentomourneforhimoiudgementthouarefledtobrutishbeastsandmenhauelosttheirreasonbearewithmemyheartisinthecoffintherewithcaesarandimustpawsetillitcomebacketomemethinkesthereismuchreasoninhissayingsifthouconsiderrightlyofthemattercaesarhashadgreatwronghasheemastersifearetherewillaworsecomeinhisplacemarkdyehiswordshewouldnottakeycrownthereforetiscertainehewasnotambitiousifitbefoundsosomewilldeereabideitpooresoulehiseyesareredasfirewithweepingtheresnotanoblermaninromethenantonynowmarkehimhebeginsagainetospeakeantbutyesterdaythewordofcaesarmighthauestoodagainsttheworldnowlieshethereandnonesopooretodohimreuerenceomaistersifiweredisposdtostirreyourheartsandmindestomutinyandrageishoulddobrutuswrongandcassiuswrongwhoyouallknowarehonourablemeniwillnotdothemwrongiratherchoosetowrongthedeadtowrongmyselfeandyoutheniwillwrongsuchhonourablemenbutheeresaparchmentwiththesealeofcaesarifounditinhisclossettishiswillletbutthecommonshearethistestamentwhichpardonmeidonotmeanetoreadeandtheywouldgoandkissedeadcaesarswoundsanddiptheirnapkinsinhissacredbloodyeabeggeahaireofhimformemoryanddyingmentionitwithintheirwillesbequeathingitasarichlegacievntotheirissueweelhearethewillreadeitmarkeantonyallthewillthewillwewillhearecaesarswillanthauepatiencegentlefriendsimustnotreadititisnotmeeteyouknowhowcaesarloudyouyouarenotwoodyouarenotstonesbutmenandbeingmenhearingthewillofcaesaritwillinflameyouitwillmakeyoumadtisgoodyouknownotthatyouarehisheiresforifyoushouldowhatwouldcomeofitreadthewillweelheareitantonyyoushallreadevsthewillcaesarswillantwillyoubepatientwillyoustayawhileihaueoreshotmyselfetotellyouofitifeareiwrongthehonourablemenwhosedaggershauestabbdcaesaridofeareittheyweretraitorshonourablemenallthewillthetestamenttheywerevillainesmurderersthewillreadthewillantyouwillcompellmethentoreadthewillthenmakearingaboutthecorpesofcaesarandletmeshewyouhimthatmadethewillshallidescendandwillyougiuemeleaueallcomedownedescendyoushallhaueleauearingstandroundstandfromthehearsestandfromthebodyroomeforantonymostnobleantonyantnaypressenotsovponmestandfarreoffallstandbackeroomebearebackeantifyouhauetearespreparetoshedthemnowyoualldoknowthismantleirememberthefirsttimeeuercaesarputitontwasonasummerseueninginhistentthatdayheouercametheneruijlookeinthisplacerancassiusdaggerthroughseewhatarenttheenuiouscaskamadethroughthisthewelbelouedbrutusstabbdandashepluckdhiscursedsteeleawaymarkehowthebloodofcaesarfolloweditasrushingoutofdoorestoberesoludifbrutussovnkindelyknockdornoforbrutusasyouknowwascaesarsangeliudgeoyougodshowdeerelycaesarloudhimthiswasthemostvnkindestcutofallforwhenthenoblecaesarsawhimstabingratitudemorestrongthentraitorsarmesquitevanquishdhimthenbursthismightyheartandinhismantlemufflingvphisfaceeuenatthebaseofpompeyesstatuewhichallthewhileranbloodgreatcaesarfellowhatafallwastheremycountrymentheniandyouandallofvsfelldownewhilstbloodytreasonflourishdouervsonowyouweepeandiperceiueyoufeelethedintofpittythesearegraciousdroppeskindesouleswhatweepeyouwhenyoubutbeholdourcaesarsvesturewoundedlookeyouheereheereishimselfemarrdasyouseewithtraitorsopitteousspectacleonoblecaesarowofulldayotraitorsvillainesomostbloodysightwewillbereuengdreuengeaboutseekeburnefirekillslayletnotatraitorliueantstaycountrymenpeacetherehearethenobleantonyweelhearehimweelfollowhimweeldywithhimantgoodfriendssweetfriendsletmenotstirreyouvptosuchasodainefloodofmutinytheythathauedonethisdeedearehonourablewhatpriuategreefestheyhauealasiknownotthatmadethemdoittheyarewiseandhonourableandwillnodoubtwithreasonsansweryouicomenotfriendstostealeawayyourheartsiamnooratorasbrutusisbutasyouknowmeallaplainebluntmanthatlouemyfriendandthattheyknowfullwellthatgauemepublikeleauetospeakeofhimforihaueneytherwritnorwordsnorworthactionnorvtterancenorthepowerofspeechtostirremensbloodionelyspeakerightonitellyouthatwhichyouyourseluesdoknowshewyousweetcaesarswoundspoorpoordummouthsandbidthemspeakeformebutwereibrutusandbrutusantonytherewereanantonywouldrufflevpyourspiritsandputatongueineuerywoundofcaesarthatshouldmouethestonesofrometoriseandmutinyallweelmutinyweelburnethehouseofbrutusawaythencomeseeketheconspiratorsantyethearemecountrymenyethearemespeakeallpeacehoeheareantonymostnobleantonyantwhyfriendsyougotodoyouknownotwhatwhereinhathcaesarthusdeserudyourlouesalasyouknownotimusttellyouthenyouhaueforgotthewillitoldyouofallmosttruethewillletsstayandhearethewilantheereisthewillandvndercaesarssealetoeueryromancitizenhegiuestoeueryseuerallmanseuentyfiuedrachmaesplemostnoblecaesarweelreuengehisdeathpleoroyallcaesaranthearemewithpatienceallpeacehoeantmoreouerhehathleftyouallhiswalkeshispriuatearborsandnewplantedorchardsonthissidetyberhehathleftthemyouandtoyourheyresforeuercommonpleasurestowalkeabroadandrecreateyourseluesheerewasacaesarwhencomessuchanotherpleneuerneuercomeawayawayweelburnehisbodyintheholyplaceandwiththebrandsfirethetraitorshousestakevpthebodyplegofetchfireplepluckedownebenchesplepluckedowneformeswindowesanythingexitplebeiansantnowletitworkemischeefethouartafoottakethouwhatcoursethouwilthownowfellowenterseruantsersiroctauiusisalreadycometoromeantwhereisheeserheandlepidusareatcaesarshouseantandthitherwillistraighttovisithimhecomesvponawishfortuneismerryandinthismoodwillgiuevsanythingseriheardhimsaybrutusandcassiusareridlikemadmenthroughthegatesofromeantbeliketheyhadsomenoticeofthepeoplehowihadmouedthembringmetooctauiusexeuntentercinnathepoetandafterhimtheplebeianscinnaidreamttonightthatididfeastwithcaesarandthingsvnluckilychargemyfantasieihauenowilltowanderfoorthofdooresyetsomethingleadsmefoorthwhatisyournamewhetherareyougoingwheredoyoudwellareyouamarriedmanorabatchelloranswereuerymandirectlyiandbreefelyiandwiselyiandtrulyyouwerebestcinwhatismynamewhetheramigoingwheredoidwellamiamarriedmanorabatchellourthentoanswereuerymandirectlyandbreefelywiselyandtrulywiselyisayiamabatchellorthatsasmuchastosaytheyarefoolesthatmarrieyoulbearemeabangforthatifeareproceededirectlycinnadirectlyiamgoingtocaesarsfunerallasafriendoranenemycinnaasafriendthatmatterisanswereddirectlyforyourdwellingbreefelycinnabreefelyidwellbythecapitollyournamesirtrulycinnatrulymynameiscinnatearehimtopeecesheesaconspiratorcinnaiamcinnathepoetiamcinnathepoettearehimforhisbadversestearehimforhisbadversesciniamnotcinnatheconspiratoritisnomatterhisnamescinnapluckebuthisnameoutofhisheartandturnehimgoingtearehimtearhimcomebrandshoefirebrandstobrutustocassiusburneallsometodeciushouseandsometocaskassometoligariusawaygoexeuntalltheplebeiansactusquartusenterantonyoctauiusandlepidusantthesemanythenshalldietheirnamesarepricktoctayourbrothertoomustdyeconsentyoulepiduslepidoconsentoctaprickehimdowneantonylepvponconditionpubliusshallnotliuewhoisyoursisterssonnemarkeantonyantheshallnotliuelookewithaspotidamhimbutlepidusgoyoutocaesarshousefetchthewillhitherandweshalldeterminehowtocutoffsomechargeinlegacieslepwhatshallifindeyouheereoctaorheereoratthecapitollexitlepidusantthisisaslightvnmeritablemanmeettobesentonerrandsisitfitthethreefoldworlddiuidedheshouldstandoneofthethreetoshareitoctasoyouthoughthimandtookehisvoycewhoshouldbeprickttodyeinourblackesentenceandproscriptionantoctauiusihaueseenemoredayesthenyouandthoughwelaythesehonoursonthismantoeaseourseluesofdiuersslandrousloadsheshallbutbearethemastheassebearesgoldtogroaneandswetvnderthebusinesseeitherledordriuenaswepointthewayandhauingbroughtourtreasurewherewewillthentakewedownehisloadandturnehimoffliketotheemptyassetoshakehisearesandgrazeincommonsoctayoumaydoyourwillbutheesatriedandvaliantsouldierantsoismyhorseoctauiusandforthatidoappointhimstoreofprouenderitisacreaturethatiteachtofighttowindetostoptorundirectlyonhiscorporallmotiongouerndbymyspiritandinsometasteislepidusbutsohemustbetaughtandtraindandbidgoforthabarrenspiritedfellowonethatfeedsonobiectsartsandimitationswhichoutofvseandstaldebyothermenbeginhisfashiondonottalkeofhimbutasapropertyandnowoctauiuslistengreatthingsbrutusandcassiusareleuyingpowerswemuststraightmakeheadthereforeletouralliancebecombindourbestfriendsmadeourmeanesstretchtandletvspresentlygositincouncellhowcouertmattersmaybebestdisclosdandopenperilssurestansweredoctaletvsdosoforweareatthestakeandbayedaboutwithmanyenemiesandsomethatsmilehaueintheirheartsifearemillionsofmischeefesexeuntdrumenterbrutuslucilliusandthearmytitiniusandpindarusmeetethembrustandholucilgiuethewordhoandstandbruwhatnowlucilliusiscassiusneerelucilheisathandandpindarusiscometodoyousalutationfromhismasterbruhegreetsmewellyourmasterpindarusinhisownechangeorbyillofficershathgiuenmesomeworthycausetowishthingsdonevndonebutifhebeathandishallbesatisfiedpinidonotdoubtbutthatmynoblemasterwillappearesuchasheisfullofregardandhonourbruheisnotdoubtedawordlucilliushowhereceiudyouletmeberesoludlucilwithcourtesieandwithrespectenoughbutnotwithsuchfamiliarinstancesnorwithsuchfreeandfriendlyconferenceashehathvsdofoldbruthouhastdescribdahotfriendcoolingeuernotelucilliuswhenlouebeginstosickenanddecayitvsethanenforcedceremonytherearenotrickesinplaineandsimplefaithbuthollowmenlikehorseshotathandmakegallantshewandpromiseoftheirmettlelowmarchwithinbutwhentheyshouldendurethebloodyspurretheyfalltheircrestsandlikedeceitfulliadessinkeinthetriallcomeshisarmyonluciltheymeanethisnightinsardistobequarterdthegreaterpartthehorseingenerallarecomewithcassiusentercassiusandhispowersbruhearkeheisarriudmarchgentlyontomeetehimcassistandhobrustandhospeakethewordalongstandstandstandcassimostnoblebrotheryouhauedonemewrongbruiudgemeyougodswrongimineenemiesandifnotsohowshouldiwrongabrothercassibrutusthissoberformeofyourshideswrongsandwhenyoudothembrutcassiusbecontentspeakeyourgreefessoftlyidoknowyouwellbeforetheeyesofbothourarmiesheerewhichshouldperceiuenothingbutlouefromvsletvsnotwranglebidthemmoueawaytheninmytentcassiusenlargeyourgreefesandiwillgiueyouaudiencecassipindarusbidourcommandersleadetheirchargesoffalittlefromthisgroundbrulucilliusdoyouthelikeandletnomancometoourtenttillwehauedoneourconferenceletluciusandtitiniusguardourdooreexeuntmanetbrutusandcassiuscassithatyouhauewrongdmedothappearinthisyouhauecondemndandnotedluciuspellafortakingbribesheereofthesardianswhereinmylettersprayingonhissidebecauseiknewthemanwasslightedoffbruyouwrongdyourselfetowriteinsuchacasecassiinsuchatimeasthisitisnotmeetthateueryniceoffenceshouldbearehiscommentbruletmetellyoucassiusyouyourselfearemuchcondemndtohaueanitchingpalmetosellandmartyourofficesforgoldtovndeseruerscassiianitchingpalmeyouknowthatyouarebrutusthatspeakesthisorbythegodsthisspeechwereelseyourlastbruthenameofcassiushonorsthiscorruptionandchasticementdoththereforehidehisheadcassichasticementbruremembermarchtheidesofmarchrememberdidnotgreatiuliusbleedeforiusticesakewhatvillainetouchdhisbodythatdidstabandnotforiusticewhatshalloneofvsthatstrucketheformostmanofallthisworldbutforsupportingrobbersshallwenowcontaminateourfingerswithbasebribesandsellthemightyspaceofourlargehonorsforsomuchtrashasmaybegraspedthusihadratherbeadoggeandbaythemoonethensucharomancassibrutusbaitenotmeilenotindureityouforgetyourselfetohedgemeiniamasouldieriolderinpracticeablerthenyourselfetomakeconditionsbrugotooyouarenotcassiuscassiiambruisayyouarenotcassivrgemenomoreishallforgetmyselfehauemindevponyourhealthtemptmenofartherbruawayslightmancassiistpossiblebruhearemeforiwillspeakemustigiuewayandroometoyourrashchollershallibefrightedwhenamadmanstarescassioyegodsyegodsmustiendureallthisbruallthisimorefrettillyourproudhartbreakgoshewyourslaueshowchollerickeyouareandmakeyourbondmentremblemustibougemustiobserueyoumustistandandcrouchvnderyourtestiehumourbythegodsyoushalldigestthevenomofyourspleenethoughitdosplityouforfromthisdayforthilevseyouformymirthyeaformylaughterwhenyouarewaspishcassiisitcometothisbruyousayyouareabettersouldierletitappearesomakeyourvauntingtrueanditshallpleasemewellformineownepartishallbegladtolearneofnoblemencassyouwrongmeeuerywayyouwrongmebrutusisaideaneldersouldiernotabetterdidisaybetterbruifyoudidicarenotcasswhencaesarliudhedurstnotthushauemoudmebrutpeacepeaceyoudurstnotsohauetemptedhimcassiidurstnotbrunocassiwhatdurstnottempthimbruforyourlifeyoudurstnotcassidonotpresumetoomuchvponmyloueimaydothatishallbesorryforbruyouhauedonethatyoushouldbesorryforthereisnoterrorcassiusinyourthreatsforiamarmdsostronginhonestythattheypassebymeastheidlewindewhichirespectnotididsendtoyouforcertainesummesofgoldwhichyoudenydmeforicanraisenomoneybyvilemeanesbyheauenihadrathercoinemyheartanddropmybloodfordrachmaesthentowringfromthehardhandsofpeazantstheirviletrashbyanyindirectionididsendtoyouforgoldtopaymylegionswhichyoudenydmewasthatdonelikecassiusshouldihaueanswerdcaiuscassiussowhenmarcusbrutusgrowessocouetoustolockesuchrascallcountersfromhisfriendsbereadygodswithallyourthunderboltsdashhimtopeecescassiidenydyounotbruyoudidcassiididnothewasbutafoolethatbroughtmyanswerbackbrutushathriudmyhartafriendshouldbearehisfriendsinfirmitiesbutbrutusmakesminegreaterthentheyarebruidonottillyoupracticethemonmecassiyoulouemenotbruidonotlikeyourfaultscassiafriendlyeyecouldneuerseesuchfaultsbruaflattererswouldnotthoughtheydoappeareashugeashigholympuscassicomeantonyandyongoctauiuscomereuengeyourseluesaloneoncassiusforcassiusisawearyoftheworldhatedbyonehelouesbraudbyhisbrothercheckdlikeabondmanallhisfaultsobserudsetinanotebookelearndandcondbyroatetocastintomyteethoicouldweepemyspiritfrommineeyesthereismydaggerandheeremynakedbreastwithinaheartdeererthenplutosminericherthengoldifthatthoubeestaromantakeitfoorthithatdenydtheegoldwillgiuemyheartstrikeasthoudidstatcaesarforiknowwhenthoudidsthatehimworstylouedsthimbettertheneuerthoulouedstcassiusbrusheathyourdaggerbeangrywhenyouwillitshallhauescopedowhatyouwilldishonorshallbehumourocassiusyouareyoakedwithalambethatcarriesangerastheflintbearesfirewhomuchinforcedshewesahastiesparkeandstraiteiscoldagencassihathcassiusliudtobebutmirthandlaughtertohisbrutuswhengreefeandbloodilltemperdvexethhimbruwhenispokethatiwasilltemperdtoocassidoyouconfessesomuchgiuemeyourhandbruandmyhearttoocassiobrutusbruwhatsthemattercassihauenotyouloueenoughtobearewithmewhenthatrashhumourwhichmymothergauememakesmeforgetfullbruyescassiusandfromhenceforthwhenyouareouerearnestwithyourbrutusheelthinkeyourmotherchidesandleaueyousoenterapoetpoetletmegointoseethegeneralsthereissomegrudgebetweeneemtisnotmeetetheybealonelucilyoushallnotcometothempoetnothingbutdeathshallstaymecashownowwhatsthematterpoetforshameyougeneralswhatdoyoumeaneloueandbefriendsastwosuchmenshouldbeeforihaueseenemoreyeeresimesurethenyeecashahahowvildelydoththiscynickerimebrugetyouhencesirrasawcyfellowhencecasbearewithhimbrutustishisfashionbrutileknowhishumorwhenheknoweshistimewhatshouldthewarresdowiththeseiiggingfoolescompanionhencecasawayawaybegoneexitpoetbrulucilliusandtitiniusbidthecommanderspreparetolodgetheircompaniestonightcasandcomeyourseluesbringmessalawithyouimmediatelytovsbruluciusabowleofwinecasididnotthinkeyoucouldhauebinsoangrybruocassiusiamsickeofmanygreefescasofyourphilosophyyoumakenovseifyougiueplacetoaccidentalleuilsbrunomanbearessorrowbetterportiaisdeadcashaportiabrusheisdeadcashowscapdikillingwhenicrostyousooinsupportableandtouchinglossevponwhatsicknessebruimpatientofmyabsenceandgreefethatyongoctauiuswithmarkantonyhauemadethemseluessostrongforwithherdeaththattydingscamewiththisshefelldistractandherattendantsabsentswallowdfirecasanddydsobrueuensocasoyeimmortallgodsenterboywithwineandtapersbruspeaknomoreofhergiuemeabowlofwineinthisiburyallvnkindnessecassiusdrinkescasmyheartisthirstyforthatnoblepledgefillluciustillthewineoreswellthecupicannotdrinketoomuchofbrutusloueentertitiniusandmessalabrutuscomeintitiniuswelcomegoodmessalanowsitwecloseaboutthistaperheereandcallinquestionournecessitiescassportiaartthougonebrunomoreiprayyoumessalaihaueheerereceiuedlettersthatyongoctauiusandmarkeantonycomedownevponvswithamightypowerbendingtheirexpeditiontowardphilippimessmyselfehauelettersoftheselfesametenurebruwithwhatadditionmessthatbyproscriptionandbillesofoutlarieoctauiusantonyandlepidushaueputtodeathanhundredsenatorsbruthereinourlettersdonotwellagreeminespeakeofseuentysenatorsthatdydebytheirproscriptionscicerobeingonecassiciceroonemessaciceroisdeadandbythatorderofproscriptionhadyouyourlettersfromyourwifemylordbrunomessalamessanornothinginyourletterswritofherbrunothingmessalamessathatmethinkesisstrangebruwhyaskeyouheareyououghtofherinyoursmessanomylordbrunowasyouarearomantellmetruemessathenlikearomanbearethetruthitellforcertainesheisdeadandbystrangemannerbruwhyfarewellportiawemustdiemessalawithmeditatingthatshemustdyeonceihauethepatiencetoendureitnowmessaeuensogreatmengreatlossessholdindurecassiihaueasmuchofthisinartasyoubutyetmynaturecouldnotbeareitsobruwelltoourworkealiuewhatdoyouthinkeofmarchingtophilippipresentlycassiidonotthinkeitgoodbruyourreasoncassithisitistisbetterthattheenemieseekevssoshallhewastehismeaneswearyhissouldiersdoinghimselfeoffencewhilstwelyingstillarefullofrestdefenceandnimblenessebrugoodreasonsmustofforcegiueplacetobetterthepeopletwixtphilippiandthisgrounddostandbutinaforcdaffectionfortheyhauegrugdvscontributiontheenemymarchingalongbythembythemshallmakeafullernumbervpcomeonrefreshtnewaddedandencouragdfromwhichaduantageshallwecuthimoffifatphilippiwedofacehimtherethesepeopleatourbackecassihearemegoodbrotherbruvnderyourpardonyoumustnotebesidethatwehauetridethevtmostofourfriendsourlegionsarebrimfullourcauseisripetheenemyencreasetheuerydayweattheheightarereadietodeclinethereisatideintheaffayresofmenwhichtakenatthefloodleadesontofortuneomittedallthevoyageoftheirlifeisboundinshallowesandinmiseriesonsuchafullseaarewenowafloatandwemusttakethecurrentwhenitseruesorlooseourventurescassithenwithyourwillgoonweelalongourseluesandmeetthematphilippibruthedeepeofnightiscreptvponourtalkeandnaturemustobeynecessitiewhichwewillniggardwithalittlerestthereisnomoretosaycassinomoregoodnightearlytomorrowwillweriseandhenceenterluciusbruluciusmygownefarewellgoodmessalagoodnighttitiniusnoblenoblecassiusgoodnightandgoodreposecassiomydeerebrotherthiswasanillbeginningofthenightneuercomesuchdiuisiontweeneoursoulesletitnotbrutusenterluciuswiththegownebrueuerythingiswellcassigoodnightmylordbrugoodnightgoodbrothertitmessagoodnightlordbrutusbrufarwelleueryoneexeuntgiuemethegownewhereisthyinstrumentlucheereinthetentbruwhatthouspeakstdrowsilypooreknaueiblametheenotthouartorewatchdcallclaudioandsomeotherofmymenilehauethemsleepeoncushionsinmytentlucvarrusandclaudioentervarrusandclaudiovarcalsmylordbruiprayyousirslyeinmytentandsleepeitmaybeishallraiseyoubyandbyonbusinessetomybrothercassiusvarsopleaseyouwewillstandandwatchyourpleasurebruiwillitnothaueitsolyedownegoodsirsitmaybeishallotherwisebethinkemelookeluciusheeresthebookeisoughtforsoiputitinthepocketofmygowneluciwassureyourlordshipdidnotgiueitmebrubearewithmegoodboyiammuchforgetfullcanstthouholdvpthyheauieeyesawhileandtouchthyinstrumentastraineortwolucimylordantpleaseyoubruitdoesmyboyitroubletheetoomuchbutthouartwillinglucitismydutysirbrutishouldnotvrgethydutypastthymightiknowyongbloodslookeforatimeofrestlucihauesleptmylordalreadybruitwaswelldoneandthoushaltsleepeagaineiwillnotholdtheelongifidoliueiwillbegoodtotheemusickeandasongthisisasleepytuneomurdrousslumberlayestthouthyleadenmacevponmyboythatplayestheemusickegentleknauegoodnightiwillnotdotheesomuchwrongtowaketheeifthoudostnodthoubreakstthyinstrumentiletakeitfromtheeandgoodboygoodnightletmeseeletmeseeisnottheleafeturnddownewhereileftreadingheereitisithinkeentertheghostofcaesarhowillthistaperburneshawhocomesheereithinkeitistheweakenesseofmineeyesthatshapesthismonstrousapparitionitcomesvponmeartthouanythingartthousomegodsomeangellorsomediuellthatmakstmybloodcoldandmyhairetostarespeaketomewhatthouartghostthyeuillspiritbrutusbruwhycomstthoughosttotelltheethoushaltseemeatphilippibrutwellthenishallseetheeagaineghostiatphilippibrutwhyiwillseetheeatphilippithennowihauetakenheartthouvanishestillspiritiwouldholdmoretalkewiththeeboyluciusvarrusclaudiosirsawakeclaudiolucthestringsmylordarefalsebruhethinkeshestillisathisinstrumentluciusawakelucmylordbrudidstthoudreameluciusthatthousocryedstoutlucmylordidonotknowthatididcrybruyesthatthoudidstdidstthouseeanythinglucnothingmylordbrusleepeagaineluciussirraclaudiofellowthouawakevarmylordclaumylordbruwhydidyousocryoutsirsinyoursleepebothdidwemylordbruisawyouanythingvarnomylordisawnothingclaunorimylordbrugoandcommendmetomybrothercassiusbidhimsetonhispowresbetimesbeforeandwewillfollowbothitshallbedonemylordexeuntactusquintusenteroctauiusantonyandtheirarmyoctanowantonyourhopesareansweredyousaidtheenemywouldnotcomedownebutkeepethehillesandvpperregionsitprouesnotsotheirbattailesareathandtheymeanetowarnevsatphilippiheereansweringbeforewedodemandofthemanttutiamintheirbosomesandiknowwhereforetheydoittheycouldbecontenttovisitotherplacesandcomedownewithfearefullbrauerythinkingbythisfacetofasteninourthoughtsthattheyhauecouragebuttisnotsoenteramessengermesprepareyougeneralstheenemycomesoningallantshewtheirbloodysigneofbattellishungoutandsomethingtobedoneimmediatelyantoctauiusleadeyourbattailesoftlyonvponthelefthandoftheeuenfieldoctavpontherighthandikeepethoutheleftantwhydoyoucrossemeinthisexigentoctaidonotcrosseyoubutiwilldosomarchdrumenterbrutuscassiustheirarmybrutheystandandwouldhaueparleycassistandfasttitiniuswemustoutandtalkeoctamarkantonyshallwegiuesigneofbattaileantnocaesarwewillanswerontheirchargemakeforththegeneralswouldhauesomewordsoctstirrenotvntillthesignallbruwordsbeforeblowesisitsocountrymenoctanotthatwelouewordsbetterasyoudobrugoodwordsarebetterthenbadstrokesoctauiusaninyourbadstrokesbrutusyougiuegoodwordswitnessetheholeyoumadeincaesarsheartcryinglongliuehailecaesarcassiantonythepostureofyourblowesareyetvnknownebutforyourwordstheyrobthehiblabeesandleauethemhonylesseantnotstinglessetoobruoyesandsoundlessetooforyouhauestolnetheirbuzzingantonyandverywiselythreatbeforeyoustingantvillainsyoudidnotsowhenyourviledaggershacktoneanotherinthesidesofcaesaryoushewdyourteetheslikeapesandfawndlikehoundsandbowdlikebondmenkissingcaesarsfeetewhilstdamnedcaskalikeacurrebehindestrookecaesarontheneckeoyouflattererscassiflatterersnowbrutusthankeyourselfethistonguehadnotoffendedsotodayifcassiusmighthaueruldoctacomecomethecauseifarguingmakevsswettheproofeofitwillturnetoredderdropslookeidrawaswordagainstconspiratorswhenthinkeyouthattheswordgoesvpagaineneuertillcaesarsthreeandthirtiewoundsbewellauengdortillanothercaesarhaueaddedslaughtertotheswordoftraitorsbrutcaesarthoucanstnotdyebytraitorshandsvnlessethoubringstthemwiththeeoctasoihopeiwasnotbornetodyeonbrutusswordbruoifthouwertthenoblestofthystraineyongmanthoucouldstnotdyemorehonourablecassiapeeuishschoolboyworthlesofsuchhonorioyndwithamaskerandareuellerantoldcassiusstilloctacomeantonyawaydefiancetraitorshurleweinyourteethifyoudarefighttodaycometothefieldifnotwhenyouhauestomackesexitoctauiusantonyandarmycassiwhynowblowwindeswellbillowandswimmebarkethestormeisvpandallisonthehazardbruholucilliushearkeawordwithyoulucilliusandmessalastandforthlucmylordcassimessalamessawhatsayesmygenerallcassimessalathisismybirthdayatthisverydaywascassiusbornegiuemethyhandmessalabethoumywitnessethatagainstmywillaspompeywasamicompelldtosetvpononebattellallourlibertiesyouknowthatiheldepicurusstrongandhisopinionnowichangemymindeandpartlycreditthingsthatdopresagecommingfromsardisonourformerensignetwomightyeaglesfellandtheretheypearchdgorgingandfeedingfromoursoldiershandswhotophilippiheereconsortedvsthismorningaretheyfledawayandgoneandintheirsteedsdorauenscrowesandkitesflyoreourheadsanddownwardlookeonvsasweweresickelypreytheirshadowesseemeacanopymostfatallvnderwhichourarmyliesreadytogiuevptheghostmessabeleeuenotsocassiibutbeleeueitpartlyforiamfreshofspiritandresoludtomeeteallperilsveryconstantlybrueuensolucilliuscassinowmostnoblebrutusthegodstodaystandfriendlythatwemaylouersinpeaceleadeonourdayestoagebutsincetheaffayresofmenrestsstillincertaineletsreasonwiththeworstthatmaybefallifwedolosethisbattailethenisthistheverylasttimeweshallspeaketogetherwhatareyouthendeterminedtodobrueuenbytheruleofthatphilosophybywhichididblamecatoforthedeathwhichhedidgiuehimselfeiknownothowbutidofindeitcowardlyandvileforfeareofwhatmightfallsotopreuentthetimeoflifearmingmyselfewithpatiencetostaytheprouidenceofsomehighpowersthatgouernevsbelowcassithenifweloosethisbattaileyouarecontentedtobeledintriumphthorowthestreetsofromebrunocassiusnothinkenotthounobleromanethateuerbrutuswillgoboundtoromehebearestoogreatamindebutthissamedaymustendthatworketheidesofmarchbegunandwhetherweshallmeeteagaineiknownotthereforeoureuerlastingfarewelltakeforeuerandforeuerfarewellcassiusifwedomeeteagainewhyweshallsmileifnotwhythenthispartingwaswellmadecassiforeuerandforeuerfarewellbrutusifwedomeeteagaineweelsmileindeedeifnottistruethispartingwaswellmadebruwhythenleadeonothatamanmightknowtheendofthisdayesbusinesseereitcomebutitsufficeththatthedaywillendandthentheendisknownecomehoawayexeuntalarumenterbrutusandmessalabrurideridemessalarideandgiuethesebillesvntothelegionsontheothersidelowdalarumletthemsetonatonceforiperceiuebutcolddemeanorinoctauioswingandsodainepushgiuesthemtheouerthrowrideridemessalaletthemallcomedowneexeuntalarumsentercassiusandtitiniuscassiolooketitiniuslookethevillainesflyemyselfehauetomineowneturndenemythisensigneheereofminewasturningbackeislewthecowardanddidtakeitfromhimtitinocassiusbrutusgauethewordtooearlywhohauingsomeaduantageonoctauiustookeittooeagerlyhissoldiersfelltospoylewhilstwebyantonyareallinclosdenterpindaruspindflyfurtheroffmylordflyefurtheroffmarkantonyisinyourtentsmylordflyethereforenoblecassiusflyefarreoffcassithishillisfarreenoughlookelooktitiniusarethosemytentswhereiperceiuethefiretittheyaremylordcassititiniusifthoulouestmemountthoumyhorseandhidethyspurresinhimtillhehauebroughttheevptoyondertroopesandheereagainethatimayrestassurdwhetheryondtroopesarefriendorenemytitiwillbeheereagaineeuenwithathoughtentercassigopindarusgethigheronthathillmysightwaseuerthickeregardtitiniusandtellmewhatthounotstaboutthefieldthisdayibreathedfirsttimeiscomeroundandwhereididbeginthereshalliendmylifeisrunhiscompassesirrawhatnewespindaboueomylordcassiwhatnewespindtitiniusisenclosedroundaboutwithhorsementhatmaketohimonthespurreyethespurresonnowtheyarealmostonhimnowtitiniusnowsomelightohelightstooheestaneshowtandhearketheyshoutforioycassicomedownebeholdnomoreocowardthatiamtoliuesolongtoseemybestfriendtanebeforemyfaceenterpindaruscomehithersirrahinparthiadiditaketheeprisonerandthenisworetheesauingofthylifethatwhatsoeuerididbidtheedothoushouldstattemptitcomenowkeepethineoathnowbeafreemanandwiththisgoodswordthatranthroughcaesarsbowelssearchthisbosomestandnottoanswerheeretakethouthehiltsandwhenmyfaceiscouerdastisnowguidethoutheswordcaesarthouartreuengdeuenwiththeswordthatkilldtheepinsoiamfreeyetwouldnotsohauebeenedurstihauedonemywillocassiusfarrefromthiscountrypindarusshallrunwhereneuerromanshalltakenoteofhimentertitiniusandmessalamessaitisbutchangetitiniusforoctauiusisouerthrownebynoblebrutuspowerascassiuslegionsarebyantonytitinthesetydingswillwellcomfortcassiusmessawheredidyouleauehimtitinalldisconsolatewithpindarushisbondmanonthishillmessaisnotthathethatlyesvponthegroundtitinheliesnotliketheliuingomyheartmessaisnotthatheetitinnothiswashemessalabutcassiusisnomoreosettingsunneasinthyredrayesthoudoestsinketonightsoinhisredbloodcassiusdayissetthesunneofromeissetourdayisgoneclowdsdewesanddangerscomeourdeedsaredonemistrustofmysuccessehathdonethisdeedmessamistrustofgoodsuccessehathdonethisdeedohatefullerrormelancholieschildewhydostthoushewtotheaptthoughtsofmenthethingsthatarenotoerrorsooneconceyudthouneuercomstvntoahappybyrthbutkilstthemotherthatengendredtheetitwhatpindaruswhereartthoupindarusmessaseekehimtitiniuswhilstigotomeetthenoblebrutusthrustingthisreportintohisearesimaysaythrustingitforpiercingsteeleanddartsinuenomedshallbeaswelcometotheearesofbrutusastydingsofthissighttithyeyoumessalaandiwillseekeforpindarusthewhilewhydidstthousendmeforthbrauecassiusdidinotmeetthyfriendsanddidnottheyputonmybrowesthiswreathofvictorieandbidmegiueittheedidstthounothearetheirshowtsalasthouhastmisconstruedeuerythingbutholdtheetakethisgarlandonthybrowthybrutusbidmegiueittheeandiwilldohisbiddingbrutuscomeapaceandseehowiregardedcaiuscassiusbyyourleauegodsthisisaromanspartcomecassiusswordandfindetitiniushartdiesalarumenterbrutusmessalayongcatostratovolumniusandlucilliusbruwherewheremessaladothhisbodylyemessaloeyonderandtitiniusmourningitbrutitiniusfaceisvpwardcatoheisslainebruoiuliuscaesarthouartmightyyetthyspiritwalkesabroadandturnesourswordsinourowneproperentraileslowalarumscatobrauetitiniuslookewherehehauenotcrownddeadcassiusbruareyettworomansliuingsuchasthesethelastofalltheromansfartheewellitisimpossiblethateuerromeshouldbreedthyfellowfriendsiowemotearestothisdeadmanthenyoushallseemepayishallfindetimecassiusishallfindetimecomethereforeandtotharsussendhisbodyhisfuneralsshallnotbeinourcampeleastitdiscomfortvslucilliuscomeandcomeyongcatoletvstothefieldlabioandflauiosetourbattailesontisthreeaclockeandromansyeterenightweshalltryfortuneinasecondfightexeuntalarumenterbrutusmessalacatolucilliusandflauiusbruyetcountrymenoyetholdvpyourheadscatowhatbastarddothnotwhowillgowithmeiwillproclaimemynameaboutthefieldiamthesonneofmarcuscatohoeafoetotyrantsandmycountriesfriendiamthesonneofmarcuscatohoeentersouldiersandfightandiambrutusmarcusbrutusibrutusmycountriesfriendknowmeforbrutuslucoyongandnoblecatoartthoudownewhynowthoudyestasbrauelyastitiniusandmaystbehonourdbeingcatossonnesoldyeeldorthoudyestluconelyiyeeldtodyethereissomuchthatthouwiltkillmestraightkillbrutusandbehonourdinhisdeathsoldwemustnotanobleprisonerenterantonysoldroomehoetellantonybrutusistanesoldiletelltheenewesheerecomesthegenerallbrutusistanebrutusistanemylordantwhereisheelucsafeantonybrutusissafeenoughidareassuretheethatnoenemyshalleuertakealiuethenoblebrutusthegodsdefendhimfromsogreatashamewhenyoudofindehimoraliueordeadhewillbefoundlikebrutuslikehimselfeantthisisnotbrutusfriendbutiassureyouaprizenolesseinworthkeepethismansafegiuehimallkindnesseihadratherhauesuchmenmyfriendsthenenemiesgoonandseewherebrutusbealiueordeadandbringvswordvntooctauiustenthoweuerythingischancdexeuntenterbrutusdardaniusclitusstratoandvolumniusbrutcomepooreremainesoffriendsrestonthisrockeclitstatilliusshewdthetorchlightbutmylordhecamenotbackeheisortaneorslainebrutsittheedowneclitusslayingistheworditisadeedinfashionhearketheeclitusclitwhatimylordnonotforalltheworldbrutpeacethennowordsclitileratherkillmyselfebruthearketheedardaniusdardshallidoesuchadeedclitodardaniusdardoclitusclitwhatillrequestdidbrutusmaketotheedardtokillhimclituslookehemeditatesclitnowisthatnoblevessellfullofgriefethatitrunnesouereuenathiseyesbrutcomehithergoodvolumniuslistawordvolumwhatsayesmylordbrutwhythisvolumniustheghostofcaesarhathappeardtometwoseueralltimesbynightatsardisonceandthislastnighthereinphilippifieldsiknowmyhoureiscomevolumnotsomylordbrutnayiamsureitisvolumniusthouseesttheworldvolumniushowitgoesourenemieshauebeatvstothepitlowalarumsitismoreworthytoleapeinourseluesthentarrytilltheypushvsgoodvolumniusthouknowstthatwetwowenttoschooletogethereuenforthatourloueofoldipretheeholdthoumyswordhiltswhilestirunneonitvolthatsnotanofficeforafriendmylordalarumstillclyflyflyemylordthereisnotarryingheerebrufarewelltoyouandyouandvolumniusstratothouhastbinallthiswhileasleepefarewelltotheetostratocountrymenmyheartdothioythatyetinallmylifeifoundnomanbuthewastruetomeishallhaueglorybythisloosingdaymorethenoctauiusandmarkeantonybythisvileconquestshallattainevntosofareyouwellatonceforbrutustonguehathalmostendedhisliueshistorynighthangsvponmineeyesmyboneswouldrestthathauebutlabourdtoattainethishourealarumcrywithinflyeflyeflyeclyflymylordflyebruhenceiwillfollowiprytheestratostaythoubythylordthouartafellowofagoodrespectthylifehathhadsomesmatchofhonorinitholdthenmyswordandturneawaythyfacewhileidorunvponitwiltthoustratostragiuemeyourhandfirstfareyouwelmylordbrufarewellgoodstratocaesarnowbestillikilldnottheewithhalfesogoodawilldyesalarumretreatenterantonyoctauiusmessalalucilliusandthearmyoctawhatmanisthatmessamymastersmanstratowhereisthymasterstrafreefromthebondageyouareinmessalatheconquerorscanbutmakeafireofhimforbrutusonelyouercamehimselfeandnomanelsehathhonorbyhisdeathlucilsobrutusshouldbefoundithanktheebrutusthatthouhastproudlucilliussayingtrueoctaallthatserudbrutusiwillentertainethemfellowwiltthoubestowthytimewithmestraiifmessalawillpreferremetoyouoctadosogoodmessalamessahowdyedmymasterstratostraiheldtheswordandhedidrunonitmessaoctauiusthentakehimtofollowtheethatdidthelatestseruicetomymasterantthiswasthenoblestromanofthemallalltheconspiratorssaueonelyheedidthattheydidinenuyofgreatcaesarheonelyinagenerallhonestthoughtandcommongoodtoallmadeoneofthemhislifewasgentleandtheelementssomixtinhimthatnaturemightstandvpandsaytoalltheworldthiswasamanoctaaccordingtohisvertueletvsvsehimwithallrespectandritesofburiallwithinmytenthisbonestonightshalllymostlikeasouldierorderedhonourablysocallthefieldtorestandletsawaytopartthegloriesofthishappydayexeuntomnesfinisthetragedieofivlivscaesar\n"
     ]
    }
   ],
   "source": [
    "# Load plaintext 'X' and join to feed into encryption function\n",
    "latin = 'abcdefghijklmnopqrstuvwxyz'\n",
    "corpus_root = 'C:/Users/Usuario/Python/Cryptanalysis/Corpus'\n",
    "wordlists = PlaintextCorpusReader(corpus_root, '.*')\n",
    "fname = wordlists.fileids()[0]\n",
    "even_tokens = wordlists.words(os.path.join(corpus_root, fname))\n",
    "# X = ''.join(even_tokens)\n",
    "# print(X)\n",
    "chars = ''.join(even_tokens).lower()\n",
    "X_disjoint = []\n",
    "for c in chars:\n",
    "    if c in latin:\n",
    "        X_disjoint.append(c)\n",
    "X = ''.join(X_disjoint)\n",
    "print(X)"
   ]
  },
  {
   "cell_type": "code",
   "execution_count": 83,
   "metadata": {},
   "outputs": [
    {
     "data": {
      "text/plain": [
       "84136"
      ]
     },
     "execution_count": 83,
     "metadata": {},
     "output_type": "execute_result"
    }
   ],
   "source": [
    "len(X)"
   ]
  },
  {
   "cell_type": "code",
   "execution_count": 80,
   "metadata": {},
   "outputs": [],
   "source": [
    "# Given\n",
    "key = 'romeo'\n",
    "\n",
    "# Encrypt using Vigenère cipher\n",
    "Y = encrypt_viginere(X, key)"
   ]
  },
  {
   "cell_type": "code",
   "execution_count": 81,
   "metadata": {},
   "outputs": [
    {
     "data": {
      "text/plain": [
       "[(65, 207),\n",
       " (5, 144),\n",
       " (230, 81),\n",
       " (1, 28),\n",
       " (55, 6),\n",
       " (25, 3),\n",
       " (15, 3),\n",
       " (9525, 2),\n",
       " (10, 1),\n",
       " (50610, 1)]"
      ]
     },
     "execution_count": 81,
     "metadata": {},
     "output_type": "execute_result"
    }
   ],
   "source": [
    "dist_gcfs = []\n",
    "n_ngram = 1\n",
    "while guess_keylength(n_ngram):\n",
    "    dist_gcfs.append(guess_keylength(n_ngram))\n",
    "    n_ngram += 1\n",
    "dist_gcfs = [item for sublist in dist_gcfs for item in sublist]\n",
    "fdist_dist_gcfs = nltk.FreqDist(dist_gcfs)\n",
    "fdist_dist_gcfs.most_common()"
   ]
  },
  {
   "cell_type": "code",
   "execution_count": 97,
   "metadata": {},
   "outputs": [],
   "source": [
    "# key_scores = freq_anal(Y[:300], 3)\n",
    "# key_scores\n",
    "# df = pd.read_csv(\"trial_key_scores.csv\")"
   ]
  },
  {
   "cell_type": "code",
   "execution_count": 100,
   "metadata": {},
   "outputs": [],
   "source": [
    "# key_trials = df[\"key_trial\"]\n",
    "# key_trial_scores = df[\"key_score\"]\n",
    "# key_scores = {}\n",
    "# for i, key_trial in enumerate(key_trials):\n",
    "#     key_scores[key_trial] = key_trial_scores[i]"
   ]
  },
  {
   "cell_type": "code",
   "execution_count": null,
   "metadata": {},
   "outputs": [],
   "source": [
    "# ranked_keys = {}\n",
    "# for w in sorted(key_scores, key=key_scores.get, reverse=True):\n",
    "#     ranked_keys[w] = key_scores[w]"
   ]
  },
  {
   "cell_type": "code",
   "execution_count": null,
   "metadata": {},
   "outputs": [],
   "source": [
    "# key_trials = list(ranked_keys.keys())[:200]\n",
    "# key_trial_scores = []\n",
    "# for w in key_trials:\n",
    "#     key_trial_scores.append(ranked_keys[w])\n",
    "# data = {\"key_trial\": key_trials,\n",
    "#        \"key_score\": key_trial_scores}\n",
    "# df = pd.DataFrame(data)\n",
    "# df.to_csv(\"ranked_key_scores_200.csv\")"
   ]
  },
  {
   "cell_type": "code",
   "execution_count": 111,
   "metadata": {},
   "outputs": [
    {
     "data": {
      "text/plain": [
       "['romoi',\n",
       " 'romco',\n",
       " 'roqee',\n",
       " 'romoo',\n",
       " 'romfc',\n",
       " 'romjt',\n",
       " 'romso',\n",
       " 'roqeo',\n",
       " 'romot',\n",
       " 'romec',\n",
       " 'romoc',\n",
       " 'rodoi',\n",
       " 'romeo',\n",
       " 'romce',\n",
       " 'romsn',\n",
       " 'roqeu',\n",
       " 'rodho',\n",
       " 'romsi',\n",
       " 'romwi',\n",
       " 'romdi',\n",
       " 'romoa',\n",
       " 'rovfo',\n",
       " 'roqro',\n",
       " 'romjp',\n",
       " 'romwc',\n",
       " 'rodro',\n",
       " 'romgv',\n",
       " 'romne',\n",
       " 'rommo',\n",
       " 'roddo',\n",
       " 'roqzo',\n",
       " 'romom',\n",
       " 'romwo',\n",
       " 'romjb',\n",
       " 'romze',\n",
       " 'rocco',\n",
       " 'romfp',\n",
       " 'roxdp',\n",
       " 'roqek',\n",
       " 'romfo',\n",
       " 'roqey',\n",
       " 'rodlp',\n",
       " 'rodeo',\n",
       " 'romro',\n",
       " 'romok',\n",
       " 'rohuo',\n",
       " 'rodjo',\n",
       " 'romow',\n",
       " 'romgt',\n",
       " 'romsk',\n",
       " 'rocwo',\n",
       " 'rolfo',\n",
       " 'romjf',\n",
       " 'roqio',\n",
       " 'romnt',\n",
       " 'roijp',\n",
       " 'rodco',\n",
       " 'romus',\n",
       " 'rodwo',\n",
       " 'rozfo',\n",
       " 'romsg',\n",
       " 'rokiv',\n",
       " 'rodio',\n",
       " 'romfs',\n",
       " 'roqyo',\n",
       " 'rowfo',\n",
       " 'rovzo',\n",
       " 'romvi',\n",
       " 'romob',\n",
       " 'romyt',\n",
       " 'roqso',\n",
       " 'romna',\n",
       " 'romsv',\n",
       " 'roqle',\n",
       " 'roqwo',\n",
       " 'rodpo',\n",
       " 'rozso',\n",
       " 'roduo',\n",
       " 'romlc',\n",
       " 'roqco',\n",
       " 'rodfo',\n",
       " 'romek',\n",
       " 'rodiu',\n",
       " 'roqew',\n",
       " 'romhc',\n",
       " 'romwf',\n",
       " 'romon',\n",
       " 'romde',\n",
       " 'romwl',\n",
       " 'rodqo',\n",
       " 'romjx',\n",
       " 'romzo',\n",
       " 'romte',\n",
       " 'romge',\n",
       " 'rojco',\n",
       " 'romfx',\n",
       " 'rodvo',\n",
       " 'romto',\n",
       " 'rodcc',\n",
       " 'romui',\n",
       " 'rodvv',\n",
       " 'rodno',\n",
       " 'romvo',\n",
       " 'romvt',\n",
       " 'rogbo',\n",
       " 'rodlo',\n",
       " 'rojfx',\n",
       " 'roqpv',\n",
       " 'romct',\n",
       " 'romfw',\n",
       " 'romjy',\n",
       " 'rocuo',\n",
       " 'rodxo',\n",
       " 'romox',\n",
       " 'roqbb',\n",
       " 'roqmo',\n",
       " 'rodbo',\n",
       " 'roqiu',\n",
       " 'romtc',\n",
       " 'rouuo',\n",
       " 'rompo',\n",
       " 'rodoo',\n",
       " 'romdc',\n",
       " 'romel',\n",
       " 'romgl',\n",
       " 'roqpo',\n",
       " 'romsu',\n",
       " 'roqen',\n",
       " 'romck',\n",
       " 'romri',\n",
       " 'romst',\n",
       " 'rouwo',\n",
       " 'romwe',\n",
       " 'roquo',\n",
       " 'romov',\n",
       " 'roico',\n",
       " 'romoe',\n",
       " 'roidp',\n",
       " 'romis',\n",
       " 'rouwv',\n",
       " 'rorco',\n",
       " 'robuo',\n",
       " 'romut',\n",
       " 'roqbo',\n",
       " 'rolvo',\n",
       " 'rodgo',\n",
       " 'romfe',\n",
       " 'romre',\n",
       " 'romjs',\n",
       " 'roqto',\n",
       " 'rogeo',\n",
       " 'roswv',\n",
       " 'romqv',\n",
       " 'roaoc',\n",
       " 'romuc',\n",
       " 'rotzo',\n",
       " 'romwd',\n",
       " 'romib',\n",
       " 'rodso',\n",
       " 'romnz',\n",
       " 'rolzo',\n",
       " 'romjc',\n",
       " 'roqoo',\n",
       " 'roqxo',\n",
       " 'rotco',\n",
       " 'rovro',\n",
       " 'roqdv',\n",
       " 'romlo',\n",
       " 'rowso',\n",
       " 'rombe',\n",
       " 'rouco',\n",
       " 'rodis',\n",
       " 'rohco',\n",
       " 'rodzo',\n",
       " 'rocio',\n",
       " 'roqpe',\n",
       " 'roqcc',\n",
       " 'romos',\n",
       " 'rodao',\n",
       " 'roluo',\n",
       " 'romti',\n",
       " 'rowuu',\n",
       " 'rojfo',\n",
       " 'romey',\n",
       " 'roauo',\n",
       " 'romoj',\n",
       " 'rodto',\n",
       " 'rokuo',\n",
       " 'rotfo',\n",
       " 'rokeu',\n",
       " 'romuu',\n",
       " 'romsx',\n",
       " 'rombo',\n",
       " 'romsm',\n",
       " 'romoz',\n",
       " 'romsc',\n",
       " 'romio',\n",
       " 'romnw',\n",
       " 'romcl',\n",
       " 'romuy']"
      ]
     },
     "execution_count": 111,
     "metadata": {},
     "output_type": "execute_result"
    }
   ],
   "source": [
    "top_keys = list(ranked_keys)[:200]\n",
    "top_keys"
   ]
  },
  {
   "cell_type": "code",
   "execution_count": 110,
   "metadata": {},
   "outputs": [
    {
     "name": "stdout",
     "output_type": "stream",
     "text": [
      "shakespeare-caesar.txt\n",
      "shakespeare-hamlet.txt\n",
      "shakespeare-macbeth.txt\n"
     ]
    },
    {
     "data": {
      "text/plain": [
       "8960"
      ]
     },
     "execution_count": 110,
     "metadata": {},
     "output_type": "execute_result"
    }
   ],
   "source": [
    "files = gutenberg.fileids()\n",
    "file_shakespeare = []\n",
    "for file in files:\n",
    "    if 'shakespeare' in file:\n",
    "        print(file)\n",
    "        file_shakespeare.append(file)\n",
    "words = gutenberg.words(file_shakespeare)\n",
    "vocab = [word.lower() for word in set(words)]\n",
    "len(vocab)"
   ]
  },
  {
   "cell_type": "code",
   "execution_count": 118,
   "metadata": {},
   "outputs": [
    {
     "name": "stdout",
     "output_type": "stream",
     "text": [
      "For key = romoi, Word count = 154\n",
      "For key = romco, Word count = 195\n",
      "For key = roqee, Word count = 133\n",
      "For key = romoo, Word count = 179\n",
      "For key = romfc, Word count = 150\n",
      "For key = romjt, Word count = 139\n",
      "For key = romso, Word count = 186\n",
      "For key = roqeo, Word count = 194\n",
      "For key = romot, Word count = 150\n",
      "For key = romec, Word count = 189\n",
      "For key = romoc, Word count = 152\n",
      "For key = rodoi, Word count = 122\n",
      "For key = romeo, Word count = 327\n",
      "For key = romce, Word count = 166\n",
      "For key = romsn, Word count = 150\n",
      "For key = roqeu, Word count = 127\n",
      "For key = rodho, Word count = 131\n",
      "For key = romsi, Word count = 145\n",
      "For key = romwi, Word count = 156\n",
      "For key = romdi, Word count = 143\n"
     ]
    }
   ],
   "source": [
    "Y_sec = Y[:500]\n",
    "performance = {}\n",
    "for key in top_keys[:20]:\n",
    "    X_key = decrypt_viginere(Y_sec, key)\n",
    "    word_cnt = 0\n",
    "    for word in vocab:\n",
    "        if word in X_key:\n",
    "            word_cnt += 1\n",
    "    performance[key] = word_cnt\n",
    "    print('For key = {}, Word count = {}'.format(key, word_cnt))"
   ]
  },
  {
   "cell_type": "code",
   "execution_count": 119,
   "metadata": {},
   "outputs": [
    {
     "data": {
      "text/plain": [
       "{'romeo': 327,\n",
       " 'romco': 195,\n",
       " 'roqeo': 194,\n",
       " 'romec': 189,\n",
       " 'romso': 186,\n",
       " 'romoo': 179,\n",
       " 'romce': 166,\n",
       " 'romwi': 156,\n",
       " 'romoi': 154,\n",
       " 'romoc': 152,\n",
       " 'romfc': 150,\n",
       " 'romot': 150,\n",
       " 'romsn': 150,\n",
       " 'romsi': 145,\n",
       " 'romdi': 143,\n",
       " 'romjt': 139,\n",
       " 'roqee': 133,\n",
       " 'rodho': 131,\n",
       " 'roqeu': 127,\n",
       " 'rodoi': 122}"
      ]
     },
     "execution_count": 119,
     "metadata": {},
     "output_type": "execute_result"
    }
   ],
   "source": [
    "ranked_key_perf = {}\n",
    "for w in sorted(performance, key=performance.get, reverse=True):\n",
    "    ranked_key_perf[w] = performance[w]\n",
    "ranked_key_perf"
   ]
  },
  {
   "cell_type": "code",
   "execution_count": null,
   "metadata": {},
   "outputs": [],
   "source": []
  },
  {
   "cell_type": "code",
   "execution_count": null,
   "metadata": {},
   "outputs": [],
   "source": []
  }
 ],
 "metadata": {
  "kernelspec": {
   "display_name": "Python 3",
   "language": "python",
   "name": "python3"
  },
  "language_info": {
   "codemirror_mode": {
    "name": "ipython",
    "version": 3
   },
   "file_extension": ".py",
   "mimetype": "text/x-python",
   "name": "python",
   "nbconvert_exporter": "python",
   "pygments_lexer": "ipython3",
   "version": "3.7.1"
  }
 },
 "nbformat": 4,
 "nbformat_minor": 4
}
