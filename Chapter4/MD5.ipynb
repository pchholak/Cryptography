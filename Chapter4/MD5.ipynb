{
 "cells": [
  {
   "cell_type": "markdown",
   "metadata": {},
   "source": [
    "The implementation of the MD5 algorithm is based on the original RFC at\n",
    "https://www.ietf.org/rfc/rfc1321.txt and contains optimizations from\n",
    "https://en.wikipedia.org/wiki/MD5"
   ]
  },
  {
   "cell_type": "code",
   "execution_count": 1,
   "metadata": {},
   "outputs": [],
   "source": [
    "import struct\n",
    "from enum import Enum\n",
    "from math import floor, sin\n",
    "from bitarray import bitarray"
   ]
  },
  {
   "cell_type": "code",
   "execution_count": 2,
   "metadata": {},
   "outputs": [],
   "source": [
    "class MD5Buffer(Enum):\n",
    "    A = 0x67452301\n",
    "    B = 0xEFCDAB89\n",
    "    C = 0x98BADCFE\n",
    "    D = 0x10325476\n",
    "\n",
    "class MD5(object):\n",
    "    _string = None\n",
    "    _buffers = {\n",
    "        MD5Buffer.A: None,\n",
    "        MD5Buffer.B: None,\n",
    "        MD5Buffer.C: None,\n",
    "        MD5Buffer.D: None,\n",
    "    }\n",
    "    \n",
    "    @classmethod\n",
    "    def hash(cls, string):\n",
    "        cls._string = string\n",
    "        \n",
    "        preprocessed_bit_array = cls._step_2(cls._step_1())\n",
    "        cls._step_3()\n",
    "        cls._step_4(preprocessed_bit_array)\n",
    "        return cls._step_5()\n",
    "    \n",
    "    @classmethod\n",
    "    def _step_1(cls):\n",
    "        # Convert the string to a bit array.\n",
    "        bit_array = bitarray(endian=\"big\")\n",
    "        bit_array.frombytes(cls._string.encode(\"utf-8\"))\n",
    "        \n",
    "        # Pad the string with a 1 bit and as many 0 bits required such that\n",
    "        # the length of the bit array becomes congruent to 448 modulo 512.\n",
    "        # Note that padding is always performed, even if the string's bit\n",
    "        # length is already congruent to 448 modulo 512, which leads to a\n",
    "        # new 512-bit message block.\n",
    "        bit_array.append(1)\n",
    "        while bit_array.length() % 512 != 448:\n",
    "            bit_array.append(0)\n",
    "            \n",
    "        # For the remainder of the MD5 algorithm, all values are in\n",
    "        # little endian, so transform the bit array to little endian.\n",
    "        return bitarray(bit_array, endian=\"little\")\n",
    "    \n",
    "    @classmethod\n",
    "    def _step_2(cls, step_1_result):\n",
    "        # Extend the result from step 1 with a 64-bit little endian\n",
    "        # representation of the original message length (modulo 2^64)\n",
    "        length = (len(cls._string) * 8) % pow(2, 64)\n",
    "        length_bit_array = bitarray(endian=\"little\")\n",
    "        length_bit_array.frombytes(struct.pack(\"<Q\", length))\n",
    "        \n",
    "        result = step_1_result.copy()\n",
    "        result.extend(length_bit_array)\n",
    "        return result\n",
    "    \n",
    "    @classmethod\n",
    "    def _step_3(cls):\n",
    "        # Initialize the buffers to their default values.\n",
    "        for buffer_type in cls._buffers.keys():\n",
    "            cls._buffers[buffer_type] = buffer_type.value\n",
    "            \n",
    "    @classmethod\n",
    "    def _step_4(cls, step_2_result):\n",
    "        # Define the four auxiliary functions that produce one 32-bit word.\n",
    "        F = lambda x, y, z: (x & y) | (~x & z)\n",
    "        G = lambda x, y, z: (x & z) | (y & ~z)\n",
    "        H = lambda x, y, z: x ^ y ^ z\n",
    "        I = lambda x, y, z: y ^ (x | ~z)\n",
    "        \n",
    "        # Define the left rotation function, which rotates `x` left by `n` bits.\n",
    "        rotate_left = lambda x, n: (x << n) | (x >> (32 - n))\n",
    "        \n",
    "        # Define a function for modular addition.\n",
    "        modular_add = lambda a, b: (a + b) % pow(2, 32)\n",
    "        \n",
    "        # Compute the T table from the sine function. Note that the\n",
    "        # RFC starts at index, but we start at index 0.\n",
    "        T = [floor(pow(2, 32) * abs(sin(i + 1))) for i in range(64)]\n",
    "        \n",
    "        # The total number of 32-bit words to process, N, is always a\n",
    "        # multiple of 16.\n",
    "        N = len(step_2_result) // 32\n",
    "        \n",
    "        # Process chunks of 512 bits.\n",
    "        for chunk_index in range(N // 16):\n",
    "            # Break the chunk into 16 words of 32 bits in list X.\n",
    "            start = chunk_index * 512\n",
    "            X = [step_2_result[start + (x * 32) : start + (x * 32) + 32] for x in range(16)]\n",
    "            \n",
    "            # Convert the `bitarray` objects to integers.\n",
    "            X = [int.from_bytes(word.tobytes(), byteorder=\"little\") for word in X]\n",
    "            \n",
    "            # Make shorthands for the buffers A, B, C and D.\n",
    "            A = cls._buffers[MD5Buffer.A]\n",
    "            B = cls._buffers[MD5Buffer.B]\n",
    "            C = cls._buffers[MD5Buffer.C]\n",
    "            D = cls._buffers[MD5Buffer.D]\n",
    "            \n",
    "            # Execute the four rounds with 16 operations each.\n",
    "            for i in range(4 * 16):\n",
    "                if 0 <= i <= 15:\n",
    "                    k = i\n",
    "                    s = [7, 12, 17, 22]\n",
    "                    temp = F(B, C, D)\n",
    "                elif 16 <= i <= 31:\n",
    "                    k = ((5 * i) + 1) % 16\n",
    "                    s = [5, 9, 14, 20]\n",
    "                    temp = G(B, C, D)\n",
    "                elif 32 <= i <= 47:\n",
    "                    k = ((3 * i) + 5) % 16\n",
    "                    s = [4, 11, 16, 23]\n",
    "                    temp = H(B, C, D)\n",
    "                elif 48 <= i <= 63:\n",
    "                    k = (7 * i) % 16\n",
    "                    s = [6, 10, 15, 21]\n",
    "                    temp = I(B, C, D)\n",
    "                    \n",
    "                # The MD5 algorithm uses modular addition. Note that we need a\n",
    "                # temporary variable here. If we would put the result in `A`, then\n",
    "                # the expression `A = D` below would overwrite it. We also cannot\n",
    "                # move `A = D` lower because the original `D` would already have\n",
    "                # been overwritten by the `D = C` expression.\n",
    "                temp = modular_add(temp, X[k])\n",
    "                temp = modular_add(temp, T[i])\n",
    "                temp = modular_add(temp, A)\n",
    "                temp = rotate_left(temp, s[i % 4])\n",
    "                temp = modular_add(temp, B)\n",
    "                \n",
    "                # Swap the registers for the next operation.\n",
    "                A = D\n",
    "                D = C\n",
    "                C = B\n",
    "                B = temp\n",
    "                \n",
    "            # Update the buffers with the results from this chunk.\n",
    "            cls._buffers[MD5Buffer.A] = modular_add(cls._buffers[MD5Buffer.A], A)\n",
    "            cls._buffers[MD5Buffer.B] = modular_add(cls._buffers[MD5Buffer.B], B)\n",
    "            cls._buffers[MD5Buffer.C] = modular_add(cls._buffers[MD5Buffer.C], C)\n",
    "            cls._buffers[MD5Buffer.D] = modular_add(cls._buffers[MD5Buffer.D], D)\n",
    "            \n",
    "    @classmethod\n",
    "    def _step_5(cls):\n",
    "        # Convert the buffers to little-endian.\n",
    "        A = struct.unpack(\"<I\", struct.pack(\">I\", cls._buffers[MD5Buffer.A]))[0]\n",
    "        B = struct.unpack(\"<I\", struct.pack(\">I\", cls._buffers[MD5Buffer.B]))[0]\n",
    "        C = struct.unpack(\"<I\", struct.pack(\">I\", cls._buffers[MD5Buffer.C]))[0]\n",
    "        D = struct.unpack(\"<I\", struct.pack(\">I\", cls._buffers[MD5Buffer.D]))[0]\n",
    "        \n",
    "        # Output the buffers in lower-case hexadecimal format.\n",
    "        return f\"{format(A, '08x')}{format(B, '08x')}{format(C, '08x')}{format(D, '08x')}\""
   ]
  },
  {
   "cell_type": "code",
   "execution_count": 3,
   "metadata": {},
   "outputs": [
    {
     "name": "stdout",
     "output_type": "stream",
     "text": [
      "fc3ff98e8c6a0d3087d515c0473f8677\n"
     ]
    }
   ],
   "source": [
    "string = \"hello world!\"\n",
    "md5_hash = MD5.hash(string)\n",
    "print(md5_hash)"
   ]
  },
  {
   "cell_type": "code",
   "execution_count": 7,
   "metadata": {},
   "outputs": [
    {
     "data": {
      "text/plain": [
       "'0cc175b9c0f1b6a831c399e269772661'"
      ]
     },
     "execution_count": 7,
     "metadata": {},
     "output_type": "execute_result"
    }
   ],
   "source": [
    "MD5.hash(\"a\")"
   ]
  },
  {
   "cell_type": "code",
   "execution_count": 6,
   "metadata": {},
   "outputs": [
    {
     "data": {
      "text/plain": [
       "24"
      ]
     },
     "execution_count": 6,
     "metadata": {},
     "output_type": "execute_result"
    }
   ],
   "source": [
    "len(md5_hash[-24:])"
   ]
  },
  {
   "cell_type": "code",
   "execution_count": null,
   "metadata": {},
   "outputs": [],
   "source": []
  }
 ],
 "metadata": {
  "kernelspec": {
   "display_name": "Python 3",
   "language": "python",
   "name": "python3"
  },
  "language_info": {
   "codemirror_mode": {
    "name": "ipython",
    "version": 3
   },
   "file_extension": ".py",
   "mimetype": "text/x-python",
   "name": "python",
   "nbconvert_exporter": "python",
   "pygments_lexer": "ipython3",
   "version": "3.7.6"
  }
 },
 "nbformat": 4,
 "nbformat_minor": 4
}
