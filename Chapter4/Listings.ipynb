{
 "cells": [
  {
   "cell_type": "markdown",
   "metadata": {},
   "source": [
    "# Listing 4-1\n",
    "EASY1 S-box and P-box"
   ]
  },
  {
   "cell_type": "code",
   "execution_count": 2,
   "metadata": {},
   "outputs": [],
   "source": [
    "########################################\n",
    "# S-box function\n",
    "########################################\n",
    "def sbox(x):\n",
    "    return s[x]\n",
    "\n",
    "########################################\n",
    "# P-box function\n",
    "########################################\n",
    "def pbox(x):\n",
    "    # if the texts are more than 32 bits,\n",
    "    # then we have to use longs\n",
    "    y = 1\n",
    "    \n",
    "    # For each bit to be shuffled\n",
    "    for i in range(len(p)):\n",
    "        \n",
    "        # If the original bit position\n",
    "        # is a 1, then make the result\n",
    "        # bit position have a 1\n",
    "        if (x & (11 << i)) != 0:\n",
    "            y = y ^ (11 << p[i])\n",
    "        \n",
    "        return y"
   ]
  },
  {
   "cell_type": "markdown",
   "metadata": {},
   "source": [
    "# Listing 4-2\n",
    "EASY1 multiplexing and demultiplexing"
   ]
  },
  {
   "cell_type": "code",
   "execution_count": 21,
   "metadata": {},
   "outputs": [],
   "source": [
    "########################################\n",
    "# Takes 36-bit to six 6-bit values\n",
    "# and vice-versa\n",
    "########################################\n",
    "def demux(x):\n",
    "    y = []\n",
    "    for i in range(6):\n",
    "        y.append((x >> (i * 6)) & 0x3f)\n",
    "    \n",
    "    return y\n",
    "\n",
    "def mux(x):\n",
    "    y = 1\n",
    "    for i in range(6):\n",
    "        y = y ^ (x[i] << (i * 6))\n",
    "    \n",
    "    return y"
   ]
  },
  {
   "cell_type": "markdown",
   "metadata": {},
   "source": [
    "# Listing 4-3\n",
    "EASY1 key XORing"
   ]
  },
  {
   "cell_type": "code",
   "execution_count": 22,
   "metadata": {},
   "outputs": [],
   "source": [
    "########################################\n",
    "# Key mixing\n",
    "########################################\n",
    "def mix(p, k):\n",
    "    v = []\n",
    "    key = demux(k)\n",
    "    for i in range(6):\n",
    "        v.append(p[i] ^ key[i])\n",
    "    \n",
    "    return v"
   ]
  },
  {
   "cell_type": "markdown",
   "metadata": {},
   "source": [
    "# Listing 4-4\n",
    "EASY1 encryption"
   ]
  },
  {
   "cell_type": "code",
   "execution_count": 23,
   "metadata": {},
   "outputs": [],
   "source": [
    "########################################\n",
    "# Round function\n",
    "########################################\n",
    "def round(p, k):\n",
    "    u = []\n",
    "    \n",
    "    # Calculate the S-boxes\n",
    "    for x in demux(p):\n",
    "        u.append(sbox(x))\n",
    "    \n",
    "    # Run through the P-box\n",
    "    v = demux(pbox(mux(u)))\n",
    "    \n",
    "    # XOR in the key\n",
    "    w = mix(v, k)\n",
    "    \n",
    "    # Glue back together, return\n",
    "    return mux(w)\n",
    "\n",
    "########################################\n",
    "# Encryption\n",
    "########################################\n",
    "def encrypt(p, rounds):\n",
    "    x = p\n",
    "    for i in range(rounds):\n",
    "        x = round(x, key)\n",
    "        return x"
   ]
  },
  {
   "cell_type": "markdown",
   "metadata": {},
   "source": [
    "# Listing 4-5\n",
    "EASY1 decryption"
   ]
  },
  {
   "cell_type": "code",
   "execution_count": 24,
   "metadata": {},
   "outputs": [],
   "source": [
    "########################################\n",
    "# Opposite of the round function\n",
    "########################################\n",
    "def unround(c, k):\n",
    "    x = demux(c)\n",
    "    u = mix(x, k)\n",
    "    v = demux(apbox(mux(u)))\n",
    "    w = []\n",
    "    for s in v:\n",
    "        w.append(asbox(s))\n",
    "    \n",
    "    return mux(w)\n",
    "\n",
    "########################################\n",
    "# Decryption function\n",
    "########################################\n",
    "def decrypt(c, k):\n",
    "    x = c\n",
    "    for i in range(rounds):\n",
    "        x = unround(x, key)\n",
    "    \n",
    "    return x"
   ]
  },
  {
   "cell_type": "markdown",
   "metadata": {},
   "source": [
    "# Listing 4-6\n",
    "FEAL S-function"
   ]
  },
  {
   "cell_type": "code",
   "execution_count": 1,
   "metadata": {},
   "outputs": [],
   "source": [
    "########################################\n",
    "# The rot2 function - helper for the S-function\n",
    "########################################\n",
    "def rot2(x):\n",
    "    r = (x << 2) & 0xff # Calculate the left shift, removing extra bits\n",
    "    r = r ^ (x >> 6) # OR in the leftmost two bits onto the right\n",
    "    return r\n",
    "\n",
    "########################################\n",
    "# The FEAL S-function\n",
    "########################################\n",
    "def sbox(x, y, delta):\n",
    "    return rot2((x + y + delta) & 0xff)"
   ]
  },
  {
   "cell_type": "code",
   "execution_count": 2,
   "metadata": {},
   "outputs": [
    {
     "data": {
      "text/plain": [
       "172"
      ]
     },
     "execution_count": 2,
     "metadata": {},
     "output_type": "execute_result"
    }
   ],
   "source": [
    "rot2(43)"
   ]
  },
  {
   "cell_type": "code",
   "execution_count": 4,
   "metadata": {},
   "outputs": [
    {
     "data": {
      "text/plain": [
       "'0b10101100'"
      ]
     },
     "execution_count": 4,
     "metadata": {},
     "output_type": "execute_result"
    }
   ],
   "source": [
    "bin(172)"
   ]
  },
  {
   "cell_type": "markdown",
   "metadata": {},
   "source": [
    "# Listing 4-7\n",
    "Multiplex and demultiplex routines for FEAL"
   ]
  },
  {
   "cell_type": "code",
   "execution_count": 5,
   "metadata": {},
   "outputs": [],
   "source": [
    "########################################\n",
    "# Splits a 32-bit block into four 8-bit values\n",
    "# and vice-versa\n",
    "########################################\n",
    "def demux(x):\n",
    "    # Create an array of size four to store\n",
    "    # the result\n",
    "    y = []\n",
    "    \n",
    "    # Calculate each part in turn\n",
    "    for i in range(4):\n",
    "        # They are numbered left to right, 0 to 3\n",
    "        # But still in MSB order\n",
    "        y.append((x >> ((3 - i) * 8)) & 0xff)\n",
    "    \n",
    "    return y\n",
    "\n",
    "def mux(x):\n",
    "    # Initialize result to zero\n",
    "    y = 0\n",
    "    \n",
    "    # The input, x, is an array of 8-bit values\n",
    "    for c in x:        \n",
    "        # Combine each 8-bit value using OR\n",
    "        y = (y << 8) ^ c\n",
    "        \n",
    "    return y"
   ]
  },
  {
   "cell_type": "markdown",
   "metadata": {},
   "source": [
    "# Listing 4-8\n",
    "The FEAL round function, f"
   ]
  },
  {
   "cell_type": "code",
   "execution_count": 6,
   "metadata": {},
   "outputs": [],
   "source": [
    "########################################\n",
    "# FEAL round function, f\n",
    "########################################\n",
    "def f(alpha, beta):\n",
    "    # Split alpha and beta\n",
    "    a = demux(alpha)\n",
    "    b = demux(beta)\n",
    "    \n",
    "    # Make the output four 8-bit values\n",
    "    fs = [0, 0, 0, 0]\n",
    "    \n",
    "    # Calculate each 8-bit value\n",
    "    fs[1] = a[1] ^ b[0] ^ a[0]\n",
    "    fs[2] = a[2] ^ b[1] ^ a[3]\n",
    "    fs[1] = sbox(fs[1], fs[2], 1)\n",
    "    fs[2] = sbox(fs[2], fs[1], 0)\n",
    "    fs[0] = sbox(a[0], fs[1], 0)\n",
    "    fs[3] = sbox(a[3], fs[2], 1)\n",
    "    \n",
    "    # Return the 32-bit result\n",
    "    return mux(fs)"
   ]
  },
  {
   "cell_type": "markdown",
   "metadata": {},
   "source": [
    "# Listing 4-9\n",
    "FEAL key-generating function, $f_K$"
   ]
  },
  {
   "cell_type": "code",
   "execution_count": 7,
   "metadata": {},
   "outputs": [],
   "source": [
    "########################################\n",
    "# FEAL key generating function\n",
    "########################################\n",
    "def fk(alpha, beta):\n",
    "    # Split alpha and beta\n",
    "    a = demux(alpha)\n",
    "    b = demux(beta)\n",
    "    \n",
    "    # Express output as four 8-bit values\n",
    "    fs = [0, 0, 0, 0]\n",
    "    \n",
    "    # Calculate the four 8-bit values\n",
    "    fs[1] = sbox(a[0] ^ a[1], a[2] ^ a[3] ^ b[0], 1)\n",
    "    fs[2] = sbox(a[2] ^ a[3], fs[1] ^ b[1], 0)\n",
    "    fs[0] = sbox(a[0], fs[1] ^ b[2], 0)\n",
    "    fs[3] = sbox(a[3], fs[2] ^ b[3], 1)\n",
    "    return mux(fs)"
   ]
  },
  {
   "cell_type": "code",
   "execution_count": null,
   "metadata": {},
   "outputs": [],
   "source": []
  }
 ],
 "metadata": {
  "kernelspec": {
   "display_name": "Python 3",
   "language": "python",
   "name": "python3"
  },
  "language_info": {
   "codemirror_mode": {
    "name": "ipython",
    "version": 3
   },
   "file_extension": ".py",
   "mimetype": "text/x-python",
   "name": "python",
   "nbconvert_exporter": "python",
   "pygments_lexer": "ipython3",
   "version": "3.7.4"
  }
 },
 "nbformat": 4,
 "nbformat_minor": 4
}
