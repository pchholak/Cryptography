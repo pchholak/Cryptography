{
 "cells": [
  {
   "cell_type": "markdown",
   "metadata": {},
   "source": [
    "# Exercise-4\n",
    "Implement MD5, returning only the most significant 24 bits. Use the birthday paradox to find collisions. Try to find many different collisions on many different runs, and calculate the average time to find a collision. Verify that this agrees with the mathematics of Chapter 2."
   ]
  },
  {
   "cell_type": "code",
   "execution_count": 1,
   "metadata": {},
   "outputs": [],
   "source": [
    "import math"
   ]
  },
  {
   "cell_type": "code",
   "execution_count": 2,
   "metadata": {},
   "outputs": [],
   "source": [
    "M = [1, 0, 1, 1]\n",
    "b = len(M)"
   ]
  },
  {
   "cell_type": "code",
   "execution_count": 3,
   "metadata": {},
   "outputs": [],
   "source": [
    "M.append(1)\n",
    "while (len(M)%512) != 448:\n",
    "    M.append(0)"
   ]
  },
  {
   "cell_type": "code",
   "execution_count": 4,
   "metadata": {},
   "outputs": [
    {
     "data": {
      "text/plain": [
       "512"
      ]
     },
     "execution_count": 4,
     "metadata": {},
     "output_type": "execute_result"
    }
   ],
   "source": [
    "W = list(map(int, bin(b)[2:]))\n",
    "while len(W) < 64:\n",
    "    W.append(0)\n",
    "if len(W) > 64:\n",
    "    print(\"b > 2^64\")\n",
    "    l = W[-32:]\n",
    "    h = W[-64:-32]\n",
    "    W = l + h\n",
    "M = M + W\n",
    "N = len(M)\n",
    "N"
   ]
  },
  {
   "cell_type": "code",
   "execution_count": 5,
   "metadata": {},
   "outputs": [],
   "source": [
    "A = 0x01234567\n",
    "B = 0x89abcdef\n",
    "C = 0xfedcba98\n",
    "D = 0x76543210"
   ]
  },
  {
   "cell_type": "code",
   "execution_count": 14,
   "metadata": {},
   "outputs": [],
   "source": [
    "T = [int(4294967296 * abs(math.sin(i))) for i in range(1, 65)]\n",
    "def F(x, y, z):\n",
    "    return (x & y) | ((~x) & z)\n",
    "\n",
    "def G(x, y, z):\n",
    "    return (x & z) | (y & (~z))\n",
    "\n",
    "def H(x, y, z):\n",
    "    return x ^ y ^ z\n",
    "\n",
    "def I(x, y, z):\n",
    "    return y ^ (x | (~z))\n",
    "\n",
    "def round1(a, b, c, d, k, s, i):\n",
    "    a = (b + ((a + F(b, c, d) + X[k] + T[i]) << s)) % pow(2, 32)\n",
    "    return a"
   ]
  },
  {
   "cell_type": "code",
   "execution_count": 13,
   "metadata": {},
   "outputs": [],
   "source": [
    "X = [None] * 16\n",
    "for i in range(int(N / 16)):\n",
    "    for j in range(15):\n",
    "        X[j] = M[i * 16 + j]\n",
    "    AA, BB, CC, DD = A, B, C, D\n",
    "    \n",
    "    # Round-1\n",
    "    a = round1(a, b, c, d)"
   ]
  },
  {
   "cell_type": "code",
   "execution_count": null,
   "metadata": {},
   "outputs": [],
   "source": []
  }
 ],
 "metadata": {
  "kernelspec": {
   "display_name": "Python 3",
   "language": "python",
   "name": "python3"
  },
  "language_info": {
   "codemirror_mode": {
    "name": "ipython",
    "version": 3
   },
   "file_extension": ".py",
   "mimetype": "text/x-python",
   "name": "python",
   "nbconvert_exporter": "python",
   "pygments_lexer": "ipython3",
   "version": "3.7.4"
  }
 },
 "nbformat": 4,
 "nbformat_minor": 4
}
