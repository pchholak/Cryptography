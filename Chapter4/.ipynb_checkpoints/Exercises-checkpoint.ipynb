{
 "cells": [
  {
   "cell_type": "markdown",
   "metadata": {},
   "source": [
    "# Exercise-1\n",
    "Implement MD5, returning only the most significant 24 bits. Use the birthday paradox to find collisions. Try to find many different collisions on many different runs, and calculate the average time to find a collision. Verify that this agrees with the mathematics of Chapter 2."
   ]
  },
  {
   "cell_type": "code",
   "execution_count": null,
   "metadata": {},
   "outputs": [],
   "source": [
    "import random\n",
    "import string"
   ]
  },
  {
   "cell_type": "code",
   "execution_count": null,
   "metadata": {},
   "outputs": [],
   "source": [
    "def md5_hash(string):\n",
    "    from md5 import MD5\n",
    "    return MD5.hash(string)[-5:]"
   ]
  },
  {
   "cell_type": "code",
   "execution_count": null,
   "metadata": {},
   "outputs": [],
   "source": [
    "N = 25"
   ]
  },
  {
   "cell_type": "code",
   "execution_count": null,
   "metadata": {},
   "outputs": [],
   "source": [
    "tried = {}\n",
    "collision = 0\n",
    "while not collision:\n",
    "    trial_str = ''.join(random.choices(string.ascii_lowercase + string.digits, k=N))\n",
    "    if trial_str not in tried.keys():\n",
    "        res = md5_hash(trial_str)\n",
    "        if res in tried.values():\n",
    "            collision = 1\n",
    "            print(\"Collision found!\")\n",
    "            print(\"String -> {}; Hash -> {}\".format(trial_str, res))\n",
    "        else:\n",
    "            tried[trial_str] = res"
   ]
  },
  {
   "cell_type": "markdown",
   "metadata": {},
   "source": [
    "# Exercise-2\n",
    "Write an implementation of the EASY1 cipher."
   ]
  },
  {
   "cell_type": "code",
   "execution_count": 1,
   "metadata": {},
   "outputs": [],
   "source": [
    "def arr_inv(xyz):\n",
    "    pqr = [None] * len(xyz)\n",
    "    for i, pos in enumerate(xyz):\n",
    "        pqr[pos] = i\n",
    "    return pqr\n",
    "\n",
    "S = [16, 42, 28, 3, 26, 0, 31, 46, 27, 14, 49, 62, 37, 56, 23, 6, 40,\n",
    "    48, 53, 8, 20, 25, 33, 1, 2, 63, 15, 34, 55, 21, 39, 57, 54, 45,\n",
    "    47, 13, 7, 44, 61, 9, 60, 32, 22, 29, 52, 19, 12, 50, 5, 51, 11,\n",
    "    18, 59, 41, 36, 30, 17, 38, 10, 4, 58, 43, 35, 24]\n",
    "\n",
    "P = [24, 5, 15, 23, 14, 32, 19, 18, 26, 17, 6, 12, 34, 9, 8, 20, 28, 0,\n",
    "        2, 21, 29, 11, 33, 22, 30, 31, 1, 25, 3, 35, 16, 13, 27, 7, 10, 4]\n",
    "\n",
    "S_INV = arr_inv(S)\n",
    "P_INV = arr_inv(P)\n",
    "\n",
    "########################################\n",
    "# S-box function\n",
    "########################################\n",
    "def sbox(x):\n",
    "    return S[x]\n",
    "\n",
    "########################################\n",
    "# P-box function\n",
    "########################################\n",
    "def pbox(x):\n",
    "    y = 0\n",
    "    # For each bit to be shuffled\n",
    "    for i in range(len(P)):\n",
    "        # If the original bit position\n",
    "        # is a 1, then make the result\n",
    "        # bit position have a 1\n",
    "        if (x & (1 << i)) != 0:\n",
    "            y = y ^ (1 << P[i])\n",
    "    return y\n",
    "\n",
    "########################################\n",
    "# S-box inverse function\n",
    "########################################\n",
    "def asbox(x):\n",
    "    return S_INV[x]\n",
    "\n",
    "########################################\n",
    "# P-box inverse function\n",
    "########################################\n",
    "def apbox(x):\n",
    "    y = 0\n",
    "    # For each bit to be shuffled\n",
    "    for i in range(len(P_INV)):\n",
    "        # If the original bit position\n",
    "        # is a 1, then make the result\n",
    "        # bit position have a 1\n",
    "        if (x & (1 << i)) != 0:\n",
    "            y = y ^ (1 << P_INV[i])\n",
    "    return y\n",
    "\n",
    "########################################\n",
    "# Takes 36-bit to six 6-bit values\n",
    "# and vice-versa\n",
    "########################################\n",
    "def demux(x):\n",
    "    y = []\n",
    "    for i in range(6):\n",
    "        y.append((x >> (i * 6)) & 0x3f)\n",
    "    \n",
    "    return y\n",
    "\n",
    "def mux(x):\n",
    "    y = 0\n",
    "    for i in range(6):\n",
    "        y = y ^ (x[i] << (i * 6))\n",
    "    \n",
    "    return y\n",
    "\n",
    "########################################\n",
    "# Key mixing\n",
    "########################################\n",
    "def mix(p, k):\n",
    "    v = []\n",
    "    key = demux(k)\n",
    "    for i in range(6):\n",
    "        v.append(p[i] ^ key[i])\n",
    "    \n",
    "    return v\n",
    "\n",
    "########################################\n",
    "# Round function\n",
    "########################################\n",
    "def round(p, k):\n",
    "    u = []\n",
    "    \n",
    "    # Calculate the S-boxes\n",
    "    for x in demux(p):\n",
    "        u.append(sbox(x))\n",
    "    \n",
    "    # Run through the P-box\n",
    "    v = demux(pbox(mux(u)))\n",
    "    \n",
    "    # XOR in the key\n",
    "    w = mix(v, k)\n",
    "    \n",
    "    # Glue back together, return\n",
    "    return mux(w)\n",
    "\n",
    "########################################\n",
    "# Encryption\n",
    "########################################\n",
    "def encrypt(p, rounds, key):\n",
    "    x = p\n",
    "    for i in range(rounds):\n",
    "        x = round(x, key)\n",
    "    return x\n",
    "\n",
    "########################################\n",
    "# Opposite of the round function\n",
    "########################################\n",
    "def unround(c, k):\n",
    "    x = demux(c)\n",
    "    u = mix(x, k)\n",
    "    v = demux(apbox(mux(u)))\n",
    "    w = []\n",
    "    for s in v:\n",
    "        w.append(asbox(s))\n",
    "    \n",
    "    return mux(w)\n",
    "\n",
    "########################################\n",
    "# Decryption function\n",
    "########################################\n",
    "def decrypt(c, rounds, k):\n",
    "    x = c\n",
    "    for i in range(rounds):\n",
    "        x = unround(x, key)\n",
    "    \n",
    "    return x"
   ]
  },
  {
   "cell_type": "code",
   "execution_count": 8,
   "metadata": {},
   "outputs": [],
   "source": [
    "plain = 36\n",
    "key = 1\n",
    "rounds = 1"
   ]
  },
  {
   "cell_type": "code",
   "execution_count": 9,
   "metadata": {},
   "outputs": [
    {
     "data": {
      "text/plain": [
       "8875181161"
      ]
     },
     "execution_count": 9,
     "metadata": {},
     "output_type": "execute_result"
    }
   ],
   "source": [
    "cipher = encrypt(plain, rounds, key)\n",
    "cipher"
   ]
  },
  {
   "cell_type": "code",
   "execution_count": 10,
   "metadata": {},
   "outputs": [
    {
     "data": {
      "text/plain": [
       "36"
      ]
     },
     "execution_count": 10,
     "metadata": {},
     "output_type": "execute_result"
    }
   ],
   "source": [
    "decrypt(cipher, rounds, key)"
   ]
  },
  {
   "cell_type": "markdown",
   "metadata": {},
   "source": [
    "# Exercise-3\n",
    "Write your own implementation of DES."
   ]
  },
  {
   "cell_type": "code",
   "execution_count": 1,
   "metadata": {},
   "outputs": [],
   "source": [
    "from des import DES"
   ]
  },
  {
   "cell_type": "code",
   "execution_count": 2,
   "metadata": {},
   "outputs": [],
   "source": [
    "text = \"Hello world\"\n",
    "key = \"secret_key\""
   ]
  },
  {
   "cell_type": "code",
   "execution_count": 3,
   "metadata": {},
   "outputs": [
    {
     "name": "stdout",
     "output_type": "stream",
     "text": [
      "Cipher: 'ßåýåÚ\\x9f\\\\\\x9d\\x89r\\x9c\\x16Û\\x0fá\\x8b'\n",
      "Plain text: Hello world\n"
     ]
    }
   ],
   "source": [
    "c = DES.encrypt(text, key)\n",
    "print(\"Cipher: %r\" % c)\n",
    "pt = DES.decrypt(c, key)\n",
    "print(\"Plain text:\", pt)"
   ]
  },
  {
   "cell_type": "markdown",
   "metadata": {},
   "source": [
    "# Exercise-4\n",
    "Write an implementation of AES. Compare the running time of encryption in AES and DES."
   ]
  },
  {
   "cell_type": "code",
   "execution_count": 4,
   "metadata": {},
   "outputs": [],
   "source": [
    "from aes import AES"
   ]
  },
  {
   "cell_type": "code",
   "execution_count": 5,
   "metadata": {},
   "outputs": [
    {
     "name": "stdout",
     "output_type": "stream",
     "text": [
      "Plaintext:\n",
      "Aur aaj, mere dost, President Do-nald Trump, apni\n",
      "aitihasik Bharat yatra ka aarambh, Ahmedabad\n",
      "mein Namaste Trump se kar rahe hai!\n",
      "\n",
      "Encryption:\n",
      "11992f27dbfa009aabab57b836040a07d3ff2da1a94a0c24a5f8aa5586f57ff834e0d37c8b99944de51cea5aca313ca994aa14420bc05281247cffbe915fd980a865a31f58c669592be6de72dd585ba06a7e6ddee2bd7225ff6d46efeaf7ff5fca45b7b8ded0d4b01a4e797daabf8511958aaa79d1af1b4089bf081f7901d18388c3553cf1a7927a3feace70d68427ba\n",
      "\n",
      "Decryption:\n",
      "Aur aaj, mere dost, President Do-nald Trump, apni\n",
      "aitihasik Bharat yatra ka aarambh, Ahmedabad\n",
      "mein Namaste Trump se kar rahe hai!\n"
     ]
    }
   ],
   "source": [
    "plaintext = \"\"\"Aur aaj, mere dost, President Do-nald Trump, apni\n",
    "aitihasik Bharat yatra ka aarambh, Ahmedabad\n",
    "mein Namaste Trump se kar rahe hai!\"\"\"\n",
    "\n",
    "key = \"swami vivekamunun\"\n",
    "\n",
    "print(\"Plaintext:\")\n",
    "print(plaintext)\n",
    "print()\n",
    "cipher = AES.encrypt(plaintext, key)\n",
    "print(\"Encryption:\")\n",
    "print(cipher)\n",
    "print()\n",
    "decipher = AES.decrypt(cipher, key)\n",
    "print(\"Decryption:\")\n",
    "print(decipher)"
   ]
  },
  {
   "cell_type": "code",
   "execution_count": null,
   "metadata": {},
   "outputs": [],
   "source": [
    "import timeit\n",
    "import matplotlib.pyplot as plt"
   ]
  },
  {
   "cell_type": "code",
   "execution_count": null,
   "metadata": {},
   "outputs": [],
   "source": [
    "setup = \"\"\"\n",
    "from des import DES\n",
    "from aes import AES\n",
    "from __main__ import n\n",
    "text = '0' * n\n",
    "key = \"swami vivekamunun\"\n",
    "\"\"\"\n",
    "code1 = \"\"\"\n",
    "c = DES.encrypt(text, key)\n",
    "pt = DES.decrypt(c, key)\n",
    "\"\"\"\n",
    "code2 = \"\"\"\n",
    "c = AES.encrypt(text, key)\n",
    "pt = AES.decrypt(c, key)\n",
    "\"\"\""
   ]
  },
  {
   "cell_type": "code",
   "execution_count": null,
   "metadata": {},
   "outputs": [],
   "source": [
    "N = [10, 100, 1000, 10000]\n",
    "t_DES, t_AES = [], []\n",
    "for n in N:\n",
    "    t = timeit.timeit(setup=setup, stmt=code1, number=100)\n",
    "    print(\"DES\", n, t)\n",
    "    t_DES.append(t)\n",
    "    t = timeit.timeit(setup=setup, stmt=code2, number=100)\n",
    "    print(\"AES\", n, t)\n",
    "    t_AES.append(t)"
   ]
  },
  {
   "cell_type": "code",
   "execution_count": null,
   "metadata": {},
   "outputs": [],
   "source": [
    "plt.plot(N, t_DES, N, t_AES)\n",
    "plt.legend(('DES', 'AES'))\n",
    "plt.xlabel('Size (bytes)')\n",
    "plt.ylabel('Encryption time x100 (secs)')\n",
    "plt.show()"
   ]
  },
  {
   "cell_type": "code",
   "execution_count": null,
   "metadata": {},
   "outputs": [],
   "source": []
  }
 ],
 "metadata": {
  "kernelspec": {
   "display_name": "Python 3",
   "language": "python",
   "name": "python3"
  },
  "language_info": {
   "codemirror_mode": {
    "name": "ipython",
    "version": 3
   },
   "file_extension": ".py",
   "mimetype": "text/x-python",
   "name": "python",
   "nbconvert_exporter": "python",
   "pygments_lexer": "ipython3",
   "version": "3.7.6"
  }
 },
 "nbformat": 4,
 "nbformat_minor": 4
}
