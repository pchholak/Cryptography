{
 "cells": [
  {
   "cell_type": "code",
   "execution_count": 1,
   "metadata": {},
   "outputs": [],
   "source": [
    "def inverse_eea(a, b):\n",
    "    import math\n",
    "    u, d = 1, a\n",
    "    if b==0:\n",
    "        v = 0\n",
    "        return v\n",
    "    v1, v3 = 0, b\n",
    "    while v3 != 0:\n",
    "        q = math.floor(d / v3)\n",
    "        t3 = d % v3\n",
    "        t1 = u - q * v1\n",
    "        u = v1\n",
    "        d = v3\n",
    "        v1 = t1\n",
    "        v3 = t3\n",
    "    v = (d - a * u) / b\n",
    "    return v"
   ]
  },
  {
   "cell_type": "code",
   "execution_count": 2,
   "metadata": {},
   "outputs": [
    {
     "data": {
      "text/plain": [
       "11.0"
      ]
     },
     "execution_count": 2,
     "metadata": {},
     "output_type": "execute_result"
    }
   ],
   "source": [
    "a, b = 31, 17\n",
    "inverse_eea(a, b)"
   ]
  },
  {
   "cell_type": "code",
   "execution_count": null,
   "metadata": {},
   "outputs": [],
   "source": []
  }
 ],
 "metadata": {
  "kernelspec": {
   "display_name": "Python 3",
   "language": "python",
   "name": "python3"
  },
  "language_info": {
   "codemirror_mode": {
    "name": "ipython",
    "version": 3
   },
   "file_extension": ".py",
   "mimetype": "text/x-python",
   "name": "python",
   "nbconvert_exporter": "python",
   "pygments_lexer": "ipython3",
   "version": "3.7.4"
  }
 },
 "nbformat": 4,
 "nbformat_minor": 2
}
