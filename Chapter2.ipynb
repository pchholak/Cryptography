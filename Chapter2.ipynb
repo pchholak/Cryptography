{
 "cells": [
  {
   "cell_type": "markdown",
   "metadata": {},
   "source": [
    "# Question 1\n",
    "Program to calculate inverse using extended euclidean algorithm"
   ]
  },
  {
   "cell_type": "code",
   "execution_count": null,
   "metadata": {},
   "outputs": [],
   "source": [
    "def inverse_eea(a, b):\n",
    "    if b==0:\n",
    "        v = 0\n",
    "        return v\n",
    "    else:\n",
    "        import math\n",
    "        u, d = 1, a\n",
    "        v1, v3 = 0, b\n",
    "        while v3 != 0:\n",
    "            q, t3 = math.floor(d / v3), d % v3\n",
    "            t1 = u - q * v1\n",
    "            u = v1\n",
    "            d = v3\n",
    "            v1 = t1\n",
    "            v3 = t3\n",
    "        v = (d - a * u) / b\n",
    "        return v"
   ]
  },
  {
   "cell_type": "code",
   "execution_count": null,
   "metadata": {},
   "outputs": [],
   "source": [
    "a, b = 31, 17\n",
    "inverse_eea(a, b)"
   ]
  },
  {
   "cell_type": "markdown",
   "metadata": {},
   "source": [
    "# Question 2\n",
    "Program for point addition on elliptic curves in Z_p"
   ]
  },
  {
   "cell_type": "code",
   "execution_count": null,
   "metadata": {},
   "outputs": [],
   "source": [
    "def point_addition_ec(p, curve, P, Q):\n",
    "    import math\n",
    "    a, b = curve['a'], curve['b']\n",
    "    (x1, y1), (x2, y2) = P, Q\n",
    "    if (x1 % p == x2 % p) and (y1 % p == -y2 % p):\n",
    "        print(\"P + (-P) = inf\")\n",
    "        x3 = x1\n",
    "        y3 = float(\"inf\")\n",
    "        return (x3, y3)\n",
    "    elif (math.isinf(y1)) and not(math.isinf(y2)):\n",
    "        return (x2, y2)\n",
    "    elif (math.isinf(y2)) and not(math.isinf(y1)):\n",
    "        return (x1, y1)\n",
    "    elif (math.isinf(y1)) and (math.isinf(y2)):\n",
    "        return (x1, y1)\n",
    "    elif (x1 % p == x2 % p) and (y1 % p == y2 % p):\n",
    "        print(\"Point doubling: 2P\")\n",
    "        num_m = (3 * x1 ** 2 + a) % p\n",
    "        den_m = (2 * y1) % p\n",
    "        m = (num_m * inverse_eea(p, den_m)) % p\n",
    "    else:\n",
    "        print(\"Regular point addition\")\n",
    "        num_m = (y2 - y1) % p\n",
    "        den_m = (x2 - x1) % p\n",
    "        m = (num_m * inverse_eea(p, den_m)) % p\n",
    "    x3 = (m ** 2 - x2 - x1) % p\n",
    "    y3 = (m * (x2 - x3) - y2) % p\n",
    "    return (x3, y3)"
   ]
  },
  {
   "cell_type": "code",
   "execution_count": null,
   "metadata": {},
   "outputs": [],
   "source": [
    "p = 17\n",
    "curve = {\"a\": 2, \"b\": 2}\n",
    "P = 5, 1\n",
    "Q = P\n",
    "# Q = 5, 1"
   ]
  },
  {
   "cell_type": "code",
   "execution_count": null,
   "metadata": {},
   "outputs": [],
   "source": [
    "point_addition_ec(p, curve, P, Q)"
   ]
  },
  {
   "cell_type": "markdown",
   "metadata": {},
   "source": [
    "# Question 3\n",
    "Use \"double-and-add\" algorithm to extend point addition to point multiplication"
   ]
  },
  {
   "cell_type": "code",
   "execution_count": null,
   "metadata": {},
   "outputs": [],
   "source": [
    "def point_multiplication_ec(p, curve, P, d):\n",
    "    d_bin = list(bin(d)[2:])\n",
    "    d_bin.reverse()\n",
    "    t = len(d_bin)\n",
    "    T = P\n",
    "    for i in range(t-2, -1, -1):\n",
    "        print(i)\n",
    "        T = point_addition_ec(p, curve, T, T)\n",
    "        if int(d_bin[i]) == 1:\n",
    "            T = point_addition_ec(p, curve, T, P)\n",
    "    return T"
   ]
  },
  {
   "cell_type": "code",
   "execution_count": null,
   "metadata": {},
   "outputs": [],
   "source": [
    "p = 1700000000\n",
    "curve = {\"a\": 2, \"b\": 2}\n",
    "P = 5, 1\n",
    "d = 20"
   ]
  },
  {
   "cell_type": "code",
   "execution_count": null,
   "metadata": {},
   "outputs": [],
   "source": [
    "point_multiplication_ec(p, curve, P, d)"
   ]
  },
  {
   "cell_type": "markdown",
   "metadata": {},
   "source": [
    "# Question 4\n",
    "Encode ASCII text message as a point on EC"
   ]
  },
  {
   "cell_type": "code",
   "execution_count": null,
   "metadata": {},
   "outputs": [],
   "source": [
    "import math"
   ]
  },
  {
   "cell_type": "code",
   "execution_count": null,
   "metadata": {},
   "outputs": [],
   "source": [
    "def legendre_symbol(u, p):\n",
    "    return (u ** ((p - 1) / 2)) % p"
   ]
  },
  {
   "cell_type": "code",
   "execution_count": null,
   "metadata": {},
   "outputs": [],
   "source": [
    "def shank_square_root(u, p):\n",
    "    t = p - 1\n",
    "    e = 0\n",
    "    while t % 2 == 0:\n",
    "        e += 1\n",
    "        q = t / 2\n",
    "        t = q\n",
    "    print(\"p - 1 = 2^{} * {}\".format(e, q))\n",
    "    search_nonsquare = True\n",
    "    n = 0\n",
    "    while (n < p) and search_nonsquare:\n",
    "        if legendre_symbol(n, p) == -1 % p:\n",
    "            search_nonsquare = False\n",
    "        else:\n",
    "            n += 1\n",
    "    if search_nonsquare:\n",
    "        print(\"No non-squares found!\")\n",
    "        return None\n",
    "    z = (n ** q) % p\n",
    "    y = z\n",
    "    r = e\n",
    "    x = (u ** ((q - 1) / 2)) % p\n",
    "    b = (u * (x ** 2)) % p\n",
    "    x = (u * x) % p\n",
    "    run = True\n",
    "    while run:\n",
    "        if b == 1:\n",
    "            print(\"Square-root = {}\".format(x))\n",
    "            return x\n",
    "        else:\n",
    "            m = 0\n",
    "            while (b ** (2 ** m)) % p != 1:\n",
    "                m += 1\n",
    "            if m == r:\n",
    "                print(\"We have a problem: m = r\")\n",
    "                print(\"'a' is not a quadratic residue of 'p'\")\n",
    "                return None\n",
    "            t = (y ** (2 ** (r - m - 1))) % p\n",
    "            y = (t ** 2) % p\n",
    "            r = m % p\n",
    "            x = (x * t) % p\n",
    "            b = (b * y) % p"
   ]
  },
  {
   "cell_type": "code",
   "execution_count": null,
   "metadata": {},
   "outputs": [],
   "source": [
    "def encode_ec(p, curve, m):\n",
    "    a, b = curve[\"a\"], curve[\"b\"]\n",
    "    j = 0\n",
    "    found_yj = False\n",
    "    while (j<100) and not(found_yj):\n",
    "        xj = (100 * m + j) % p\n",
    "        j += 1\n",
    "        u = (xj ** 3 + a * xj + b) % p\n",
    "        yj = None\n",
    "        if (u ** ((p - 1) / 2)) % p == 1:\n",
    "            print(\"{} is a square in Fp\".format(u))\n",
    "            if (p % 4) == 3:\n",
    "                print('Case-1: p % 4 = 3')\n",
    "                yj = (u ** ((p + 1) / 4)) % p\n",
    "                found_yj = True\n",
    "            elif (p % 8) == 5:\n",
    "                print('Case-2: p % 8 = 5')\n",
    "                w = (u ** ((p - 1) / 4)) % p\n",
    "                if w == 1 % p:\n",
    "                    print('Case-2a: w = 1 % p')\n",
    "                    yj = (u ** ((p + 3) / 8)) % p\n",
    "                    if yj != None:\n",
    "                        found_yj = True\n",
    "                elif w == -1 % p:\n",
    "                    print('Case-2b: w = -1 % p)\n",
    "                    yj = ((2 * u) * (4 * u) ** ((p - 5) / 8)) % p\n",
    "                    if yj != None:\n",
    "                        found_yj = True\n",
    "                else:\n",
    "                    print (\"w is neither (+1 % p) nor (-1 % p)\")\n",
    "                    yj = None\n",
    "            elif (p % 8) == 1:\n",
    "                print(\"Case-3: Using shank's algorithm for square root\")\n",
    "                yj = shank_square_root(u, p)\n",
    "                if yj != None:\n",
    "                    found_yj = True\n",
    "            else:\n",
    "                print(\"No yj found\")\n",
    "                yj = None\n",
    "    return (xj, int(yj))"
   ]
  },
  {
   "cell_type": "code",
   "execution_count": null,
   "metadata": {},
   "outputs": [],
   "source": [
    "# [5, 13, 29, 37, 53, 61, 101, 109, 149, 157, 173, 181, 197, 229]\n",
    "p = 197\n",
    "curve = {\"a\": 2, \"b\": 2}"
   ]
  },
  {
   "cell_type": "code",
   "execution_count": null,
   "metadata": {},
   "outputs": [],
   "source": [
    "message = 'Alice'\n",
    "m = 0\n",
    "for c in message:\n",
    "    m += ord(c)\n",
    "m = m % math.ceil(p/100)\n",
    "m"
   ]
  },
  {
   "cell_type": "code",
   "execution_count": null,
   "metadata": {},
   "outputs": [],
   "source": [
    "xj, yj = encode_ec(p, curve, m)\n",
    "print(\"(x, y) -> ({}, {})\".format(xj, yj))"
   ]
  },
  {
   "cell_type": "code",
   "execution_count": null,
   "metadata": {},
   "outputs": [],
   "source": [
    "pp = [2, 3, 5, 7, 11, 13, 17, 19, 23, 29, 31, 37, 41, 43, 47, 53, 59, 61, 67,\n",
    "71, 73, 79, 83, 89, 97, 101, 103, 107, 109, 113, 127, 131, 137, 139, 149,\n",
    "151, 157, 163, 167, 173, 179, 181, 191, 193, 197, 199, 211, 223, 227, 229]\n",
    "[p for p in pp if (p % 8) == 5]"
   ]
  },
  {
   "cell_type": "code",
   "execution_count": null,
   "metadata": {},
   "outputs": [],
   "source": [
    "2774 % 197"
   ]
  },
  {
   "cell_type": "code",
   "execution_count": null,
   "metadata": {},
   "outputs": [],
   "source": []
  }
 ],
 "metadata": {
  "kernelspec": {
   "display_name": "Python 3",
   "language": "python",
   "name": "python3"
  },
  "language_info": {
   "codemirror_mode": {
    "name": "ipython",
    "version": 3
   },
   "file_extension": ".py",
   "mimetype": "text/x-python",
   "name": "python",
   "nbconvert_exporter": "python",
   "pygments_lexer": "ipython3",
   "version": "3.7.1"
  }
 },
 "nbformat": 4,
 "nbformat_minor": 2
}
