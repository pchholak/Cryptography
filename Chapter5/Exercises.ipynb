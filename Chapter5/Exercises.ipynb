{
 "cells": [
  {
   "cell_type": "markdown",
   "metadata": {},
   "source": [
    "# Exercise-2\n",
    "Write an implementation of a rainbow table attack against the  \n",
    "Microsoft LAN Manager password-hashing scheme."
   ]
  },
  {
   "cell_type": "code",
   "execution_count": null,
   "metadata": {},
   "outputs": [],
   "source": [
    "from lmdes import lmdes, bitarray2str\n",
    "from rainbow_lm import RainbowTable\n",
    "from bitarray import bitarray"
   ]
  },
  {
   "cell_type": "code",
   "execution_count": null,
   "metadata": {},
   "outputs": [],
   "source": [
    "bit_array = bitarray()\n",
    "for i in range(7 * 8):\n",
    "    bit_array.append(0)\n",
    "print(bit_array)\n",
    "pwd_zero = bitarray2str(bit_array)"
   ]
  },
  {
   "cell_type": "code",
   "execution_count": null,
   "metadata": {},
   "outputs": [],
   "source": [
    "word = \"17437184211106\"\n",
    "target = lmdes(word).generate_hash()\n",
    "h1, h2 = target[:16], target[16:]\n",
    "print(\"Target hash:\", target)\n",
    "print(\"Hash h1:\", h1)\n",
    "print(\"Hash h2:\", h2)"
   ]
  },
  {
   "cell_type": "code",
   "execution_count": null,
   "metadata": {},
   "outputs": [],
   "source": [
    "numbers = '0123456789'\n",
    "rain = RainbowTable(columns=10000, chars=numbers,rows=3048)"
   ]
  },
  {
   "cell_type": "code",
   "execution_count": null,
   "metadata": {},
   "outputs": [],
   "source": [
    "rain.__repr__\n",
    "rain.writeToFile(\"rain_num_R=3048_C=10000.txt\")"
   ]
  },
  {
   "cell_type": "code",
   "execution_count": null,
   "metadata": {},
   "outputs": [],
   "source": [
    "# rain = RainbowTable()\n",
    "# rain.readFromFile(\"rain_num_R=20000_C=200.txt\")\n",
    "# rain.__repr__"
   ]
  },
  {
   "cell_type": "code",
   "execution_count": null,
   "metadata": {},
   "outputs": [],
   "source": [
    "pwd1 = rain.crackHash(h1)"
   ]
  },
  {
   "cell_type": "code",
   "execution_count": null,
   "metadata": {},
   "outputs": [],
   "source": [
    "# if h2 == 'aad3b435b51404ee':\n",
    "#     pwd2 = pwd_zero\n",
    "# else:  \n",
    "#     print(\"Password longer than 7 characters\")\n",
    "#     pwd2 = rain.crackHash(h2)"
   ]
  },
  {
   "cell_type": "code",
   "execution_count": null,
   "metadata": {},
   "outputs": [],
   "source": [
    "print(\"Cracked password (1): %r\" % (pwd1))\n",
    "# print(\"Cracked password (2): %r\" % (pwd2))"
   ]
  },
  {
   "cell_type": "code",
   "execution_count": null,
   "metadata": {},
   "outputs": [],
   "source": [
    "# rain.writeToFile(\"rain_num.txt\")"
   ]
  },
  {
   "cell_type": "markdown",
   "metadata": {},
   "source": [
    "# Exercise-3\n",
    "Slide attack on EASY1 with 20 rounds"
   ]
  },
  {
   "cell_type": "code",
   "execution_count": 1,
   "metadata": {},
   "outputs": [],
   "source": [
    "import random\n",
    "from easy1 import encrypt, decrypt"
   ]
  },
  {
   "cell_type": "code",
   "execution_count": 2,
   "metadata": {},
   "outputs": [
    {
     "name": "stdout",
     "output_type": "stream",
     "text": [
      "Number of PT-CT pairs to be generated: 262144\n",
      "Secret key: 1\n"
     ]
    }
   ],
   "source": [
    "rounds = 20\n",
    "n_block, n_key = 36, 18\n",
    "n_trials = 2 ** (n_block // 2)\n",
    "output_file = \"plain-cipher.txt\"\n",
    "print(\"Number of PT-CT pairs to be generated:\", n_trials)\n",
    "secret_key = 1\n",
    "# secret_key = random.getrandbits(n_key)\n",
    "print(\"Secret key:\", secret_key)"
   ]
  },
  {
   "cell_type": "code",
   "execution_count": 3,
   "metadata": {},
   "outputs": [],
   "source": [
    "plain_cipher_pairs = {}\n",
    "\n",
    "for i in range(n_trials):\n",
    "    plain = random.getrandbits(n_block)\n",
    "    cipher = encrypt(plain, rounds, secret_key)\n",
    "    plain_cipher_pairs[plain] = cipher"
   ]
  },
  {
   "cell_type": "code",
   "execution_count": 4,
   "metadata": {},
   "outputs": [],
   "source": [
    "f = open(output_file, 'w')\n",
    "for plain in plain_cipher_pairs:\n",
    "    f.write(\" \".join([str(plain), str(plain_cipher_pairs[plain])]))\n",
    "    f.write(\"\\n\")\n",
    "f.close()"
   ]
  },
  {
   "cell_type": "code",
   "execution_count": null,
   "metadata": {},
   "outputs": [],
   "source": []
  }
 ],
 "metadata": {
  "kernelspec": {
   "display_name": "Python 3",
   "language": "python",
   "name": "python3"
  },
  "language_info": {
   "codemirror_mode": {
    "name": "ipython",
    "version": 3
   },
   "file_extension": ".py",
   "mimetype": "text/x-python",
   "name": "python",
   "nbconvert_exporter": "python",
   "pygments_lexer": "ipython3",
   "version": "3.7.6"
  }
 },
 "nbformat": 4,
 "nbformat_minor": 4
}
