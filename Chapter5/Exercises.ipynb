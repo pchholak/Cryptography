{
 "cells": [
  {
   "cell_type": "markdown",
   "metadata": {},
   "source": [
    "# Exercise-2\n",
    "Write an implementation of a rainbow table attack against the  \n",
    "Microsoft LAN Manager password-hashing scheme."
   ]
  },
  {
   "cell_type": "code",
   "execution_count": 1,
   "metadata": {},
   "outputs": [],
   "source": [
    "from lmdes import lmdes, bitarray2str\n",
    "from rainbow_lm import RainbowTable\n",
    "from bitarray import bitarray"
   ]
  },
  {
   "cell_type": "code",
   "execution_count": 2,
   "metadata": {},
   "outputs": [
    {
     "name": "stdout",
     "output_type": "stream",
     "text": [
      "bitarray('00000000000000000000000000000000000000000000000000000000')\n"
     ]
    }
   ],
   "source": [
    "bit_array = bitarray()\n",
    "for i in range(7 * 8):\n",
    "    bit_array.append(0)\n",
    "print(bit_array)\n",
    "pwd_zero = bitarray2str(bit_array)"
   ]
  },
  {
   "cell_type": "code",
   "execution_count": 3,
   "metadata": {},
   "outputs": [
    {
     "name": "stdout",
     "output_type": "stream",
     "text": [
      "Target hash: 003d4aaaf03ecf32ed2deb668b4208b6\n",
      "Hash h1: 003d4aaaf03ecf32\n",
      "Hash h2: ed2deb668b4208b6\n"
     ]
    }
   ],
   "source": [
    "word = \"17437184211106\"\n",
    "target = lmdes(word).generate_hash()\n",
    "h1, h2 = target[:16], target[16:]\n",
    "print(\"Target hash:\", target)\n",
    "print(\"Hash h1:\", h1)\n",
    "print(\"Hash h2:\", h2)"
   ]
  },
  {
   "cell_type": "code",
   "execution_count": 4,
   "metadata": {},
   "outputs": [],
   "source": [
    "numbers = '0123456789'\n",
    "rain = RainbowTable(columns=10000, chars=numbers,rows=3048)"
   ]
  },
  {
   "cell_type": "code",
   "execution_count": 5,
   "metadata": {},
   "outputs": [],
   "source": [
    "rain.__repr__\n",
    "rain.writeToFile(\"rain_num_R=3048_C=10000.txt\")"
   ]
  },
  {
   "cell_type": "code",
   "execution_count": 6,
   "metadata": {},
   "outputs": [],
   "source": [
    "# rain = RainbowTable()\n",
    "# rain.readFromFile(\"rain_num_R=20000_C=200.txt\")\n",
    "# rain.__repr__"
   ]
  },
  {
   "cell_type": "code",
   "execution_count": 7,
   "metadata": {},
   "outputs": [],
   "source": [
    "pwd1 = rain.crackHash(h1)"
   ]
  },
  {
   "cell_type": "code",
   "execution_count": 9,
   "metadata": {},
   "outputs": [],
   "source": [
    "# if h2 == 'aad3b435b51404ee':\n",
    "#     pwd2 = pwd_zero\n",
    "# else:  \n",
    "#     print(\"Password longer than 7 characters\")\n",
    "#     pwd2 = rain.crackHash(h2)"
   ]
  },
  {
   "cell_type": "code",
   "execution_count": 10,
   "metadata": {},
   "outputs": [
    {
     "name": "stdout",
     "output_type": "stream",
     "text": [
      "Cracked password (1): '1743718'\n"
     ]
    }
   ],
   "source": [
    "print(\"Cracked password (1): %r\" % (pwd1))\n",
    "# print(\"Cracked password (2): %r\" % (pwd2))"
   ]
  },
  {
   "cell_type": "code",
   "execution_count": null,
   "metadata": {},
   "outputs": [],
   "source": [
    "# rain.writeToFile(\"rain_num.txt\")"
   ]
  },
  {
   "cell_type": "code",
   "execution_count": null,
   "metadata": {},
   "outputs": [],
   "source": []
  }
 ],
 "metadata": {
  "kernelspec": {
   "display_name": "Python 3",
   "language": "python",
   "name": "python3"
  },
  "language_info": {
   "codemirror_mode": {
    "name": "ipython",
    "version": 3
   },
   "file_extension": ".py",
   "mimetype": "text/x-python",
   "name": "python",
   "nbconvert_exporter": "python",
   "pygments_lexer": "ipython3",
   "version": "3.7.6"
  }
 },
 "nbformat": 4,
 "nbformat_minor": 4
}
