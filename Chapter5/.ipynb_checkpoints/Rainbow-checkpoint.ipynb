{
 "cells": [
  {
   "cell_type": "markdown",
   "metadata": {},
   "source": [
    "Taken from: https://github.com/jfmengels/rainbowtable-python/"
   ]
  },
  {
   "cell_type": "code",
   "execution_count": 1,
   "metadata": {},
   "outputs": [],
   "source": [
    "from hashlib import md5, sha1"
   ]
  },
  {
   "cell_type": "code",
   "execution_count": 2,
   "metadata": {},
   "outputs": [],
   "source": [
    "lettersLower = 'abcdefghijklmnopqrstuvwxyz'\n",
    "lettersUpper = 'ABCDEFGHIJKLMNOPQRSTUVWXYZ'\n",
    "numbers = '0123456789'\n",
    "allChars = lettersLower + lettersUpper + numbers"
   ]
  },
  {
   "cell_type": "code",
   "execution_count": 8,
   "metadata": {},
   "outputs": [],
   "source": [
    "def generatePasswords(nbChar, chars=lettersLower):\n",
    "    \"\"\"\n",
    "    Generates a list of all possible passwords given certain parameters.\n",
    "    nbChar: Number of characters in the password.\n",
    "    chars: List of covered characters.\n",
    "    \"\"\"\n",
    "    results = []\n",
    "    nbDifferentChars = len(chars)\n",
    "    for i in range(nbDifferentChars ** nbChar):\n",
    "        word = \"\"\n",
    "        for j in range(nbChar):\n",
    "            print(\"For char #{}: i = {}\".format(j+1, i))\n",
    "            word = chars[i % nbDifferentChars] + word\n",
    "            i //= nbDifferentChars\n",
    "        results.append(word)\n",
    "    return results"
   ]
  },
  {
   "cell_type": "code",
   "execution_count": 13,
   "metadata": {},
   "outputs": [],
   "source": [
    "class RainbowTable:\n",
    "    \"\"\"\n",
    "    Rainbow table: Structure to crack hashed passwords.\n",
    "    \"\"\"\n",
    "    # Dictionary for finding hash functions by their name.\n",
    "    hashFunctions = {\n",
    "                   '': None,\n",
    "        sha1.__name__: sha1,\n",
    "               'sha1': sha1,\n",
    "         md5.__name__: md5,\n",
    "                'md5': md5,\n",
    "    }\n",
    "    \n",
    "    def __init__(self, columns=0, chars=\"\", pwdLength=0, func='', rows=1000):\n",
    "        \"\"\"\n",
    "        Initialises the rainbow table.\n",
    "        columns:    Length of a chain, i.e. the number of times the password \n",
    "                    at the start of the chain is hashed and reduced.\n",
    "        chars:      List of characters covered.\n",
    "        pwdLength:  Length of the passwords.\n",
    "        func:       Name of the hashing function.\n",
    "        rows:       Number of chains.\n",
    "        \"\"\""
   ]
  },
  {
   "cell_type": "code",
   "execution_count": null,
   "metadata": {},
   "outputs": [],
   "source": []
  }
 ],
 "metadata": {
  "kernelspec": {
   "display_name": "Python 3",
   "language": "python",
   "name": "python3"
  },
  "language_info": {
   "codemirror_mode": {
    "name": "ipython",
    "version": 3
   },
   "file_extension": ".py",
   "mimetype": "text/x-python",
   "name": "python",
   "nbconvert_exporter": "python",
   "pygments_lexer": "ipython3",
   "version": "3.7.6"
  }
 },
 "nbformat": 4,
 "nbformat_minor": 4
}
