{
 "cells": [
  {
   "cell_type": "code",
   "execution_count": 1,
   "metadata": {},
   "outputs": [],
   "source": [
    "from bitarray import bitarray\n",
    "import struct\n",
    "import sys"
   ]
  },
  {
   "cell_type": "code",
   "execution_count": 2,
   "metadata": {},
   "outputs": [],
   "source": [
    "sys.path.insert(1, '/home/chholak/Git/Cryptography/Chapter4')\n",
    "from des import DES"
   ]
  },
  {
   "cell_type": "code",
   "execution_count": 3,
   "metadata": {},
   "outputs": [],
   "source": [
    "def string2bits(string):\n",
    "    lst = []\n",
    "    for c in string:\n",
    "        bits = bin(ord(c))[2:]\n",
    "        bits = '00000000'[len(bits):] + bits\n",
    "        lst.extend([int(b) for b in bits])\n",
    "    return bitarray(lst)\n",
    "\n",
    "bitarray2int = lambda bit_array: struct.unpack(\">Q\", bit_array)[0]\n",
    "\n",
    "def bitarray2str(bit_array): #Recreate the string from the bit array\n",
    "    bits = [int(i) for i in bit_array.tolist()]\n",
    "    chars = []\n",
    "    for b in range(len(bits) // 8):\n",
    "        byte = bits[b * 8 : (b + 1) * 8]\n",
    "        chars.append(chr(int(''.join([str(bit) for bit in byte]), 2)))\n",
    "    return ''.join(chars)"
   ]
  },
  {
   "cell_type": "code",
   "execution_count": 27,
   "metadata": {},
   "outputs": [
    {
     "name": "stdout",
     "output_type": "stream",
     "text": [
      "Null bytes: 11\n",
      "Key: 'BAA\\x00\\x00\\x00\\x00\\x00\\x00\\x00\\x00\\x00\\x00\\x00'\n"
     ]
    }
   ],
   "source": [
    "pwd = \"baA\"\n",
    "\n",
    "# Convert to uppercase\n",
    "pwd = pwd.upper()\n",
    "\n",
    "# Add null padding to fill 14 bytes\n",
    "null_bytes = 14 - len(pwd)\n",
    "print(\"Null bytes:\", null_bytes)\n",
    "bit_array = string2bits(pwd)\n",
    "for i in range(null_bytes * 8):\n",
    "    bit_array.append(0)\n",
    "key = bitarray2str(bit_array)\n",
    "print(\"Key: %r\" % key)\n",
    "\n",
    "# Add a zero after every 7 bits\n"
   ]
  },
  {
   "cell_type": "code",
   "execution_count": 11,
   "metadata": {},
   "outputs": [
    {
     "name": "stdout",
     "output_type": "stream",
     "text": [
      "Key: '\\x00\\x00\\x00\\x00\\x00\\x00\\x00\\x00'\n"
     ]
    }
   ],
   "source": [
    "null_bits = [0] * 64\n",
    "bit_array = bitarray(null_bits)\n",
    "key = bitarray2str(bit_array)\n",
    "print(\"Key: %r\" % key)"
   ]
  },
  {
   "cell_type": "code",
   "execution_count": 5,
   "metadata": {},
   "outputs": [],
   "source": [
    "text = \"KGS!@#$%\""
   ]
  },
  {
   "cell_type": "code",
   "execution_count": 6,
   "metadata": {},
   "outputs": [
    {
     "name": "stdout",
     "output_type": "stream",
     "text": [
      "Cipher: 'ªÓ´5µ\\x14\\x04î'\n"
     ]
    }
   ],
   "source": [
    "c = DES.encrypt(text, key, padding=False)\n",
    "print(\"Cipher: %r\" % c)"
   ]
  },
  {
   "cell_type": "code",
   "execution_count": 7,
   "metadata": {},
   "outputs": [
    {
     "data": {
      "text/plain": [
       "'KGS!@#$%'"
      ]
     },
     "execution_count": 7,
     "metadata": {},
     "output_type": "execute_result"
    }
   ],
   "source": [
    "DES.decrypt(c, key, padding=False)"
   ]
  },
  {
   "cell_type": "code",
   "execution_count": 8,
   "metadata": {},
   "outputs": [
    {
     "data": {
      "text/plain": [
       "'0xaad3b435b51404ee'"
      ]
     },
     "execution_count": 8,
     "metadata": {},
     "output_type": "execute_result"
    }
   ],
   "source": [
    "hex(bitarray2int(string2bits(c)))"
   ]
  },
  {
   "cell_type": "code",
   "execution_count": null,
   "metadata": {},
   "outputs": [],
   "source": []
  }
 ],
 "metadata": {
  "kernelspec": {
   "display_name": "Python 3",
   "language": "python",
   "name": "python3"
  },
  "language_info": {
   "codemirror_mode": {
    "name": "ipython",
    "version": 3
   },
   "file_extension": ".py",
   "mimetype": "text/x-python",
   "name": "python",
   "nbconvert_exporter": "python",
   "pygments_lexer": "ipython3",
   "version": "3.7.6"
  }
 },
 "nbformat": 4,
 "nbformat_minor": 4
}
