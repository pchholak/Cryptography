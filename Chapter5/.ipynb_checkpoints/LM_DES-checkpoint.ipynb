{
 "cells": [
  {
   "cell_type": "code",
   "execution_count": 1,
   "metadata": {},
   "outputs": [],
   "source": [
    "from bitarray import bitarray\n",
    "import sys"
   ]
  },
  {
   "cell_type": "code",
   "execution_count": 2,
   "metadata": {},
   "outputs": [],
   "source": [
    "sys.path.insert(1, '/home/chholak/Git/Cryptography/Chapter4')\n",
    "from des import DES, bitarray2int, bitarray2str"
   ]
  },
  {
   "cell_type": "code",
   "execution_count": 3,
   "metadata": {},
   "outputs": [],
   "source": [
    "def string2bits(string):\n",
    "    lst = []\n",
    "    for c in string:\n",
    "        bits = bin(ord(c))[2:]\n",
    "        bits = '00000000'[len(bits):] + bits\n",
    "        lst.extend([int(b) for b in bits])\n",
    "    return bitarray(lst)"
   ]
  },
  {
   "cell_type": "code",
   "execution_count": 4,
   "metadata": {},
   "outputs": [],
   "source": [
    "class lmdes:\n",
    "    \"\"\"\n",
    "    Microsoft LAN Manager password hashing using DES.\n",
    "    \"\"\"\n",
    "    def __init__(self, word):\n",
    "        self.text = \"KGS!@#$%\"\n",
    "        self.pwd = word\n",
    "        self.key1 = ''\n",
    "        self.key2 = ''\n",
    "        self.deskey = ''\n",
    "    \n",
    "    def _pad_key(self):\n",
    "        pwd = self.pwd.upper() # Convert to uppercase\n",
    "        bit_array = string2bits(pwd)\n",
    "        bits = [int(x) for x in bit_array.tolist()]\n",
    "        bits_exp = list(\"\".join(str(b) + '0' * (n % 7 == 6) \n",
    "                                 for n, b in enumerate(bits)))\n",
    "        bits_exp = [int(x) for x in bits_exp]\n",
    "        self.deskey = bitarray2str(bitarray(bits_exp))\n",
    "                \n",
    "    def _get_keys(self):\n",
    "        # Convert to uppercase\n",
    "        pwd = self.pwd.upper()\n",
    "        # Add null padding to fill 14 bytes and then after every 7 bits\n",
    "        null_bytes = 14 - len(pwd)\n",
    "        bit_array = string2bits(pwd)\n",
    "        for i in range(null_bytes * 8):\n",
    "            bit_array.append(0)\n",
    "        bits = [int(x) for x in bit_array.tolist()]\n",
    "        bits_exp = list(\"\".join(str(b) + '0' * (n % 7 == 6) \n",
    "                                 for n, b in enumerate(bits)))\n",
    "        bits_exp = [int(x) for x in bits_exp]\n",
    "        key = bitarray2str(bitarray(bits_exp))\n",
    "        self.key1, self.key2 = key[:8], key[8:]\n",
    "    \n",
    "    def hexdigest(self):\n",
    "        self._pad_key()\n",
    "        c = DES.encrypt(self.text, self.deskey, padding=False)\n",
    "        zeros = '0' * 16\n",
    "        h = hex(bitarray2int(string2bits(c)))[2:]\n",
    "        return zeros[len(h):] + h\n",
    "    \n",
    "    def generate_hash(self):\n",
    "        self._get_keys()\n",
    "        c1 = DES.encrypt(self.text, self.key1, padding=False)\n",
    "        c2 = DES.encrypt(self.text, self.key2, padding=False)\n",
    "        zeros = '0' * 16\n",
    "        h1 = hex(bitarray2int(string2bits(c1)))[2:]\n",
    "        h1 = zeros[len(h1):] + h1\n",
    "        h2 = hex(bitarray2int(string2bits(c2)))[2:]\n",
    "        h2 = zeros[len(h2):] + h2\n",
    "        return h1 + h2"
   ]
  },
  {
   "cell_type": "code",
   "execution_count": 7,
   "metadata": {},
   "outputs": [
    {
     "data": {
      "text/plain": [
       "'f90d9cb4aed08eceaad3b435b51404ee'"
      ]
     },
     "execution_count": 7,
     "metadata": {},
     "output_type": "execute_result"
    }
   ],
   "source": [
    "pwd = \"baAgJRJ\"\n",
    "text = \"KGS!@#$%\"\n",
    "# lmdes(pwd).hexdigest()\n",
    "lmdes(pwd).generate_hash()"
   ]
  },
  {
   "cell_type": "code",
   "execution_count": null,
   "metadata": {},
   "outputs": [],
   "source": []
  }
 ],
 "metadata": {
  "kernelspec": {
   "display_name": "Python 3",
   "language": "python",
   "name": "python3"
  },
  "language_info": {
   "codemirror_mode": {
    "name": "ipython",
    "version": 3
   },
   "file_extension": ".py",
   "mimetype": "text/x-python",
   "name": "python",
   "nbconvert_exporter": "python",
   "pygments_lexer": "ipython3",
   "version": "3.7.6"
  }
 },
 "nbformat": 4,
 "nbformat_minor": 4
}
